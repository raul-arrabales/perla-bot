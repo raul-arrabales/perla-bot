{
 "cells": [
  {
   "cell_type": "markdown",
   "metadata": {},
   "source": [
    "# Perla Bot | Analytics\n",
    "## Correlational and inferential analysis\n",
    "### Perla beta 2, Aug 2020, raul@psicobotica.com \n",
    "\n",
    "<hr>\n",
    "About Perla: <a herf=\"https://www.psicobotica.com/productos/psicologia-clinica/psicobotica-perla/\">Perla Homepage at Psicobōtica</a>\n",
    "<hr> \n"
   ]
  },
  {
   "cell_type": "markdown",
   "metadata": {},
   "source": [
    "## Dataset with classes - load from file\n",
    "(direct load from github)\n",
    "\n"
   ]
  },
  {
   "cell_type": "code",
   "execution_count": 1,
   "metadata": {},
   "outputs": [],
   "source": [
    "# Loading the table (CSV)\n",
    "\n",
    "import pandas as pd \n",
    "\n",
    "# Using beta 2 dataset 3 version (with classses): \n",
    "perla_dataset_path = \"https://raw.githubusercontent.com/raul-arrabales/perla-bot/master/data/Perla-beta2-ds3-classes.csv\"\n",
    "\n",
    "perla_df = pd.read_csv(perla_dataset_path, header=0, delimiter=\";\") "
   ]
  },
  {
   "cell_type": "code",
   "execution_count": 2,
   "metadata": {},
   "outputs": [
    {
     "data": {
      "text/html": [
       "<div>\n",
       "<style scoped>\n",
       "    .dataframe tbody tr th:only-of-type {\n",
       "        vertical-align: middle;\n",
       "    }\n",
       "\n",
       "    .dataframe tbody tr th {\n",
       "        vertical-align: top;\n",
       "    }\n",
       "\n",
       "    .dataframe thead th {\n",
       "        text-align: right;\n",
       "    }\n",
       "</style>\n",
       "<table border=\"1\" class=\"dataframe\">\n",
       "  <thead>\n",
       "    <tr style=\"text-align: right;\">\n",
       "      <th></th>\n",
       "      <th>PI1</th>\n",
       "      <th>PI2</th>\n",
       "      <th>PI3</th>\n",
       "      <th>PI4</th>\n",
       "      <th>PI5</th>\n",
       "      <th>PI6</th>\n",
       "      <th>PI7</th>\n",
       "      <th>PI8</th>\n",
       "      <th>PI9</th>\n",
       "      <th>PPHQ9</th>\n",
       "      <th>...</th>\n",
       "      <th>I6</th>\n",
       "      <th>I7</th>\n",
       "      <th>I8</th>\n",
       "      <th>I9</th>\n",
       "      <th>Gender</th>\n",
       "      <th>Age</th>\n",
       "      <th>Code</th>\n",
       "      <th>Delay</th>\n",
       "      <th>PDepressed</th>\n",
       "      <th>Depressed</th>\n",
       "    </tr>\n",
       "  </thead>\n",
       "  <tbody>\n",
       "    <tr>\n",
       "      <th>0</th>\n",
       "      <td>0</td>\n",
       "      <td>1</td>\n",
       "      <td>0</td>\n",
       "      <td>2</td>\n",
       "      <td>0</td>\n",
       "      <td>0</td>\n",
       "      <td>0</td>\n",
       "      <td>0</td>\n",
       "      <td>0</td>\n",
       "      <td>3</td>\n",
       "      <td>...</td>\n",
       "      <td>0</td>\n",
       "      <td>0</td>\n",
       "      <td>0</td>\n",
       "      <td>0</td>\n",
       "      <td>2</td>\n",
       "      <td>44</td>\n",
       "      <td>4ba596c4aefd8188d00162bfef57967c</td>\n",
       "      <td>0</td>\n",
       "      <td>0</td>\n",
       "      <td>0</td>\n",
       "    </tr>\n",
       "    <tr>\n",
       "      <th>1</th>\n",
       "      <td>0</td>\n",
       "      <td>3</td>\n",
       "      <td>3</td>\n",
       "      <td>3</td>\n",
       "      <td>0</td>\n",
       "      <td>3</td>\n",
       "      <td>0</td>\n",
       "      <td>0</td>\n",
       "      <td>0</td>\n",
       "      <td>12</td>\n",
       "      <td>...</td>\n",
       "      <td>3</td>\n",
       "      <td>0</td>\n",
       "      <td>0</td>\n",
       "      <td>0</td>\n",
       "      <td>1</td>\n",
       "      <td>43</td>\n",
       "      <td>fef2bf388aa21eace80757369757689c</td>\n",
       "      <td>1</td>\n",
       "      <td>1</td>\n",
       "      <td>1</td>\n",
       "    </tr>\n",
       "    <tr>\n",
       "      <th>2</th>\n",
       "      <td>1</td>\n",
       "      <td>1</td>\n",
       "      <td>1</td>\n",
       "      <td>1</td>\n",
       "      <td>1</td>\n",
       "      <td>0</td>\n",
       "      <td>0</td>\n",
       "      <td>0</td>\n",
       "      <td>0</td>\n",
       "      <td>5</td>\n",
       "      <td>...</td>\n",
       "      <td>0</td>\n",
       "      <td>0</td>\n",
       "      <td>0</td>\n",
       "      <td>0</td>\n",
       "      <td>2</td>\n",
       "      <td>39</td>\n",
       "      <td>00feb0b1986f985dab9ba216069c7bfe</td>\n",
       "      <td>2</td>\n",
       "      <td>0</td>\n",
       "      <td>0</td>\n",
       "    </tr>\n",
       "    <tr>\n",
       "      <th>3</th>\n",
       "      <td>0</td>\n",
       "      <td>0</td>\n",
       "      <td>1</td>\n",
       "      <td>0</td>\n",
       "      <td>0</td>\n",
       "      <td>0</td>\n",
       "      <td>1</td>\n",
       "      <td>0</td>\n",
       "      <td>0</td>\n",
       "      <td>2</td>\n",
       "      <td>...</td>\n",
       "      <td>0</td>\n",
       "      <td>0</td>\n",
       "      <td>0</td>\n",
       "      <td>0</td>\n",
       "      <td>2</td>\n",
       "      <td>37</td>\n",
       "      <td>b712daeaf10b3aac08eb2a88bae125eb</td>\n",
       "      <td>1</td>\n",
       "      <td>0</td>\n",
       "      <td>0</td>\n",
       "    </tr>\n",
       "    <tr>\n",
       "      <th>4</th>\n",
       "      <td>0</td>\n",
       "      <td>0</td>\n",
       "      <td>0</td>\n",
       "      <td>1</td>\n",
       "      <td>0</td>\n",
       "      <td>1</td>\n",
       "      <td>0</td>\n",
       "      <td>0</td>\n",
       "      <td>0</td>\n",
       "      <td>2</td>\n",
       "      <td>...</td>\n",
       "      <td>1</td>\n",
       "      <td>0</td>\n",
       "      <td>0</td>\n",
       "      <td>0</td>\n",
       "      <td>1</td>\n",
       "      <td>43</td>\n",
       "      <td>608af5455da8c250a87f81a5ed5c1942</td>\n",
       "      <td>1</td>\n",
       "      <td>0</td>\n",
       "      <td>0</td>\n",
       "    </tr>\n",
       "  </tbody>\n",
       "</table>\n",
       "<p>5 rows × 26 columns</p>\n",
       "</div>"
      ],
      "text/plain": [
       "   PI1  PI2  PI3  PI4  PI5  PI6  PI7  PI8  PI9  PPHQ9  ...  I6  I7  I8  I9  \\\n",
       "0    0    1    0    2    0    0    0    0    0      3  ...   0   0   0   0   \n",
       "1    0    3    3    3    0    3    0    0    0     12  ...   3   0   0   0   \n",
       "2    1    1    1    1    1    0    0    0    0      5  ...   0   0   0   0   \n",
       "3    0    0    1    0    0    0    1    0    0      2  ...   0   0   0   0   \n",
       "4    0    0    0    1    0    1    0    0    0      2  ...   1   0   0   0   \n",
       "\n",
       "   Gender  Age                              Code  Delay  PDepressed  Depressed  \n",
       "0       2   44  4ba596c4aefd8188d00162bfef57967c      0           0          0  \n",
       "1       1   43  fef2bf388aa21eace80757369757689c      1           1          1  \n",
       "2       2   39  00feb0b1986f985dab9ba216069c7bfe      2           0          0  \n",
       "3       2   37  b712daeaf10b3aac08eb2a88bae125eb      1           0          0  \n",
       "4       1   43  608af5455da8c250a87f81a5ed5c1942      1           0          0  \n",
       "\n",
       "[5 rows x 26 columns]"
      ]
     },
     "execution_count": 2,
     "metadata": {},
     "output_type": "execute_result"
    }
   ],
   "source": [
    "# Checking data load\n",
    "perla_df.head()"
   ]
  },
  {
   "cell_type": "code",
   "execution_count": 3,
   "metadata": {},
   "outputs": [
    {
     "data": {
      "text/plain": [
       "PI1            int64\n",
       "PI2            int64\n",
       "PI3            int64\n",
       "PI4            int64\n",
       "PI5            int64\n",
       "PI6            int64\n",
       "PI7            int64\n",
       "PI8            int64\n",
       "PI9            int64\n",
       "PPHQ9          int64\n",
       "PHQ9           int64\n",
       "I1             int64\n",
       "I2             int64\n",
       "I3             int64\n",
       "I4             int64\n",
       "I5             int64\n",
       "I6             int64\n",
       "I7             int64\n",
       "I8             int64\n",
       "I9             int64\n",
       "Gender         int64\n",
       "Age            int64\n",
       "Code          object\n",
       "Delay          int64\n",
       "PDepressed     int64\n",
       "Depressed      int64\n",
       "dtype: object"
      ]
     },
     "execution_count": 3,
     "metadata": {},
     "output_type": "execute_result"
    }
   ],
   "source": [
    "# Checking types\n",
    "perla_df.dtypes"
   ]
  },
  {
   "cell_type": "code",
   "execution_count": 4,
   "metadata": {},
   "outputs": [
    {
     "data": {
      "text/plain": [
       "108"
      ]
     },
     "execution_count": 4,
     "metadata": {},
     "output_type": "execute_result"
    }
   ],
   "source": [
    "# Check number of qualified successfully anonymized participants\n",
    "perla_df.Code.count()"
   ]
  },
  {
   "cell_type": "code",
   "execution_count": 5,
   "metadata": {},
   "outputs": [
    {
     "data": {
      "text/html": [
       "<div>\n",
       "<style scoped>\n",
       "    .dataframe tbody tr th:only-of-type {\n",
       "        vertical-align: middle;\n",
       "    }\n",
       "\n",
       "    .dataframe tbody tr th {\n",
       "        vertical-align: top;\n",
       "    }\n",
       "\n",
       "    .dataframe thead th {\n",
       "        text-align: right;\n",
       "    }\n",
       "</style>\n",
       "<table border=\"1\" class=\"dataframe\">\n",
       "  <thead>\n",
       "    <tr style=\"text-align: right;\">\n",
       "      <th></th>\n",
       "      <th>PI1</th>\n",
       "      <th>PI2</th>\n",
       "      <th>PI3</th>\n",
       "      <th>PI4</th>\n",
       "      <th>PI5</th>\n",
       "      <th>PI6</th>\n",
       "      <th>PI7</th>\n",
       "      <th>PI8</th>\n",
       "      <th>PI9</th>\n",
       "      <th>PPHQ9</th>\n",
       "      <th>...</th>\n",
       "      <th>I6</th>\n",
       "      <th>I7</th>\n",
       "      <th>I8</th>\n",
       "      <th>I9</th>\n",
       "      <th>Gender</th>\n",
       "      <th>Age</th>\n",
       "      <th>Code</th>\n",
       "      <th>Delay</th>\n",
       "      <th>PDepressed</th>\n",
       "      <th>Depressed</th>\n",
       "    </tr>\n",
       "  </thead>\n",
       "  <tbody>\n",
       "  </tbody>\n",
       "</table>\n",
       "<p>0 rows × 26 columns</p>\n",
       "</div>"
      ],
      "text/plain": [
       "Empty DataFrame\n",
       "Columns: [PI1, PI2, PI3, PI4, PI5, PI6, PI7, PI8, PI9, PPHQ9, PHQ9, I1, I2, I3, I4, I5, I6, I7, I8, I9, Gender, Age, Code, Delay, PDepressed, Depressed]\n",
       "Index: []\n",
       "\n",
       "[0 rows x 26 columns]"
      ]
     },
     "execution_count": 5,
     "metadata": {},
     "output_type": "execute_result"
    }
   ],
   "source": [
    "# Check Nulls and NaNs\n",
    "perla_df[perla_df.isnull().any(axis=1)]"
   ]
  },
  {
   "cell_type": "markdown",
   "metadata": {},
   "source": [
    "## Correlational analysis\n",
    "Considering items scores as continuous variables"
   ]
  },
  {
   "cell_type": "code",
   "execution_count": 6,
   "metadata": {},
   "outputs": [],
   "source": [
    "import seaborn as sns\n",
    "import numpy as np\n",
    "from scipy.stats import f_oneway\n",
    "\n",
    "import matplotlib.pyplot as plt"
   ]
  },
  {
   "cell_type": "markdown",
   "metadata": {},
   "source": [
    "### Items correlation"
   ]
  },
  {
   "cell_type": "code",
   "execution_count": 7,
   "metadata": {},
   "outputs": [],
   "source": [
    "# Correlation matrix for items\n",
    "# PI(x) are the PHQ-9 items reported by Perla.\n",
    "# I(x) are the PHQ-9 items self-reported.\n",
    "items_corr = perla_df[[\"PI1\", \"PI2\", \"PI3\", \"PI4\", \"PI5\", \"PI6\", \"PI7\", \"PI8\", \"PI9\",\n",
    "                      \"I1\", \"I2\", \"I3\", \"I4\", \"I5\", \"I6\", \"I7\", \"I8\", \"I9\"]].corr()"
   ]
  },
  {
   "cell_type": "code",
   "execution_count": 8,
   "metadata": {},
   "outputs": [
    {
     "data": {
      "text/html": [
       "<div>\n",
       "<style scoped>\n",
       "    .dataframe tbody tr th:only-of-type {\n",
       "        vertical-align: middle;\n",
       "    }\n",
       "\n",
       "    .dataframe tbody tr th {\n",
       "        vertical-align: top;\n",
       "    }\n",
       "\n",
       "    .dataframe thead th {\n",
       "        text-align: right;\n",
       "    }\n",
       "</style>\n",
       "<table border=\"1\" class=\"dataframe\">\n",
       "  <thead>\n",
       "    <tr style=\"text-align: right;\">\n",
       "      <th></th>\n",
       "      <th>PI1</th>\n",
       "      <th>PI2</th>\n",
       "      <th>PI3</th>\n",
       "      <th>PI4</th>\n",
       "      <th>PI5</th>\n",
       "      <th>PI6</th>\n",
       "      <th>PI7</th>\n",
       "      <th>PI8</th>\n",
       "      <th>PI9</th>\n",
       "      <th>I1</th>\n",
       "      <th>I2</th>\n",
       "      <th>I3</th>\n",
       "      <th>I4</th>\n",
       "      <th>I5</th>\n",
       "      <th>I6</th>\n",
       "      <th>I7</th>\n",
       "      <th>I8</th>\n",
       "      <th>I9</th>\n",
       "    </tr>\n",
       "  </thead>\n",
       "  <tbody>\n",
       "    <tr>\n",
       "      <th>PI1</th>\n",
       "      <td>1.000000</td>\n",
       "      <td>0.570383</td>\n",
       "      <td>0.268084</td>\n",
       "      <td>0.477970</td>\n",
       "      <td>0.315552</td>\n",
       "      <td>0.461331</td>\n",
       "      <td>0.348453</td>\n",
       "      <td>0.346986</td>\n",
       "      <td>0.371463</td>\n",
       "      <td>0.648774</td>\n",
       "      <td>0.677124</td>\n",
       "      <td>0.342421</td>\n",
       "      <td>0.506993</td>\n",
       "      <td>0.441679</td>\n",
       "      <td>0.579507</td>\n",
       "      <td>0.438064</td>\n",
       "      <td>0.324460</td>\n",
       "      <td>0.368631</td>\n",
       "    </tr>\n",
       "    <tr>\n",
       "      <th>PI2</th>\n",
       "      <td>0.570383</td>\n",
       "      <td>1.000000</td>\n",
       "      <td>0.362386</td>\n",
       "      <td>0.406710</td>\n",
       "      <td>0.298109</td>\n",
       "      <td>0.616818</td>\n",
       "      <td>0.135564</td>\n",
       "      <td>0.410627</td>\n",
       "      <td>0.362641</td>\n",
       "      <td>0.458833</td>\n",
       "      <td>0.683872</td>\n",
       "      <td>0.463641</td>\n",
       "      <td>0.549385</td>\n",
       "      <td>0.412595</td>\n",
       "      <td>0.673587</td>\n",
       "      <td>0.353404</td>\n",
       "      <td>0.323145</td>\n",
       "      <td>0.408193</td>\n",
       "    </tr>\n",
       "    <tr>\n",
       "      <th>PI3</th>\n",
       "      <td>0.268084</td>\n",
       "      <td>0.362386</td>\n",
       "      <td>1.000000</td>\n",
       "      <td>0.338536</td>\n",
       "      <td>0.082679</td>\n",
       "      <td>0.390772</td>\n",
       "      <td>0.155937</td>\n",
       "      <td>0.276764</td>\n",
       "      <td>0.059914</td>\n",
       "      <td>0.251508</td>\n",
       "      <td>0.410433</td>\n",
       "      <td>0.789213</td>\n",
       "      <td>0.338009</td>\n",
       "      <td>0.306743</td>\n",
       "      <td>0.366209</td>\n",
       "      <td>0.177804</td>\n",
       "      <td>0.149885</td>\n",
       "      <td>0.173152</td>\n",
       "    </tr>\n",
       "    <tr>\n",
       "      <th>PI4</th>\n",
       "      <td>0.477970</td>\n",
       "      <td>0.406710</td>\n",
       "      <td>0.338536</td>\n",
       "      <td>1.000000</td>\n",
       "      <td>0.371512</td>\n",
       "      <td>0.545446</td>\n",
       "      <td>0.229304</td>\n",
       "      <td>0.266831</td>\n",
       "      <td>0.176265</td>\n",
       "      <td>0.452402</td>\n",
       "      <td>0.493696</td>\n",
       "      <td>0.341098</td>\n",
       "      <td>0.670296</td>\n",
       "      <td>0.372565</td>\n",
       "      <td>0.554068</td>\n",
       "      <td>0.309250</td>\n",
       "      <td>0.240480</td>\n",
       "      <td>0.152979</td>\n",
       "    </tr>\n",
       "    <tr>\n",
       "      <th>PI5</th>\n",
       "      <td>0.315552</td>\n",
       "      <td>0.298109</td>\n",
       "      <td>0.082679</td>\n",
       "      <td>0.371512</td>\n",
       "      <td>1.000000</td>\n",
       "      <td>0.305147</td>\n",
       "      <td>0.226445</td>\n",
       "      <td>0.321459</td>\n",
       "      <td>0.249727</td>\n",
       "      <td>0.216089</td>\n",
       "      <td>0.369378</td>\n",
       "      <td>0.247094</td>\n",
       "      <td>0.406378</td>\n",
       "      <td>0.627432</td>\n",
       "      <td>0.357134</td>\n",
       "      <td>0.370679</td>\n",
       "      <td>0.486973</td>\n",
       "      <td>0.191476</td>\n",
       "    </tr>\n",
       "    <tr>\n",
       "      <th>PI6</th>\n",
       "      <td>0.461331</td>\n",
       "      <td>0.616818</td>\n",
       "      <td>0.390772</td>\n",
       "      <td>0.545446</td>\n",
       "      <td>0.305147</td>\n",
       "      <td>1.000000</td>\n",
       "      <td>0.294841</td>\n",
       "      <td>0.405403</td>\n",
       "      <td>0.388040</td>\n",
       "      <td>0.435017</td>\n",
       "      <td>0.602144</td>\n",
       "      <td>0.486682</td>\n",
       "      <td>0.492265</td>\n",
       "      <td>0.509081</td>\n",
       "      <td>0.761859</td>\n",
       "      <td>0.450304</td>\n",
       "      <td>0.317352</td>\n",
       "      <td>0.404654</td>\n",
       "    </tr>\n",
       "    <tr>\n",
       "      <th>PI7</th>\n",
       "      <td>0.348453</td>\n",
       "      <td>0.135564</td>\n",
       "      <td>0.155937</td>\n",
       "      <td>0.229304</td>\n",
       "      <td>0.226445</td>\n",
       "      <td>0.294841</td>\n",
       "      <td>1.000000</td>\n",
       "      <td>0.158453</td>\n",
       "      <td>0.280550</td>\n",
       "      <td>0.380491</td>\n",
       "      <td>0.354721</td>\n",
       "      <td>0.112667</td>\n",
       "      <td>0.288258</td>\n",
       "      <td>0.349728</td>\n",
       "      <td>0.370624</td>\n",
       "      <td>0.624765</td>\n",
       "      <td>0.263633</td>\n",
       "      <td>0.335290</td>\n",
       "    </tr>\n",
       "    <tr>\n",
       "      <th>PI8</th>\n",
       "      <td>0.346986</td>\n",
       "      <td>0.410627</td>\n",
       "      <td>0.276764</td>\n",
       "      <td>0.266831</td>\n",
       "      <td>0.321459</td>\n",
       "      <td>0.405403</td>\n",
       "      <td>0.158453</td>\n",
       "      <td>1.000000</td>\n",
       "      <td>0.300444</td>\n",
       "      <td>0.274372</td>\n",
       "      <td>0.349073</td>\n",
       "      <td>0.353237</td>\n",
       "      <td>0.374174</td>\n",
       "      <td>0.460323</td>\n",
       "      <td>0.378821</td>\n",
       "      <td>0.299509</td>\n",
       "      <td>0.465562</td>\n",
       "      <td>0.306368</td>\n",
       "    </tr>\n",
       "    <tr>\n",
       "      <th>PI9</th>\n",
       "      <td>0.371463</td>\n",
       "      <td>0.362641</td>\n",
       "      <td>0.059914</td>\n",
       "      <td>0.176265</td>\n",
       "      <td>0.249727</td>\n",
       "      <td>0.388040</td>\n",
       "      <td>0.280550</td>\n",
       "      <td>0.300444</td>\n",
       "      <td>1.000000</td>\n",
       "      <td>0.261886</td>\n",
       "      <td>0.541019</td>\n",
       "      <td>0.130464</td>\n",
       "      <td>0.269408</td>\n",
       "      <td>0.297285</td>\n",
       "      <td>0.489158</td>\n",
       "      <td>0.459968</td>\n",
       "      <td>0.450021</td>\n",
       "      <td>0.858035</td>\n",
       "    </tr>\n",
       "    <tr>\n",
       "      <th>I1</th>\n",
       "      <td>0.648774</td>\n",
       "      <td>0.458833</td>\n",
       "      <td>0.251508</td>\n",
       "      <td>0.452402</td>\n",
       "      <td>0.216089</td>\n",
       "      <td>0.435017</td>\n",
       "      <td>0.380491</td>\n",
       "      <td>0.274372</td>\n",
       "      <td>0.261886</td>\n",
       "      <td>1.000000</td>\n",
       "      <td>0.625807</td>\n",
       "      <td>0.278532</td>\n",
       "      <td>0.454932</td>\n",
       "      <td>0.270952</td>\n",
       "      <td>0.490984</td>\n",
       "      <td>0.422827</td>\n",
       "      <td>0.281318</td>\n",
       "      <td>0.315184</td>\n",
       "    </tr>\n",
       "    <tr>\n",
       "      <th>I2</th>\n",
       "      <td>0.677124</td>\n",
       "      <td>0.683872</td>\n",
       "      <td>0.410433</td>\n",
       "      <td>0.493696</td>\n",
       "      <td>0.369378</td>\n",
       "      <td>0.602144</td>\n",
       "      <td>0.354721</td>\n",
       "      <td>0.349073</td>\n",
       "      <td>0.541019</td>\n",
       "      <td>0.625807</td>\n",
       "      <td>1.000000</td>\n",
       "      <td>0.457345</td>\n",
       "      <td>0.568077</td>\n",
       "      <td>0.511620</td>\n",
       "      <td>0.697547</td>\n",
       "      <td>0.518143</td>\n",
       "      <td>0.423191</td>\n",
       "      <td>0.587832</td>\n",
       "    </tr>\n",
       "    <tr>\n",
       "      <th>I3</th>\n",
       "      <td>0.342421</td>\n",
       "      <td>0.463641</td>\n",
       "      <td>0.789213</td>\n",
       "      <td>0.341098</td>\n",
       "      <td>0.247094</td>\n",
       "      <td>0.486682</td>\n",
       "      <td>0.112667</td>\n",
       "      <td>0.353237</td>\n",
       "      <td>0.130464</td>\n",
       "      <td>0.278532</td>\n",
       "      <td>0.457345</td>\n",
       "      <td>1.000000</td>\n",
       "      <td>0.390538</td>\n",
       "      <td>0.475048</td>\n",
       "      <td>0.443985</td>\n",
       "      <td>0.258131</td>\n",
       "      <td>0.242541</td>\n",
       "      <td>0.207598</td>\n",
       "    </tr>\n",
       "    <tr>\n",
       "      <th>I4</th>\n",
       "      <td>0.506993</td>\n",
       "      <td>0.549385</td>\n",
       "      <td>0.338009</td>\n",
       "      <td>0.670296</td>\n",
       "      <td>0.406378</td>\n",
       "      <td>0.492265</td>\n",
       "      <td>0.288258</td>\n",
       "      <td>0.374174</td>\n",
       "      <td>0.269408</td>\n",
       "      <td>0.454932</td>\n",
       "      <td>0.568077</td>\n",
       "      <td>0.390538</td>\n",
       "      <td>1.000000</td>\n",
       "      <td>0.479089</td>\n",
       "      <td>0.637859</td>\n",
       "      <td>0.402068</td>\n",
       "      <td>0.422827</td>\n",
       "      <td>0.296601</td>\n",
       "    </tr>\n",
       "    <tr>\n",
       "      <th>I5</th>\n",
       "      <td>0.441679</td>\n",
       "      <td>0.412595</td>\n",
       "      <td>0.306743</td>\n",
       "      <td>0.372565</td>\n",
       "      <td>0.627432</td>\n",
       "      <td>0.509081</td>\n",
       "      <td>0.349728</td>\n",
       "      <td>0.460323</td>\n",
       "      <td>0.297285</td>\n",
       "      <td>0.270952</td>\n",
       "      <td>0.511620</td>\n",
       "      <td>0.475048</td>\n",
       "      <td>0.479089</td>\n",
       "      <td>1.000000</td>\n",
       "      <td>0.496186</td>\n",
       "      <td>0.501570</td>\n",
       "      <td>0.522922</td>\n",
       "      <td>0.354943</td>\n",
       "    </tr>\n",
       "    <tr>\n",
       "      <th>I6</th>\n",
       "      <td>0.579507</td>\n",
       "      <td>0.673587</td>\n",
       "      <td>0.366209</td>\n",
       "      <td>0.554068</td>\n",
       "      <td>0.357134</td>\n",
       "      <td>0.761859</td>\n",
       "      <td>0.370624</td>\n",
       "      <td>0.378821</td>\n",
       "      <td>0.489158</td>\n",
       "      <td>0.490984</td>\n",
       "      <td>0.697547</td>\n",
       "      <td>0.443985</td>\n",
       "      <td>0.637859</td>\n",
       "      <td>0.496186</td>\n",
       "      <td>1.000000</td>\n",
       "      <td>0.546794</td>\n",
       "      <td>0.414160</td>\n",
       "      <td>0.536844</td>\n",
       "    </tr>\n",
       "    <tr>\n",
       "      <th>I7</th>\n",
       "      <td>0.438064</td>\n",
       "      <td>0.353404</td>\n",
       "      <td>0.177804</td>\n",
       "      <td>0.309250</td>\n",
       "      <td>0.370679</td>\n",
       "      <td>0.450304</td>\n",
       "      <td>0.624765</td>\n",
       "      <td>0.299509</td>\n",
       "      <td>0.459968</td>\n",
       "      <td>0.422827</td>\n",
       "      <td>0.518143</td>\n",
       "      <td>0.258131</td>\n",
       "      <td>0.402068</td>\n",
       "      <td>0.501570</td>\n",
       "      <td>0.546794</td>\n",
       "      <td>1.000000</td>\n",
       "      <td>0.537797</td>\n",
       "      <td>0.479446</td>\n",
       "    </tr>\n",
       "    <tr>\n",
       "      <th>I8</th>\n",
       "      <td>0.324460</td>\n",
       "      <td>0.323145</td>\n",
       "      <td>0.149885</td>\n",
       "      <td>0.240480</td>\n",
       "      <td>0.486973</td>\n",
       "      <td>0.317352</td>\n",
       "      <td>0.263633</td>\n",
       "      <td>0.465562</td>\n",
       "      <td>0.450021</td>\n",
       "      <td>0.281318</td>\n",
       "      <td>0.423191</td>\n",
       "      <td>0.242541</td>\n",
       "      <td>0.422827</td>\n",
       "      <td>0.522922</td>\n",
       "      <td>0.414160</td>\n",
       "      <td>0.537797</td>\n",
       "      <td>1.000000</td>\n",
       "      <td>0.472315</td>\n",
       "    </tr>\n",
       "    <tr>\n",
       "      <th>I9</th>\n",
       "      <td>0.368631</td>\n",
       "      <td>0.408193</td>\n",
       "      <td>0.173152</td>\n",
       "      <td>0.152979</td>\n",
       "      <td>0.191476</td>\n",
       "      <td>0.404654</td>\n",
       "      <td>0.335290</td>\n",
       "      <td>0.306368</td>\n",
       "      <td>0.858035</td>\n",
       "      <td>0.315184</td>\n",
       "      <td>0.587832</td>\n",
       "      <td>0.207598</td>\n",
       "      <td>0.296601</td>\n",
       "      <td>0.354943</td>\n",
       "      <td>0.536844</td>\n",
       "      <td>0.479446</td>\n",
       "      <td>0.472315</td>\n",
       "      <td>1.000000</td>\n",
       "    </tr>\n",
       "  </tbody>\n",
       "</table>\n",
       "</div>"
      ],
      "text/plain": [
       "          PI1       PI2       PI3       PI4       PI5       PI6       PI7  \\\n",
       "PI1  1.000000  0.570383  0.268084  0.477970  0.315552  0.461331  0.348453   \n",
       "PI2  0.570383  1.000000  0.362386  0.406710  0.298109  0.616818  0.135564   \n",
       "PI3  0.268084  0.362386  1.000000  0.338536  0.082679  0.390772  0.155937   \n",
       "PI4  0.477970  0.406710  0.338536  1.000000  0.371512  0.545446  0.229304   \n",
       "PI5  0.315552  0.298109  0.082679  0.371512  1.000000  0.305147  0.226445   \n",
       "PI6  0.461331  0.616818  0.390772  0.545446  0.305147  1.000000  0.294841   \n",
       "PI7  0.348453  0.135564  0.155937  0.229304  0.226445  0.294841  1.000000   \n",
       "PI8  0.346986  0.410627  0.276764  0.266831  0.321459  0.405403  0.158453   \n",
       "PI9  0.371463  0.362641  0.059914  0.176265  0.249727  0.388040  0.280550   \n",
       "I1   0.648774  0.458833  0.251508  0.452402  0.216089  0.435017  0.380491   \n",
       "I2   0.677124  0.683872  0.410433  0.493696  0.369378  0.602144  0.354721   \n",
       "I3   0.342421  0.463641  0.789213  0.341098  0.247094  0.486682  0.112667   \n",
       "I4   0.506993  0.549385  0.338009  0.670296  0.406378  0.492265  0.288258   \n",
       "I5   0.441679  0.412595  0.306743  0.372565  0.627432  0.509081  0.349728   \n",
       "I6   0.579507  0.673587  0.366209  0.554068  0.357134  0.761859  0.370624   \n",
       "I7   0.438064  0.353404  0.177804  0.309250  0.370679  0.450304  0.624765   \n",
       "I8   0.324460  0.323145  0.149885  0.240480  0.486973  0.317352  0.263633   \n",
       "I9   0.368631  0.408193  0.173152  0.152979  0.191476  0.404654  0.335290   \n",
       "\n",
       "          PI8       PI9        I1        I2        I3        I4        I5  \\\n",
       "PI1  0.346986  0.371463  0.648774  0.677124  0.342421  0.506993  0.441679   \n",
       "PI2  0.410627  0.362641  0.458833  0.683872  0.463641  0.549385  0.412595   \n",
       "PI3  0.276764  0.059914  0.251508  0.410433  0.789213  0.338009  0.306743   \n",
       "PI4  0.266831  0.176265  0.452402  0.493696  0.341098  0.670296  0.372565   \n",
       "PI5  0.321459  0.249727  0.216089  0.369378  0.247094  0.406378  0.627432   \n",
       "PI6  0.405403  0.388040  0.435017  0.602144  0.486682  0.492265  0.509081   \n",
       "PI7  0.158453  0.280550  0.380491  0.354721  0.112667  0.288258  0.349728   \n",
       "PI8  1.000000  0.300444  0.274372  0.349073  0.353237  0.374174  0.460323   \n",
       "PI9  0.300444  1.000000  0.261886  0.541019  0.130464  0.269408  0.297285   \n",
       "I1   0.274372  0.261886  1.000000  0.625807  0.278532  0.454932  0.270952   \n",
       "I2   0.349073  0.541019  0.625807  1.000000  0.457345  0.568077  0.511620   \n",
       "I3   0.353237  0.130464  0.278532  0.457345  1.000000  0.390538  0.475048   \n",
       "I4   0.374174  0.269408  0.454932  0.568077  0.390538  1.000000  0.479089   \n",
       "I5   0.460323  0.297285  0.270952  0.511620  0.475048  0.479089  1.000000   \n",
       "I6   0.378821  0.489158  0.490984  0.697547  0.443985  0.637859  0.496186   \n",
       "I7   0.299509  0.459968  0.422827  0.518143  0.258131  0.402068  0.501570   \n",
       "I8   0.465562  0.450021  0.281318  0.423191  0.242541  0.422827  0.522922   \n",
       "I9   0.306368  0.858035  0.315184  0.587832  0.207598  0.296601  0.354943   \n",
       "\n",
       "           I6        I7        I8        I9  \n",
       "PI1  0.579507  0.438064  0.324460  0.368631  \n",
       "PI2  0.673587  0.353404  0.323145  0.408193  \n",
       "PI3  0.366209  0.177804  0.149885  0.173152  \n",
       "PI4  0.554068  0.309250  0.240480  0.152979  \n",
       "PI5  0.357134  0.370679  0.486973  0.191476  \n",
       "PI6  0.761859  0.450304  0.317352  0.404654  \n",
       "PI7  0.370624  0.624765  0.263633  0.335290  \n",
       "PI8  0.378821  0.299509  0.465562  0.306368  \n",
       "PI9  0.489158  0.459968  0.450021  0.858035  \n",
       "I1   0.490984  0.422827  0.281318  0.315184  \n",
       "I2   0.697547  0.518143  0.423191  0.587832  \n",
       "I3   0.443985  0.258131  0.242541  0.207598  \n",
       "I4   0.637859  0.402068  0.422827  0.296601  \n",
       "I5   0.496186  0.501570  0.522922  0.354943  \n",
       "I6   1.000000  0.546794  0.414160  0.536844  \n",
       "I7   0.546794  1.000000  0.537797  0.479446  \n",
       "I8   0.414160  0.537797  1.000000  0.472315  \n",
       "I9   0.536844  0.479446  0.472315  1.000000  "
      ]
     },
     "execution_count": 8,
     "metadata": {},
     "output_type": "execute_result"
    }
   ],
   "source": [
    "items_corr"
   ]
  },
  {
   "cell_type": "code",
   "execution_count": 9,
   "metadata": {},
   "outputs": [
    {
     "data": {
      "text/html": [
       "<style  type=\"text/css\" >\n",
       "    #T_dd6a93ee_e868_11ea_99c9_bd1473c30158row0_col0 {\n",
       "            background-color:  #0000ff;\n",
       "            color:  #f1f1f1;\n",
       "        }    #T_dd6a93ee_e868_11ea_99c9_bd1473c30158row0_col1 {\n",
       "            background-color:  #7272ff;\n",
       "            color:  #000000;\n",
       "        }    #T_dd6a93ee_e868_11ea_99c9_bd1473c30158row0_col2 {\n",
       "            background-color:  #b3b3ff;\n",
       "            color:  #000000;\n",
       "        }    #T_dd6a93ee_e868_11ea_99c9_bd1473c30158row0_col3 {\n",
       "            background-color:  #8d8dff;\n",
       "            color:  #000000;\n",
       "        }    #T_dd6a93ee_e868_11ea_99c9_bd1473c30158row0_col4 {\n",
       "            background-color:  #acacff;\n",
       "            color:  #000000;\n",
       "        }    #T_dd6a93ee_e868_11ea_99c9_bd1473c30158row0_col5 {\n",
       "            background-color:  #b0b0ff;\n",
       "            color:  #000000;\n",
       "        }    #T_dd6a93ee_e868_11ea_99c9_bd1473c30158row0_col6 {\n",
       "            background-color:  #a8a8ff;\n",
       "            color:  #000000;\n",
       "        }    #T_dd6a93ee_e868_11ea_99c9_bd1473c30158row0_col7 {\n",
       "            background-color:  #b2b2ff;\n",
       "            color:  #000000;\n",
       "        }    #T_dd6a93ee_e868_11ea_99c9_bd1473c30158row0_col8 {\n",
       "            background-color:  #9a9aff;\n",
       "            color:  #000000;\n",
       "        }    #T_dd6a93ee_e868_11ea_99c9_bd1473c30158row0_col9 {\n",
       "            background-color:  #6767ff;\n",
       "            color:  #000000;\n",
       "        }    #T_dd6a93ee_e868_11ea_99c9_bd1473c30158row0_col10 {\n",
       "            background-color:  #7171ff;\n",
       "            color:  #000000;\n",
       "        }    #T_dd6a93ee_e868_11ea_99c9_bd1473c30158row0_col11 {\n",
       "            background-color:  #aaaaff;\n",
       "            color:  #000000;\n",
       "        }    #T_dd6a93ee_e868_11ea_99c9_bd1473c30158row0_col12 {\n",
       "            background-color:  #9b9bff;\n",
       "            color:  #000000;\n",
       "        }    #T_dd6a93ee_e868_11ea_99c9_bd1473c30158row0_col13 {\n",
       "            background-color:  #b0b0ff;\n",
       "            color:  #000000;\n",
       "        }    #T_dd6a93ee_e868_11ea_99c9_bd1473c30158row0_col14 {\n",
       "            background-color:  #9696ff;\n",
       "            color:  #000000;\n",
       "        }    #T_dd6a93ee_e868_11ea_99c9_bd1473c30158row0_col15 {\n",
       "            background-color:  #9d9dff;\n",
       "            color:  #000000;\n",
       "        }    #T_dd6a93ee_e868_11ea_99c9_bd1473c30158row0_col16 {\n",
       "            background-color:  #b7b7ff;\n",
       "            color:  #000000;\n",
       "        }    #T_dd6a93ee_e868_11ea_99c9_bd1473c30158row0_col17 {\n",
       "            background-color:  #ababff;\n",
       "            color:  #000000;\n",
       "        }    #T_dd6a93ee_e868_11ea_99c9_bd1473c30158row1_col0 {\n",
       "            background-color:  #8787ff;\n",
       "            color:  #000000;\n",
       "        }    #T_dd6a93ee_e868_11ea_99c9_bd1473c30158row1_col1 {\n",
       "            background-color:  #0000ff;\n",
       "            color:  #f1f1f1;\n",
       "        }    #T_dd6a93ee_e868_11ea_99c9_bd1473c30158row1_col2 {\n",
       "            background-color:  #9c9cff;\n",
       "            color:  #000000;\n",
       "        }    #T_dd6a93ee_e868_11ea_99c9_bd1473c30158row1_col3 {\n",
       "            background-color:  #a1a1ff;\n",
       "            color:  #000000;\n",
       "        }    #T_dd6a93ee_e868_11ea_99c9_bd1473c30158row1_col4 {\n",
       "            background-color:  #b0b0ff;\n",
       "            color:  #000000;\n",
       "        }    #T_dd6a93ee_e868_11ea_99c9_bd1473c30158row1_col5 {\n",
       "            background-color:  #7d7dff;\n",
       "            color:  #000000;\n",
       "        }    #T_dd6a93ee_e868_11ea_99c9_bd1473c30158row1_col6 {\n",
       "            background-color:  #e0e0ff;\n",
       "            color:  #000000;\n",
       "        }    #T_dd6a93ee_e868_11ea_99c9_bd1473c30158row1_col7 {\n",
       "            background-color:  #a1a1ff;\n",
       "            color:  #000000;\n",
       "        }    #T_dd6a93ee_e868_11ea_99c9_bd1473c30158row1_col8 {\n",
       "            background-color:  #9c9cff;\n",
       "            color:  #000000;\n",
       "        }    #T_dd6a93ee_e868_11ea_99c9_bd1473c30158row1_col9 {\n",
       "            background-color:  #9e9eff;\n",
       "            color:  #000000;\n",
       "        }    #T_dd6a93ee_e868_11ea_99c9_bd1473c30158row1_col10 {\n",
       "            background-color:  #7070ff;\n",
       "            color:  #000000;\n",
       "        }    #T_dd6a93ee_e868_11ea_99c9_bd1473c30158row1_col11 {\n",
       "            background-color:  #8b8bff;\n",
       "            color:  #000000;\n",
       "        }    #T_dd6a93ee_e868_11ea_99c9_bd1473c30158row1_col12 {\n",
       "            background-color:  #8d8dff;\n",
       "            color:  #000000;\n",
       "        }    #T_dd6a93ee_e868_11ea_99c9_bd1473c30158row1_col13 {\n",
       "            background-color:  #b9b9ff;\n",
       "            color:  #000000;\n",
       "        }    #T_dd6a93ee_e868_11ea_99c9_bd1473c30158row1_col14 {\n",
       "            background-color:  #7474ff;\n",
       "            color:  #000000;\n",
       "        }    #T_dd6a93ee_e868_11ea_99c9_bd1473c30158row1_col15 {\n",
       "            background-color:  #b5b5ff;\n",
       "            color:  #000000;\n",
       "        }    #T_dd6a93ee_e868_11ea_99c9_bd1473c30158row1_col16 {\n",
       "            background-color:  #b7b7ff;\n",
       "            color:  #000000;\n",
       "        }    #T_dd6a93ee_e868_11ea_99c9_bd1473c30158row1_col17 {\n",
       "            background-color:  #a0a0ff;\n",
       "            color:  #000000;\n",
       "        }    #T_dd6a93ee_e868_11ea_99c9_bd1473c30158row2_col0 {\n",
       "            background-color:  #e5e5ff;\n",
       "            color:  #000000;\n",
       "        }    #T_dd6a93ee_e868_11ea_99c9_bd1473c30158row2_col1 {\n",
       "            background-color:  #a9a9ff;\n",
       "            color:  #000000;\n",
       "        }    #T_dd6a93ee_e868_11ea_99c9_bd1473c30158row2_col2 {\n",
       "            background-color:  #0000ff;\n",
       "            color:  #f1f1f1;\n",
       "        }    #T_dd6a93ee_e868_11ea_99c9_bd1473c30158row2_col3 {\n",
       "            background-color:  #b3b3ff;\n",
       "            color:  #000000;\n",
       "        }    #T_dd6a93ee_e868_11ea_99c9_bd1473c30158row2_col4 {\n",
       "            background-color:  #e5e5ff;\n",
       "            color:  #000000;\n",
       "        }    #T_dd6a93ee_e868_11ea_99c9_bd1473c30158row2_col5 {\n",
       "            background-color:  #c7c7ff;\n",
       "            color:  #000000;\n",
       "        }    #T_dd6a93ee_e868_11ea_99c9_bd1473c30158row2_col6 {\n",
       "            background-color:  #dbdbff;\n",
       "            color:  #000000;\n",
       "        }    #T_dd6a93ee_e868_11ea_99c9_bd1473c30158row2_col7 {\n",
       "            background-color:  #c6c6ff;\n",
       "            color:  #000000;\n",
       "        }    #T_dd6a93ee_e868_11ea_99c9_bd1473c30158row2_col8 {\n",
       "            background-color:  #e5e5ff;\n",
       "            color:  #000000;\n",
       "        }    #T_dd6a93ee_e868_11ea_99c9_bd1473c30158row2_col9 {\n",
       "            background-color:  #dcdcff;\n",
       "            color:  #000000;\n",
       "        }    #T_dd6a93ee_e868_11ea_99c9_bd1473c30158row2_col10 {\n",
       "            background-color:  #d0d0ff;\n",
       "            color:  #000000;\n",
       "        }    #T_dd6a93ee_e868_11ea_99c9_bd1473c30158row2_col11 {\n",
       "            background-color:  #3636ff;\n",
       "            color:  #f1f1f1;\n",
       "        }    #T_dd6a93ee_e868_11ea_99c9_bd1473c30158row2_col12 {\n",
       "            background-color:  #d0d0ff;\n",
       "            color:  #000000;\n",
       "        }    #T_dd6a93ee_e868_11ea_99c9_bd1473c30158row2_col13 {\n",
       "            background-color:  #dbdbff;\n",
       "            color:  #000000;\n",
       "        }    #T_dd6a93ee_e868_11ea_99c9_bd1473c30158row2_col14 {\n",
       "            background-color:  #e3e3ff;\n",
       "            color:  #000000;\n",
       "        }    #T_dd6a93ee_e868_11ea_99c9_bd1473c30158row2_col15 {\n",
       "            background-color:  #e5e5ff;\n",
       "            color:  #000000;\n",
       "        }    #T_dd6a93ee_e868_11ea_99c9_bd1473c30158row2_col16 {\n",
       "            background-color:  #e5e5ff;\n",
       "            color:  #000000;\n",
       "        }    #T_dd6a93ee_e868_11ea_99c9_bd1473c30158row2_col17 {\n",
       "            background-color:  #e0e0ff;\n",
       "            color:  #000000;\n",
       "        }    #T_dd6a93ee_e868_11ea_99c9_bd1473c30158row3_col0 {\n",
       "            background-color:  #a4a4ff;\n",
       "            color:  #000000;\n",
       "        }    #T_dd6a93ee_e868_11ea_99c9_bd1473c30158row3_col1 {\n",
       "            background-color:  #9e9eff;\n",
       "            color:  #000000;\n",
       "        }    #T_dd6a93ee_e868_11ea_99c9_bd1473c30158row3_col2 {\n",
       "            background-color:  #a2a2ff;\n",
       "            color:  #000000;\n",
       "        }    #T_dd6a93ee_e868_11ea_99c9_bd1473c30158row3_col3 {\n",
       "            background-color:  #0000ff;\n",
       "            color:  #f1f1f1;\n",
       "        }    #T_dd6a93ee_e868_11ea_99c9_bd1473c30158row3_col4 {\n",
       "            background-color:  #9e9eff;\n",
       "            color:  #000000;\n",
       "        }    #T_dd6a93ee_e868_11ea_99c9_bd1473c30158row3_col5 {\n",
       "            background-color:  #9494ff;\n",
       "            color:  #000000;\n",
       "        }    #T_dd6a93ee_e868_11ea_99c9_bd1473c30158row3_col6 {\n",
       "            background-color:  #c8c8ff;\n",
       "            color:  #000000;\n",
       "        }    #T_dd6a93ee_e868_11ea_99c9_bd1473c30158row3_col7 {\n",
       "            background-color:  #c9c9ff;\n",
       "            color:  #000000;\n",
       "        }    #T_dd6a93ee_e868_11ea_99c9_bd1473c30158row3_col8 {\n",
       "            background-color:  #cacaff;\n",
       "            color:  #000000;\n",
       "        }    #T_dd6a93ee_e868_11ea_99c9_bd1473c30158row3_col9 {\n",
       "            background-color:  #a0a0ff;\n",
       "            color:  #000000;\n",
       "        }    #T_dd6a93ee_e868_11ea_99c9_bd1473c30158row3_col10 {\n",
       "            background-color:  #b3b3ff;\n",
       "            color:  #000000;\n",
       "        }    #T_dd6a93ee_e868_11ea_99c9_bd1473c30158row3_col11 {\n",
       "            background-color:  #ababff;\n",
       "            color:  #000000;\n",
       "        }    #T_dd6a93ee_e868_11ea_99c9_bd1473c30158row3_col12 {\n",
       "            background-color:  #6767ff;\n",
       "            color:  #000000;\n",
       "        }    #T_dd6a93ee_e868_11ea_99c9_bd1473c30158row3_col13 {\n",
       "            background-color:  #c6c6ff;\n",
       "            color:  #000000;\n",
       "        }    #T_dd6a93ee_e868_11ea_99c9_bd1473c30158row3_col14 {\n",
       "            background-color:  #9f9fff;\n",
       "            color:  #000000;\n",
       "        }    #T_dd6a93ee_e868_11ea_99c9_bd1473c30158row3_col15 {\n",
       "            background-color:  #c2c2ff;\n",
       "            color:  #000000;\n",
       "        }    #T_dd6a93ee_e868_11ea_99c9_bd1473c30158row3_col16 {\n",
       "            background-color:  #cdcdff;\n",
       "            color:  #000000;\n",
       "        }    #T_dd6a93ee_e868_11ea_99c9_bd1473c30158row3_col17 {\n",
       "            background-color:  #e5e5ff;\n",
       "            color:  #000000;\n",
       "        }    #T_dd6a93ee_e868_11ea_99c9_bd1473c30158row4_col0 {\n",
       "            background-color:  #d7d7ff;\n",
       "            color:  #000000;\n",
       "        }    #T_dd6a93ee_e868_11ea_99c9_bd1473c30158row4_col1 {\n",
       "            background-color:  #babaff;\n",
       "            color:  #000000;\n",
       "        }    #T_dd6a93ee_e868_11ea_99c9_bd1473c30158row4_col2 {\n",
       "            background-color:  #e0e0ff;\n",
       "            color:  #000000;\n",
       "        }    #T_dd6a93ee_e868_11ea_99c9_bd1473c30158row4_col3 {\n",
       "            background-color:  #aaaaff;\n",
       "            color:  #000000;\n",
       "        }    #T_dd6a93ee_e868_11ea_99c9_bd1473c30158row4_col4 {\n",
       "            background-color:  #0000ff;\n",
       "            color:  #f1f1f1;\n",
       "        }    #T_dd6a93ee_e868_11ea_99c9_bd1473c30158row4_col5 {\n",
       "            background-color:  #e3e3ff;\n",
       "            color:  #000000;\n",
       "        }    #T_dd6a93ee_e868_11ea_99c9_bd1473c30158row4_col6 {\n",
       "            background-color:  #c9c9ff;\n",
       "            color:  #000000;\n",
       "        }    #T_dd6a93ee_e868_11ea_99c9_bd1473c30158row4_col7 {\n",
       "            background-color:  #b9b9ff;\n",
       "            color:  #000000;\n",
       "        }    #T_dd6a93ee_e868_11ea_99c9_bd1473c30158row4_col8 {\n",
       "            background-color:  #b8b8ff;\n",
       "            color:  #000000;\n",
       "        }    #T_dd6a93ee_e868_11ea_99c9_bd1473c30158row4_col9 {\n",
       "            background-color:  #e5e5ff;\n",
       "            color:  #000000;\n",
       "        }    #T_dd6a93ee_e868_11ea_99c9_bd1473c30158row4_col10 {\n",
       "            background-color:  #dfdfff;\n",
       "            color:  #000000;\n",
       "        }    #T_dd6a93ee_e868_11ea_99c9_bd1473c30158row4_col11 {\n",
       "            background-color:  #c3c3ff;\n",
       "            color:  #000000;\n",
       "        }    #T_dd6a93ee_e868_11ea_99c9_bd1473c30158row4_col12 {\n",
       "            background-color:  #bbbbff;\n",
       "            color:  #000000;\n",
       "        }    #T_dd6a93ee_e868_11ea_99c9_bd1473c30158row4_col13 {\n",
       "            background-color:  #7575ff;\n",
       "            color:  #000000;\n",
       "        }    #T_dd6a93ee_e868_11ea_99c9_bd1473c30158row4_col14 {\n",
       "            background-color:  #e5e5ff;\n",
       "            color:  #000000;\n",
       "        }    #T_dd6a93ee_e868_11ea_99c9_bd1473c30158row4_col15 {\n",
       "            background-color:  #b0b0ff;\n",
       "            color:  #000000;\n",
       "        }    #T_dd6a93ee_e868_11ea_99c9_bd1473c30158row4_col16 {\n",
       "            background-color:  #8b8bff;\n",
       "            color:  #000000;\n",
       "        }    #T_dd6a93ee_e868_11ea_99c9_bd1473c30158row4_col17 {\n",
       "            background-color:  #dcdcff;\n",
       "            color:  #000000;\n",
       "        }    #T_dd6a93ee_e868_11ea_99c9_bd1473c30158row5_col0 {\n",
       "            background-color:  #a9a9ff;\n",
       "            color:  #000000;\n",
       "        }    #T_dd6a93ee_e868_11ea_99c9_bd1473c30158row5_col1 {\n",
       "            background-color:  #6666ff;\n",
       "            color:  #000000;\n",
       "        }    #T_dd6a93ee_e868_11ea_99c9_bd1473c30158row5_col2 {\n",
       "            background-color:  #9494ff;\n",
       "            color:  #000000;\n",
       "        }    #T_dd6a93ee_e868_11ea_99c9_bd1473c30158row5_col3 {\n",
       "            background-color:  #7b7bff;\n",
       "            color:  #000000;\n",
       "        }    #T_dd6a93ee_e868_11ea_99c9_bd1473c30158row5_col4 {\n",
       "            background-color:  #aeaeff;\n",
       "            color:  #000000;\n",
       "        }    #T_dd6a93ee_e868_11ea_99c9_bd1473c30158row5_col5 {\n",
       "            background-color:  #0000ff;\n",
       "            color:  #f1f1f1;\n",
       "        }    #T_dd6a93ee_e868_11ea_99c9_bd1473c30158row5_col6 {\n",
       "            background-color:  #b7b7ff;\n",
       "            color:  #000000;\n",
       "        }    #T_dd6a93ee_e868_11ea_99c9_bd1473c30158row5_col7 {\n",
       "            background-color:  #a2a2ff;\n",
       "            color:  #000000;\n",
       "        }    #T_dd6a93ee_e868_11ea_99c9_bd1473c30158row5_col8 {\n",
       "            background-color:  #9595ff;\n",
       "            color:  #000000;\n",
       "        }    #T_dd6a93ee_e868_11ea_99c9_bd1473c30158row5_col9 {\n",
       "            background-color:  #a6a6ff;\n",
       "            color:  #000000;\n",
       "        }    #T_dd6a93ee_e868_11ea_99c9_bd1473c30158row5_col10 {\n",
       "            background-color:  #8c8cff;\n",
       "            color:  #000000;\n",
       "        }    #T_dd6a93ee_e868_11ea_99c9_bd1473c30158row5_col11 {\n",
       "            background-color:  #8585ff;\n",
       "            color:  #000000;\n",
       "        }    #T_dd6a93ee_e868_11ea_99c9_bd1473c30158row5_col12 {\n",
       "            background-color:  #9f9fff;\n",
       "            color:  #000000;\n",
       "        }    #T_dd6a93ee_e868_11ea_99c9_bd1473c30158row5_col13 {\n",
       "            background-color:  #9b9bff;\n",
       "            color:  #000000;\n",
       "        }    #T_dd6a93ee_e868_11ea_99c9_bd1473c30158row5_col14 {\n",
       "            background-color:  #5555ff;\n",
       "            color:  #f1f1f1;\n",
       "        }    #T_dd6a93ee_e868_11ea_99c9_bd1473c30158row5_col15 {\n",
       "            background-color:  #9a9aff;\n",
       "            color:  #000000;\n",
       "        }    #T_dd6a93ee_e868_11ea_99c9_bd1473c30158row5_col16 {\n",
       "            background-color:  #b8b8ff;\n",
       "            color:  #000000;\n",
       "        }    #T_dd6a93ee_e868_11ea_99c9_bd1473c30158row5_col17 {\n",
       "            background-color:  #a1a1ff;\n",
       "            color:  #000000;\n",
       "        }    #T_dd6a93ee_e868_11ea_99c9_bd1473c30158row6_col0 {\n",
       "            background-color:  #ccccff;\n",
       "            color:  #000000;\n",
       "        }    #T_dd6a93ee_e868_11ea_99c9_bd1473c30158row6_col1 {\n",
       "            background-color:  #e5e5ff;\n",
       "            color:  #000000;\n",
       "        }    #T_dd6a93ee_e868_11ea_99c9_bd1473c30158row6_col2 {\n",
       "            background-color:  #ceceff;\n",
       "            color:  #000000;\n",
       "        }    #T_dd6a93ee_e868_11ea_99c9_bd1473c30158row6_col3 {\n",
       "            background-color:  #d1d1ff;\n",
       "            color:  #000000;\n",
       "        }    #T_dd6a93ee_e868_11ea_99c9_bd1473c30158row6_col4 {\n",
       "            background-color:  #c2c2ff;\n",
       "            color:  #000000;\n",
       "        }    #T_dd6a93ee_e868_11ea_99c9_bd1473c30158row6_col5 {\n",
       "            background-color:  #e5e5ff;\n",
       "            color:  #000000;\n",
       "        }    #T_dd6a93ee_e868_11ea_99c9_bd1473c30158row6_col6 {\n",
       "            background-color:  #0000ff;\n",
       "            color:  #f1f1f1;\n",
       "        }    #T_dd6a93ee_e868_11ea_99c9_bd1473c30158row6_col7 {\n",
       "            background-color:  #e5e5ff;\n",
       "            color:  #000000;\n",
       "        }    #T_dd6a93ee_e868_11ea_99c9_bd1473c30158row6_col8 {\n",
       "            background-color:  #b0b0ff;\n",
       "            color:  #000000;\n",
       "        }    #T_dd6a93ee_e868_11ea_99c9_bd1473c30158row6_col9 {\n",
       "            background-color:  #b6b6ff;\n",
       "            color:  #000000;\n",
       "        }    #T_dd6a93ee_e868_11ea_99c9_bd1473c30158row6_col10 {\n",
       "            background-color:  #e4e4ff;\n",
       "            color:  #000000;\n",
       "        }    #T_dd6a93ee_e868_11ea_99c9_bd1473c30158row6_col11 {\n",
       "            background-color:  #e5e5ff;\n",
       "            color:  #000000;\n",
       "        }    #T_dd6a93ee_e868_11ea_99c9_bd1473c30158row6_col12 {\n",
       "            background-color:  #e0e0ff;\n",
       "            color:  #000000;\n",
       "        }    #T_dd6a93ee_e868_11ea_99c9_bd1473c30158row6_col13 {\n",
       "            background-color:  #cdcdff;\n",
       "            color:  #000000;\n",
       "        }    #T_dd6a93ee_e868_11ea_99c9_bd1473c30158row6_col14 {\n",
       "            background-color:  #e1e1ff;\n",
       "            color:  #000000;\n",
       "        }    #T_dd6a93ee_e868_11ea_99c9_bd1473c30158row6_col15 {\n",
       "            background-color:  #6868ff;\n",
       "            color:  #000000;\n",
       "        }    #T_dd6a93ee_e868_11ea_99c9_bd1473c30158row6_col16 {\n",
       "            background-color:  #c7c7ff;\n",
       "            color:  #000000;\n",
       "        }    #T_dd6a93ee_e868_11ea_99c9_bd1473c30158row6_col17 {\n",
       "            background-color:  #b4b4ff;\n",
       "            color:  #000000;\n",
       "        }    #T_dd6a93ee_e868_11ea_99c9_bd1473c30158row7_col0 {\n",
       "            background-color:  #cdcdff;\n",
       "            color:  #000000;\n",
       "        }    #T_dd6a93ee_e868_11ea_99c9_bd1473c30158row7_col1 {\n",
       "            background-color:  #9d9dff;\n",
       "            color:  #000000;\n",
       "        }    #T_dd6a93ee_e868_11ea_99c9_bd1473c30158row7_col2 {\n",
       "            background-color:  #b0b0ff;\n",
       "            color:  #000000;\n",
       "        }    #T_dd6a93ee_e868_11ea_99c9_bd1473c30158row7_col3 {\n",
       "            background-color:  #c7c7ff;\n",
       "            color:  #000000;\n",
       "        }    #T_dd6a93ee_e868_11ea_99c9_bd1473c30158row7_col4 {\n",
       "            background-color:  #aaaaff;\n",
       "            color:  #000000;\n",
       "        }    #T_dd6a93ee_e868_11ea_99c9_bd1473c30158row7_col5 {\n",
       "            background-color:  #c2c2ff;\n",
       "            color:  #000000;\n",
       "        }    #T_dd6a93ee_e868_11ea_99c9_bd1473c30158row7_col6 {\n",
       "            background-color:  #dadaff;\n",
       "            color:  #000000;\n",
       "        }    #T_dd6a93ee_e868_11ea_99c9_bd1473c30158row7_col7 {\n",
       "            background-color:  #0000ff;\n",
       "            color:  #f1f1f1;\n",
       "        }    #T_dd6a93ee_e868_11ea_99c9_bd1473c30158row7_col8 {\n",
       "            background-color:  #ababff;\n",
       "            color:  #000000;\n",
       "        }    #T_dd6a93ee_e868_11ea_99c9_bd1473c30158row7_col9 {\n",
       "            background-color:  #d4d4ff;\n",
       "            color:  #000000;\n",
       "        }    #T_dd6a93ee_e868_11ea_99c9_bd1473c30158row7_col10 {\n",
       "            background-color:  #e5e5ff;\n",
       "            color:  #000000;\n",
       "        }    #T_dd6a93ee_e868_11ea_99c9_bd1473c30158row7_col11 {\n",
       "            background-color:  #a7a7ff;\n",
       "            color:  #000000;\n",
       "        }    #T_dd6a93ee_e868_11ea_99c9_bd1473c30158row7_col12 {\n",
       "            background-color:  #c5c5ff;\n",
       "            color:  #000000;\n",
       "        }    #T_dd6a93ee_e868_11ea_99c9_bd1473c30158row7_col13 {\n",
       "            background-color:  #aaaaff;\n",
       "            color:  #000000;\n",
       "        }    #T_dd6a93ee_e868_11ea_99c9_bd1473c30158row7_col14 {\n",
       "            background-color:  #dedeff;\n",
       "            color:  #000000;\n",
       "        }    #T_dd6a93ee_e868_11ea_99c9_bd1473c30158row7_col15 {\n",
       "            background-color:  #c4c4ff;\n",
       "            color:  #000000;\n",
       "        }    #T_dd6a93ee_e868_11ea_99c9_bd1473c30158row7_col16 {\n",
       "            background-color:  #9090ff;\n",
       "            color:  #000000;\n",
       "        }    #T_dd6a93ee_e868_11ea_99c9_bd1473c30158row7_col17 {\n",
       "            background-color:  #bcbcff;\n",
       "            color:  #000000;\n",
       "        }    #T_dd6a93ee_e868_11ea_99c9_bd1473c30158row8_col0 {\n",
       "            background-color:  #c5c5ff;\n",
       "            color:  #000000;\n",
       "        }    #T_dd6a93ee_e868_11ea_99c9_bd1473c30158row8_col1 {\n",
       "            background-color:  #a9a9ff;\n",
       "            color:  #000000;\n",
       "        }    #T_dd6a93ee_e868_11ea_99c9_bd1473c30158row8_col2 {\n",
       "            background-color:  #e5e5ff;\n",
       "            color:  #000000;\n",
       "        }    #T_dd6a93ee_e868_11ea_99c9_bd1473c30158row8_col3 {\n",
       "            background-color:  #dfdfff;\n",
       "            color:  #000000;\n",
       "        }    #T_dd6a93ee_e868_11ea_99c9_bd1473c30158row8_col4 {\n",
       "            background-color:  #bcbcff;\n",
       "            color:  #000000;\n",
       "        }    #T_dd6a93ee_e868_11ea_99c9_bd1473c30158row8_col5 {\n",
       "            background-color:  #c8c8ff;\n",
       "            color:  #000000;\n",
       "        }    #T_dd6a93ee_e868_11ea_99c9_bd1473c30158row8_col6 {\n",
       "            background-color:  #babaff;\n",
       "            color:  #000000;\n",
       "        }    #T_dd6a93ee_e868_11ea_99c9_bd1473c30158row8_col7 {\n",
       "            background-color:  #bfbfff;\n",
       "            color:  #000000;\n",
       "        }    #T_dd6a93ee_e868_11ea_99c9_bd1473c30158row8_col8 {\n",
       "            background-color:  #0000ff;\n",
       "            color:  #f1f1f1;\n",
       "        }    #T_dd6a93ee_e868_11ea_99c9_bd1473c30158row8_col9 {\n",
       "            background-color:  #d9d9ff;\n",
       "            color:  #000000;\n",
       "        }    #T_dd6a93ee_e868_11ea_99c9_bd1473c30158row8_col10 {\n",
       "            background-color:  #a2a2ff;\n",
       "            color:  #000000;\n",
       "        }    #T_dd6a93ee_e868_11ea_99c9_bd1473c30158row8_col11 {\n",
       "            background-color:  #e1e1ff;\n",
       "            color:  #000000;\n",
       "        }    #T_dd6a93ee_e868_11ea_99c9_bd1473c30158row8_col12 {\n",
       "            background-color:  #e5e5ff;\n",
       "            color:  #000000;\n",
       "        }    #T_dd6a93ee_e868_11ea_99c9_bd1473c30158row8_col13 {\n",
       "            background-color:  #ddddff;\n",
       "            color:  #000000;\n",
       "        }    #T_dd6a93ee_e868_11ea_99c9_bd1473c30158row8_col14 {\n",
       "            background-color:  #b7b7ff;\n",
       "            color:  #000000;\n",
       "        }    #T_dd6a93ee_e868_11ea_99c9_bd1473c30158row8_col15 {\n",
       "            background-color:  #9797ff;\n",
       "            color:  #000000;\n",
       "        }    #T_dd6a93ee_e868_11ea_99c9_bd1473c30158row8_col16 {\n",
       "            background-color:  #9494ff;\n",
       "            color:  #000000;\n",
       "        }    #T_dd6a93ee_e868_11ea_99c9_bd1473c30158row8_col17 {\n",
       "            background-color:  #2626ff;\n",
       "            color:  #f1f1f1;\n",
       "        }    #T_dd6a93ee_e868_11ea_99c9_bd1473c30158row9_col0 {\n",
       "            background-color:  #6e6eff;\n",
       "            color:  #000000;\n",
       "        }    #T_dd6a93ee_e868_11ea_99c9_bd1473c30158row9_col1 {\n",
       "            background-color:  #9090ff;\n",
       "            color:  #000000;\n",
       "        }    #T_dd6a93ee_e868_11ea_99c9_bd1473c30158row9_col2 {\n",
       "            background-color:  #b7b7ff;\n",
       "            color:  #000000;\n",
       "        }    #T_dd6a93ee_e868_11ea_99c9_bd1473c30158row9_col3 {\n",
       "            background-color:  #9494ff;\n",
       "            color:  #000000;\n",
       "        }    #T_dd6a93ee_e868_11ea_99c9_bd1473c30158row9_col4 {\n",
       "            background-color:  #c4c4ff;\n",
       "            color:  #000000;\n",
       "        }    #T_dd6a93ee_e868_11ea_99c9_bd1473c30158row9_col5 {\n",
       "            background-color:  #b8b8ff;\n",
       "            color:  #000000;\n",
       "        }    #T_dd6a93ee_e868_11ea_99c9_bd1473c30158row9_col6 {\n",
       "            background-color:  #a0a0ff;\n",
       "            color:  #000000;\n",
       "        }    #T_dd6a93ee_e868_11ea_99c9_bd1473c30158row9_col7 {\n",
       "            background-color:  #c6c6ff;\n",
       "            color:  #000000;\n",
       "        }    #T_dd6a93ee_e868_11ea_99c9_bd1473c30158row9_col8 {\n",
       "            background-color:  #b4b4ff;\n",
       "            color:  #000000;\n",
       "        }    #T_dd6a93ee_e868_11ea_99c9_bd1473c30158row9_col9 {\n",
       "            background-color:  #0000ff;\n",
       "            color:  #f1f1f1;\n",
       "        }    #T_dd6a93ee_e868_11ea_99c9_bd1473c30158row9_col10 {\n",
       "            background-color:  #8484ff;\n",
       "            color:  #000000;\n",
       "        }    #T_dd6a93ee_e868_11ea_99c9_bd1473c30158row9_col11 {\n",
       "            background-color:  #bbbbff;\n",
       "            color:  #000000;\n",
       "        }    #T_dd6a93ee_e868_11ea_99c9_bd1473c30158row9_col12 {\n",
       "            background-color:  #ababff;\n",
       "            color:  #000000;\n",
       "        }    #T_dd6a93ee_e868_11ea_99c9_bd1473c30158row9_col13 {\n",
       "            background-color:  #e5e5ff;\n",
       "            color:  #000000;\n",
       "        }    #T_dd6a93ee_e868_11ea_99c9_bd1473c30158row9_col14 {\n",
       "            background-color:  #b6b6ff;\n",
       "            color:  #000000;\n",
       "        }    #T_dd6a93ee_e868_11ea_99c9_bd1473c30158row9_col15 {\n",
       "            background-color:  #a1a1ff;\n",
       "            color:  #000000;\n",
       "        }    #T_dd6a93ee_e868_11ea_99c9_bd1473c30158row9_col16 {\n",
       "            background-color:  #c2c2ff;\n",
       "            color:  #000000;\n",
       "        }    #T_dd6a93ee_e868_11ea_99c9_bd1473c30158row9_col17 {\n",
       "            background-color:  #b9b9ff;\n",
       "            color:  #000000;\n",
       "        }    #T_dd6a93ee_e868_11ea_99c9_bd1473c30158row10_col0 {\n",
       "            background-color:  #6565ff;\n",
       "            color:  #000000;\n",
       "        }    #T_dd6a93ee_e868_11ea_99c9_bd1473c30158row10_col1 {\n",
       "            background-color:  #5454ff;\n",
       "            color:  #f1f1f1;\n",
       "        }    #T_dd6a93ee_e868_11ea_99c9_bd1473c30158row10_col2 {\n",
       "            background-color:  #9090ff;\n",
       "            color:  #000000;\n",
       "        }    #T_dd6a93ee_e868_11ea_99c9_bd1473c30158row10_col3 {\n",
       "            background-color:  #8a8aff;\n",
       "            color:  #000000;\n",
       "        }    #T_dd6a93ee_e868_11ea_99c9_bd1473c30158row10_col4 {\n",
       "            background-color:  #9e9eff;\n",
       "            color:  #000000;\n",
       "        }    #T_dd6a93ee_e868_11ea_99c9_bd1473c30158row10_col5 {\n",
       "            background-color:  #8282ff;\n",
       "            color:  #000000;\n",
       "        }    #T_dd6a93ee_e868_11ea_99c9_bd1473c30158row10_col6 {\n",
       "            background-color:  #a7a7ff;\n",
       "            color:  #000000;\n",
       "        }    #T_dd6a93ee_e868_11ea_99c9_bd1473c30158row10_col7 {\n",
       "            background-color:  #b2b2ff;\n",
       "            color:  #000000;\n",
       "        }    #T_dd6a93ee_e868_11ea_99c9_bd1473c30158row10_col8 {\n",
       "            background-color:  #7070ff;\n",
       "            color:  #000000;\n",
       "        }    #T_dd6a93ee_e868_11ea_99c9_bd1473c30158row10_col9 {\n",
       "            background-color:  #6e6eff;\n",
       "            color:  #000000;\n",
       "        }    #T_dd6a93ee_e868_11ea_99c9_bd1473c30158row10_col10 {\n",
       "            background-color:  #0000ff;\n",
       "            color:  #f1f1f1;\n",
       "        }    #T_dd6a93ee_e868_11ea_99c9_bd1473c30158row10_col11 {\n",
       "            background-color:  #8c8cff;\n",
       "            color:  #000000;\n",
       "        }    #T_dd6a93ee_e868_11ea_99c9_bd1473c30158row10_col12 {\n",
       "            background-color:  #8888ff;\n",
       "            color:  #000000;\n",
       "        }    #T_dd6a93ee_e868_11ea_99c9_bd1473c30158row10_col13 {\n",
       "            background-color:  #9a9aff;\n",
       "            color:  #000000;\n",
       "        }    #T_dd6a93ee_e868_11ea_99c9_bd1473c30158row10_col14 {\n",
       "            background-color:  #6c6cff;\n",
       "            color:  #000000;\n",
       "        }    #T_dd6a93ee_e868_11ea_99c9_bd1473c30158row10_col15 {\n",
       "            background-color:  #8787ff;\n",
       "            color:  #000000;\n",
       "        }    #T_dd6a93ee_e868_11ea_99c9_bd1473c30158row10_col16 {\n",
       "            background-color:  #9c9cff;\n",
       "            color:  #000000;\n",
       "        }    #T_dd6a93ee_e868_11ea_99c9_bd1473c30158row10_col17 {\n",
       "            background-color:  #7070ff;\n",
       "            color:  #000000;\n",
       "        }    #T_dd6a93ee_e868_11ea_99c9_bd1473c30158row11_col0 {\n",
       "            background-color:  #ceceff;\n",
       "            color:  #000000;\n",
       "        }    #T_dd6a93ee_e868_11ea_99c9_bd1473c30158row11_col1 {\n",
       "            background-color:  #8e8eff;\n",
       "            color:  #000000;\n",
       "        }    #T_dd6a93ee_e868_11ea_99c9_bd1473c30158row11_col2 {\n",
       "            background-color:  #3333ff;\n",
       "            color:  #f1f1f1;\n",
       "        }    #T_dd6a93ee_e868_11ea_99c9_bd1473c30158row11_col3 {\n",
       "            background-color:  #b3b3ff;\n",
       "            color:  #000000;\n",
       "        }    #T_dd6a93ee_e868_11ea_99c9_bd1473c30158row11_col4 {\n",
       "            background-color:  #bdbdff;\n",
       "            color:  #000000;\n",
       "        }    #T_dd6a93ee_e868_11ea_99c9_bd1473c30158row11_col5 {\n",
       "            background-color:  #a7a7ff;\n",
       "            color:  #000000;\n",
       "        }    #T_dd6a93ee_e868_11ea_99c9_bd1473c30158row11_col6 {\n",
       "            background-color:  #e5e5ff;\n",
       "            color:  #000000;\n",
       "        }    #T_dd6a93ee_e868_11ea_99c9_bd1473c30158row11_col7 {\n",
       "            background-color:  #b0b0ff;\n",
       "            color:  #000000;\n",
       "        }    #T_dd6a93ee_e868_11ea_99c9_bd1473c30158row11_col8 {\n",
       "            background-color:  #d4d4ff;\n",
       "            color:  #000000;\n",
       "        }    #T_dd6a93ee_e868_11ea_99c9_bd1473c30158row11_col9 {\n",
       "            background-color:  #d3d3ff;\n",
       "            color:  #000000;\n",
       "        }    #T_dd6a93ee_e868_11ea_99c9_bd1473c30158row11_col10 {\n",
       "            background-color:  #c0c0ff;\n",
       "            color:  #000000;\n",
       "        }    #T_dd6a93ee_e868_11ea_99c9_bd1473c30158row11_col11 {\n",
       "            background-color:  #0000ff;\n",
       "            color:  #f1f1f1;\n",
       "        }    #T_dd6a93ee_e868_11ea_99c9_bd1473c30158row11_col12 {\n",
       "            background-color:  #c0c0ff;\n",
       "            color:  #000000;\n",
       "        }    #T_dd6a93ee_e868_11ea_99c9_bd1473c30158row11_col13 {\n",
       "            background-color:  #a6a6ff;\n",
       "            color:  #000000;\n",
       "        }    #T_dd6a93ee_e868_11ea_99c9_bd1473c30158row11_col14 {\n",
       "            background-color:  #c7c7ff;\n",
       "            color:  #000000;\n",
       "        }    #T_dd6a93ee_e868_11ea_99c9_bd1473c30158row11_col15 {\n",
       "            background-color:  #cfcfff;\n",
       "            color:  #000000;\n",
       "        }    #T_dd6a93ee_e868_11ea_99c9_bd1473c30158row11_col16 {\n",
       "            background-color:  #cdcdff;\n",
       "            color:  #000000;\n",
       "        }    #T_dd6a93ee_e868_11ea_99c9_bd1473c30158row11_col17 {\n",
       "            background-color:  #d7d7ff;\n",
       "            color:  #000000;\n",
       "        }    #T_dd6a93ee_e868_11ea_99c9_bd1473c30158row12_col0 {\n",
       "            background-color:  #9b9bff;\n",
       "            color:  #000000;\n",
       "        }    #T_dd6a93ee_e868_11ea_99c9_bd1473c30158row12_col1 {\n",
       "            background-color:  #7878ff;\n",
       "            color:  #000000;\n",
       "        }    #T_dd6a93ee_e868_11ea_99c9_bd1473c30158row12_col2 {\n",
       "            background-color:  #a2a2ff;\n",
       "            color:  #000000;\n",
       "        }    #T_dd6a93ee_e868_11ea_99c9_bd1473c30158row12_col3 {\n",
       "            background-color:  #5959ff;\n",
       "            color:  #f1f1f1;\n",
       "        }    #T_dd6a93ee_e868_11ea_99c9_bd1473c30158row12_col4 {\n",
       "            background-color:  #9494ff;\n",
       "            color:  #000000;\n",
       "        }    #T_dd6a93ee_e868_11ea_99c9_bd1473c30158row12_col5 {\n",
       "            background-color:  #a6a6ff;\n",
       "            color:  #000000;\n",
       "        }    #T_dd6a93ee_e868_11ea_99c9_bd1473c30158row12_col6 {\n",
       "            background-color:  #b8b8ff;\n",
       "            color:  #000000;\n",
       "        }    #T_dd6a93ee_e868_11ea_99c9_bd1473c30158row12_col7 {\n",
       "            background-color:  #ababff;\n",
       "            color:  #000000;\n",
       "        }    #T_dd6a93ee_e868_11ea_99c9_bd1473c30158row12_col8 {\n",
       "            background-color:  #b2b2ff;\n",
       "            color:  #000000;\n",
       "        }    #T_dd6a93ee_e868_11ea_99c9_bd1473c30158row12_col9 {\n",
       "            background-color:  #a0a0ff;\n",
       "            color:  #000000;\n",
       "        }    #T_dd6a93ee_e868_11ea_99c9_bd1473c30158row12_col10 {\n",
       "            background-color:  #9898ff;\n",
       "            color:  #000000;\n",
       "        }    #T_dd6a93ee_e868_11ea_99c9_bd1473c30158row12_col11 {\n",
       "            background-color:  #9e9eff;\n",
       "            color:  #000000;\n",
       "        }    #T_dd6a93ee_e868_11ea_99c9_bd1473c30158row12_col12 {\n",
       "            background-color:  #0000ff;\n",
       "            color:  #f1f1f1;\n",
       "        }    #T_dd6a93ee_e868_11ea_99c9_bd1473c30158row12_col13 {\n",
       "            background-color:  #a4a4ff;\n",
       "            color:  #000000;\n",
       "        }    #T_dd6a93ee_e868_11ea_99c9_bd1473c30158row12_col14 {\n",
       "            background-color:  #8282ff;\n",
       "            color:  #000000;\n",
       "        }    #T_dd6a93ee_e868_11ea_99c9_bd1473c30158row12_col15 {\n",
       "            background-color:  #a7a7ff;\n",
       "            color:  #000000;\n",
       "        }    #T_dd6a93ee_e868_11ea_99c9_bd1473c30158row12_col16 {\n",
       "            background-color:  #9c9cff;\n",
       "            color:  #000000;\n",
       "        }    #T_dd6a93ee_e868_11ea_99c9_bd1473c30158row12_col17 {\n",
       "            background-color:  #bfbfff;\n",
       "            color:  #000000;\n",
       "        }    #T_dd6a93ee_e868_11ea_99c9_bd1473c30158row13_col0 {\n",
       "            background-color:  #b0b0ff;\n",
       "            color:  #000000;\n",
       "        }    #T_dd6a93ee_e868_11ea_99c9_bd1473c30158row13_col1 {\n",
       "            background-color:  #9c9cff;\n",
       "            color:  #000000;\n",
       "        }    #T_dd6a93ee_e868_11ea_99c9_bd1473c30158row13_col2 {\n",
       "            background-color:  #a9a9ff;\n",
       "            color:  #000000;\n",
       "        }    #T_dd6a93ee_e868_11ea_99c9_bd1473c30158row13_col3 {\n",
       "            background-color:  #aaaaff;\n",
       "            color:  #000000;\n",
       "        }    #T_dd6a93ee_e868_11ea_99c9_bd1473c30158row13_col4 {\n",
       "            background-color:  #5d5dff;\n",
       "            color:  #000000;\n",
       "        }    #T_dd6a93ee_e868_11ea_99c9_bd1473c30158row13_col5 {\n",
       "            background-color:  #a0a0ff;\n",
       "            color:  #000000;\n",
       "        }    #T_dd6a93ee_e868_11ea_99c9_bd1473c30158row13_col6 {\n",
       "            background-color:  #a8a8ff;\n",
       "            color:  #000000;\n",
       "        }    #T_dd6a93ee_e868_11ea_99c9_bd1473c30158row13_col7 {\n",
       "            background-color:  #9494ff;\n",
       "            color:  #000000;\n",
       "        }    #T_dd6a93ee_e868_11ea_99c9_bd1473c30158row13_col8 {\n",
       "            background-color:  #acacff;\n",
       "            color:  #000000;\n",
       "        }    #T_dd6a93ee_e868_11ea_99c9_bd1473c30158row13_col9 {\n",
       "            background-color:  #d6d6ff;\n",
       "            color:  #000000;\n",
       "        }    #T_dd6a93ee_e868_11ea_99c9_bd1473c30158row13_col10 {\n",
       "            background-color:  #adadff;\n",
       "            color:  #000000;\n",
       "        }    #T_dd6a93ee_e868_11ea_99c9_bd1473c30158row13_col11 {\n",
       "            background-color:  #8888ff;\n",
       "            color:  #000000;\n",
       "        }    #T_dd6a93ee_e868_11ea_99c9_bd1473c30158row13_col12 {\n",
       "            background-color:  #a4a4ff;\n",
       "            color:  #000000;\n",
       "        }    #T_dd6a93ee_e868_11ea_99c9_bd1473c30158row13_col13 {\n",
       "            background-color:  #0000ff;\n",
       "            color:  #f1f1f1;\n",
       "        }    #T_dd6a93ee_e868_11ea_99c9_bd1473c30158row13_col14 {\n",
       "            background-color:  #b4b4ff;\n",
       "            color:  #000000;\n",
       "        }    #T_dd6a93ee_e868_11ea_99c9_bd1473c30158row13_col15 {\n",
       "            background-color:  #8b8bff;\n",
       "            color:  #000000;\n",
       "        }    #T_dd6a93ee_e868_11ea_99c9_bd1473c30158row13_col16 {\n",
       "            background-color:  #8181ff;\n",
       "            color:  #000000;\n",
       "        }    #T_dd6a93ee_e868_11ea_99c9_bd1473c30158row13_col17 {\n",
       "            background-color:  #afafff;\n",
       "            color:  #000000;\n",
       "        }    #T_dd6a93ee_e868_11ea_99c9_bd1473c30158row14_col0 {\n",
       "            background-color:  #8484ff;\n",
       "            color:  #000000;\n",
       "        }    #T_dd6a93ee_e868_11ea_99c9_bd1473c30158row14_col1 {\n",
       "            background-color:  #5656ff;\n",
       "            color:  #f1f1f1;\n",
       "        }    #T_dd6a93ee_e868_11ea_99c9_bd1473c30158row14_col2 {\n",
       "            background-color:  #9b9bff;\n",
       "            color:  #000000;\n",
       "        }    #T_dd6a93ee_e868_11ea_99c9_bd1473c30158row14_col3 {\n",
       "            background-color:  #7979ff;\n",
       "            color:  #000000;\n",
       "        }    #T_dd6a93ee_e868_11ea_99c9_bd1473c30158row14_col4 {\n",
       "            background-color:  #a1a1ff;\n",
       "            color:  #000000;\n",
       "        }    #T_dd6a93ee_e868_11ea_99c9_bd1473c30158row14_col5 {\n",
       "            background-color:  #4d4dff;\n",
       "            color:  #f1f1f1;\n",
       "        }    #T_dd6a93ee_e868_11ea_99c9_bd1473c30158row14_col6 {\n",
       "            background-color:  #a3a3ff;\n",
       "            color:  #000000;\n",
       "        }    #T_dd6a93ee_e868_11ea_99c9_bd1473c30158row14_col7 {\n",
       "            background-color:  #a9a9ff;\n",
       "            color:  #000000;\n",
       "        }    #T_dd6a93ee_e868_11ea_99c9_bd1473c30158row14_col8 {\n",
       "            background-color:  #7d7dff;\n",
       "            color:  #000000;\n",
       "        }    #T_dd6a93ee_e868_11ea_99c9_bd1473c30158row14_col9 {\n",
       "            background-color:  #9595ff;\n",
       "            color:  #000000;\n",
       "        }    #T_dd6a93ee_e868_11ea_99c9_bd1473c30158row14_col10 {\n",
       "            background-color:  #6a6aff;\n",
       "            color:  #000000;\n",
       "        }    #T_dd6a93ee_e868_11ea_99c9_bd1473c30158row14_col11 {\n",
       "            background-color:  #9090ff;\n",
       "            color:  #000000;\n",
       "        }    #T_dd6a93ee_e868_11ea_99c9_bd1473c30158row14_col12 {\n",
       "            background-color:  #7171ff;\n",
       "            color:  #000000;\n",
       "        }    #T_dd6a93ee_e868_11ea_99c9_bd1473c30158row14_col13 {\n",
       "            background-color:  #9e9eff;\n",
       "            color:  #000000;\n",
       "        }    #T_dd6a93ee_e868_11ea_99c9_bd1473c30158row14_col14 {\n",
       "            background-color:  #0000ff;\n",
       "            color:  #f1f1f1;\n",
       "        }    #T_dd6a93ee_e868_11ea_99c9_bd1473c30158row14_col15 {\n",
       "            background-color:  #7f7fff;\n",
       "            color:  #000000;\n",
       "        }    #T_dd6a93ee_e868_11ea_99c9_bd1473c30158row14_col16 {\n",
       "            background-color:  #9e9eff;\n",
       "            color:  #000000;\n",
       "        }    #T_dd6a93ee_e868_11ea_99c9_bd1473c30158row14_col17 {\n",
       "            background-color:  #7d7dff;\n",
       "            color:  #000000;\n",
       "        }    #T_dd6a93ee_e868_11ea_99c9_bd1473c30158row15_col0 {\n",
       "            background-color:  #b0b0ff;\n",
       "            color:  #000000;\n",
       "        }    #T_dd6a93ee_e868_11ea_99c9_bd1473c30158row15_col1 {\n",
       "            background-color:  #acacff;\n",
       "            color:  #000000;\n",
       "        }    #T_dd6a93ee_e868_11ea_99c9_bd1473c30158row15_col2 {\n",
       "            background-color:  #c9c9ff;\n",
       "            color:  #000000;\n",
       "        }    #T_dd6a93ee_e868_11ea_99c9_bd1473c30158row15_col3 {\n",
       "            background-color:  #bbbbff;\n",
       "            color:  #000000;\n",
       "        }    #T_dd6a93ee_e868_11ea_99c9_bd1473c30158row15_col4 {\n",
       "            background-color:  #9e9eff;\n",
       "            color:  #000000;\n",
       "        }    #T_dd6a93ee_e868_11ea_99c9_bd1473c30158row15_col5 {\n",
       "            background-color:  #b3b3ff;\n",
       "            color:  #000000;\n",
       "        }    #T_dd6a93ee_e868_11ea_99c9_bd1473c30158row15_col6 {\n",
       "            background-color:  #6161ff;\n",
       "            color:  #000000;\n",
       "        }    #T_dd6a93ee_e868_11ea_99c9_bd1473c30158row15_col7 {\n",
       "            background-color:  #c0c0ff;\n",
       "            color:  #000000;\n",
       "        }    #T_dd6a93ee_e868_11ea_99c9_bd1473c30158row15_col8 {\n",
       "            background-color:  #8484ff;\n",
       "            color:  #000000;\n",
       "        }    #T_dd6a93ee_e868_11ea_99c9_bd1473c30158row15_col9 {\n",
       "            background-color:  #a9a9ff;\n",
       "            color:  #000000;\n",
       "        }    #T_dd6a93ee_e868_11ea_99c9_bd1473c30158row15_col10 {\n",
       "            background-color:  #aaaaff;\n",
       "            color:  #000000;\n",
       "        }    #T_dd6a93ee_e868_11ea_99c9_bd1473c30158row15_col11 {\n",
       "            background-color:  #c1c1ff;\n",
       "            color:  #000000;\n",
       "        }    #T_dd6a93ee_e868_11ea_99c9_bd1473c30158row15_col12 {\n",
       "            background-color:  #bcbcff;\n",
       "            color:  #000000;\n",
       "        }    #T_dd6a93ee_e868_11ea_99c9_bd1473c30158row15_col13 {\n",
       "            background-color:  #9e9eff;\n",
       "            color:  #000000;\n",
       "        }    #T_dd6a93ee_e868_11ea_99c9_bd1473c30158row15_col14 {\n",
       "            background-color:  #a2a2ff;\n",
       "            color:  #000000;\n",
       "        }    #T_dd6a93ee_e868_11ea_99c9_bd1473c30158row15_col15 {\n",
       "            background-color:  #0000ff;\n",
       "            color:  #f1f1f1;\n",
       "        }    #T_dd6a93ee_e868_11ea_99c9_bd1473c30158row15_col16 {\n",
       "            background-color:  #7d7dff;\n",
       "            color:  #000000;\n",
       "        }    #T_dd6a93ee_e868_11ea_99c9_bd1473c30158row15_col17 {\n",
       "            background-color:  #8d8dff;\n",
       "            color:  #000000;\n",
       "        }    #T_dd6a93ee_e868_11ea_99c9_bd1473c30158row16_col0 {\n",
       "            background-color:  #d4d4ff;\n",
       "            color:  #000000;\n",
       "        }    #T_dd6a93ee_e868_11ea_99c9_bd1473c30158row16_col1 {\n",
       "            background-color:  #b4b4ff;\n",
       "            color:  #000000;\n",
       "        }    #T_dd6a93ee_e868_11ea_99c9_bd1473c30158row16_col2 {\n",
       "            background-color:  #d0d0ff;\n",
       "            color:  #000000;\n",
       "        }    #T_dd6a93ee_e868_11ea_99c9_bd1473c30158row16_col3 {\n",
       "            background-color:  #ceceff;\n",
       "            color:  #000000;\n",
       "        }    #T_dd6a93ee_e868_11ea_99c9_bd1473c30158row16_col4 {\n",
       "            background-color:  #8181ff;\n",
       "            color:  #000000;\n",
       "        }    #T_dd6a93ee_e868_11ea_99c9_bd1473c30158row16_col5 {\n",
       "            background-color:  #dedeff;\n",
       "            color:  #000000;\n",
       "        }    #T_dd6a93ee_e868_11ea_99c9_bd1473c30158row16_col6 {\n",
       "            background-color:  #bfbfff;\n",
       "            color:  #000000;\n",
       "        }    #T_dd6a93ee_e868_11ea_99c9_bd1473c30158row16_col7 {\n",
       "            background-color:  #9292ff;\n",
       "            color:  #000000;\n",
       "        }    #T_dd6a93ee_e868_11ea_99c9_bd1473c30158row16_col8 {\n",
       "            background-color:  #8686ff;\n",
       "            color:  #000000;\n",
       "        }    #T_dd6a93ee_e868_11ea_99c9_bd1473c30158row16_col9 {\n",
       "            background-color:  #d3d3ff;\n",
       "            color:  #000000;\n",
       "        }    #T_dd6a93ee_e868_11ea_99c9_bd1473c30158row16_col10 {\n",
       "            background-color:  #cbcbff;\n",
       "            color:  #000000;\n",
       "        }    #T_dd6a93ee_e868_11ea_99c9_bd1473c30158row16_col11 {\n",
       "            background-color:  #c4c4ff;\n",
       "            color:  #000000;\n",
       "        }    #T_dd6a93ee_e868_11ea_99c9_bd1473c30158row16_col12 {\n",
       "            background-color:  #b6b6ff;\n",
       "            color:  #000000;\n",
       "        }    #T_dd6a93ee_e868_11ea_99c9_bd1473c30158row16_col13 {\n",
       "            background-color:  #9696ff;\n",
       "            color:  #000000;\n",
       "        }    #T_dd6a93ee_e868_11ea_99c9_bd1473c30158row16_col14 {\n",
       "            background-color:  #d2d2ff;\n",
       "            color:  #000000;\n",
       "        }    #T_dd6a93ee_e868_11ea_99c9_bd1473c30158row16_col15 {\n",
       "            background-color:  #8181ff;\n",
       "            color:  #000000;\n",
       "        }    #T_dd6a93ee_e868_11ea_99c9_bd1473c30158row16_col16 {\n",
       "            background-color:  #0000ff;\n",
       "            color:  #f1f1f1;\n",
       "        }    #T_dd6a93ee_e868_11ea_99c9_bd1473c30158row16_col17 {\n",
       "            background-color:  #8f8fff;\n",
       "            color:  #000000;\n",
       "        }    #T_dd6a93ee_e868_11ea_99c9_bd1473c30158row17_col0 {\n",
       "            background-color:  #c6c6ff;\n",
       "            color:  #000000;\n",
       "        }    #T_dd6a93ee_e868_11ea_99c9_bd1473c30158row17_col1 {\n",
       "            background-color:  #9e9eff;\n",
       "            color:  #000000;\n",
       "        }    #T_dd6a93ee_e868_11ea_99c9_bd1473c30158row17_col2 {\n",
       "            background-color:  #cacaff;\n",
       "            color:  #000000;\n",
       "        }    #T_dd6a93ee_e868_11ea_99c9_bd1473c30158row17_col3 {\n",
       "            background-color:  #e5e5ff;\n",
       "            color:  #000000;\n",
       "        }    #T_dd6a93ee_e868_11ea_99c9_bd1473c30158row17_col4 {\n",
       "            background-color:  #cacaff;\n",
       "            color:  #000000;\n",
       "        }    #T_dd6a93ee_e868_11ea_99c9_bd1473c30158row17_col5 {\n",
       "            background-color:  #c2c2ff;\n",
       "            color:  #000000;\n",
       "        }    #T_dd6a93ee_e868_11ea_99c9_bd1473c30158row17_col6 {\n",
       "            background-color:  #acacff;\n",
       "            color:  #000000;\n",
       "        }    #T_dd6a93ee_e868_11ea_99c9_bd1473c30158row17_col7 {\n",
       "            background-color:  #bebeff;\n",
       "            color:  #000000;\n",
       "        }    #T_dd6a93ee_e868_11ea_99c9_bd1473c30158row17_col8 {\n",
       "            background-color:  #2222ff;\n",
       "            color:  #f1f1f1;\n",
       "        }    #T_dd6a93ee_e868_11ea_99c9_bd1473c30158row17_col9 {\n",
       "            background-color:  #c9c9ff;\n",
       "            color:  #000000;\n",
       "        }    #T_dd6a93ee_e868_11ea_99c9_bd1473c30158row17_col10 {\n",
       "            background-color:  #9292ff;\n",
       "            color:  #000000;\n",
       "        }    #T_dd6a93ee_e868_11ea_99c9_bd1473c30158row17_col11 {\n",
       "            background-color:  #cdcdff;\n",
       "            color:  #000000;\n",
       "        }    #T_dd6a93ee_e868_11ea_99c9_bd1473c30158row17_col12 {\n",
       "            background-color:  #ddddff;\n",
       "            color:  #000000;\n",
       "        }    #T_dd6a93ee_e868_11ea_99c9_bd1473c30158row17_col13 {\n",
       "            background-color:  #cbcbff;\n",
       "            color:  #000000;\n",
       "        }    #T_dd6a93ee_e868_11ea_99c9_bd1473c30158row17_col14 {\n",
       "            background-color:  #a6a6ff;\n",
       "            color:  #000000;\n",
       "        }    #T_dd6a93ee_e868_11ea_99c9_bd1473c30158row17_col15 {\n",
       "            background-color:  #9292ff;\n",
       "            color:  #000000;\n",
       "        }    #T_dd6a93ee_e868_11ea_99c9_bd1473c30158row17_col16 {\n",
       "            background-color:  #8e8eff;\n",
       "            color:  #000000;\n",
       "        }    #T_dd6a93ee_e868_11ea_99c9_bd1473c30158row17_col17 {\n",
       "            background-color:  #0000ff;\n",
       "            color:  #f1f1f1;\n",
       "        }</style><table id=\"T_dd6a93ee_e868_11ea_99c9_bd1473c30158\" ><thead>    <tr>        <th class=\"blank level0\" ></th>        <th class=\"col_heading level0 col0\" >PI1</th>        <th class=\"col_heading level0 col1\" >PI2</th>        <th class=\"col_heading level0 col2\" >PI3</th>        <th class=\"col_heading level0 col3\" >PI4</th>        <th class=\"col_heading level0 col4\" >PI5</th>        <th class=\"col_heading level0 col5\" >PI6</th>        <th class=\"col_heading level0 col6\" >PI7</th>        <th class=\"col_heading level0 col7\" >PI8</th>        <th class=\"col_heading level0 col8\" >PI9</th>        <th class=\"col_heading level0 col9\" >I1</th>        <th class=\"col_heading level0 col10\" >I2</th>        <th class=\"col_heading level0 col11\" >I3</th>        <th class=\"col_heading level0 col12\" >I4</th>        <th class=\"col_heading level0 col13\" >I5</th>        <th class=\"col_heading level0 col14\" >I6</th>        <th class=\"col_heading level0 col15\" >I7</th>        <th class=\"col_heading level0 col16\" >I8</th>        <th class=\"col_heading level0 col17\" >I9</th>    </tr></thead><tbody>\n",
       "                <tr>\n",
       "                        <th id=\"T_dd6a93ee_e868_11ea_99c9_bd1473c30158level0_row0\" class=\"row_heading level0 row0\" >PI1</th>\n",
       "                        <td id=\"T_dd6a93ee_e868_11ea_99c9_bd1473c30158row0_col0\" class=\"data row0 col0\" >1</td>\n",
       "                        <td id=\"T_dd6a93ee_e868_11ea_99c9_bd1473c30158row0_col1\" class=\"data row0 col1\" >0.57</td>\n",
       "                        <td id=\"T_dd6a93ee_e868_11ea_99c9_bd1473c30158row0_col2\" class=\"data row0 col2\" >0.27</td>\n",
       "                        <td id=\"T_dd6a93ee_e868_11ea_99c9_bd1473c30158row0_col3\" class=\"data row0 col3\" >0.48</td>\n",
       "                        <td id=\"T_dd6a93ee_e868_11ea_99c9_bd1473c30158row0_col4\" class=\"data row0 col4\" >0.32</td>\n",
       "                        <td id=\"T_dd6a93ee_e868_11ea_99c9_bd1473c30158row0_col5\" class=\"data row0 col5\" >0.46</td>\n",
       "                        <td id=\"T_dd6a93ee_e868_11ea_99c9_bd1473c30158row0_col6\" class=\"data row0 col6\" >0.35</td>\n",
       "                        <td id=\"T_dd6a93ee_e868_11ea_99c9_bd1473c30158row0_col7\" class=\"data row0 col7\" >0.35</td>\n",
       "                        <td id=\"T_dd6a93ee_e868_11ea_99c9_bd1473c30158row0_col8\" class=\"data row0 col8\" >0.37</td>\n",
       "                        <td id=\"T_dd6a93ee_e868_11ea_99c9_bd1473c30158row0_col9\" class=\"data row0 col9\" >0.65</td>\n",
       "                        <td id=\"T_dd6a93ee_e868_11ea_99c9_bd1473c30158row0_col10\" class=\"data row0 col10\" >0.68</td>\n",
       "                        <td id=\"T_dd6a93ee_e868_11ea_99c9_bd1473c30158row0_col11\" class=\"data row0 col11\" >0.34</td>\n",
       "                        <td id=\"T_dd6a93ee_e868_11ea_99c9_bd1473c30158row0_col12\" class=\"data row0 col12\" >0.51</td>\n",
       "                        <td id=\"T_dd6a93ee_e868_11ea_99c9_bd1473c30158row0_col13\" class=\"data row0 col13\" >0.44</td>\n",
       "                        <td id=\"T_dd6a93ee_e868_11ea_99c9_bd1473c30158row0_col14\" class=\"data row0 col14\" >0.58</td>\n",
       "                        <td id=\"T_dd6a93ee_e868_11ea_99c9_bd1473c30158row0_col15\" class=\"data row0 col15\" >0.44</td>\n",
       "                        <td id=\"T_dd6a93ee_e868_11ea_99c9_bd1473c30158row0_col16\" class=\"data row0 col16\" >0.32</td>\n",
       "                        <td id=\"T_dd6a93ee_e868_11ea_99c9_bd1473c30158row0_col17\" class=\"data row0 col17\" >0.37</td>\n",
       "            </tr>\n",
       "            <tr>\n",
       "                        <th id=\"T_dd6a93ee_e868_11ea_99c9_bd1473c30158level0_row1\" class=\"row_heading level0 row1\" >PI2</th>\n",
       "                        <td id=\"T_dd6a93ee_e868_11ea_99c9_bd1473c30158row1_col0\" class=\"data row1 col0\" >0.57</td>\n",
       "                        <td id=\"T_dd6a93ee_e868_11ea_99c9_bd1473c30158row1_col1\" class=\"data row1 col1\" >1</td>\n",
       "                        <td id=\"T_dd6a93ee_e868_11ea_99c9_bd1473c30158row1_col2\" class=\"data row1 col2\" >0.36</td>\n",
       "                        <td id=\"T_dd6a93ee_e868_11ea_99c9_bd1473c30158row1_col3\" class=\"data row1 col3\" >0.41</td>\n",
       "                        <td id=\"T_dd6a93ee_e868_11ea_99c9_bd1473c30158row1_col4\" class=\"data row1 col4\" >0.3</td>\n",
       "                        <td id=\"T_dd6a93ee_e868_11ea_99c9_bd1473c30158row1_col5\" class=\"data row1 col5\" >0.62</td>\n",
       "                        <td id=\"T_dd6a93ee_e868_11ea_99c9_bd1473c30158row1_col6\" class=\"data row1 col6\" >0.14</td>\n",
       "                        <td id=\"T_dd6a93ee_e868_11ea_99c9_bd1473c30158row1_col7\" class=\"data row1 col7\" >0.41</td>\n",
       "                        <td id=\"T_dd6a93ee_e868_11ea_99c9_bd1473c30158row1_col8\" class=\"data row1 col8\" >0.36</td>\n",
       "                        <td id=\"T_dd6a93ee_e868_11ea_99c9_bd1473c30158row1_col9\" class=\"data row1 col9\" >0.46</td>\n",
       "                        <td id=\"T_dd6a93ee_e868_11ea_99c9_bd1473c30158row1_col10\" class=\"data row1 col10\" >0.68</td>\n",
       "                        <td id=\"T_dd6a93ee_e868_11ea_99c9_bd1473c30158row1_col11\" class=\"data row1 col11\" >0.46</td>\n",
       "                        <td id=\"T_dd6a93ee_e868_11ea_99c9_bd1473c30158row1_col12\" class=\"data row1 col12\" >0.55</td>\n",
       "                        <td id=\"T_dd6a93ee_e868_11ea_99c9_bd1473c30158row1_col13\" class=\"data row1 col13\" >0.41</td>\n",
       "                        <td id=\"T_dd6a93ee_e868_11ea_99c9_bd1473c30158row1_col14\" class=\"data row1 col14\" >0.67</td>\n",
       "                        <td id=\"T_dd6a93ee_e868_11ea_99c9_bd1473c30158row1_col15\" class=\"data row1 col15\" >0.35</td>\n",
       "                        <td id=\"T_dd6a93ee_e868_11ea_99c9_bd1473c30158row1_col16\" class=\"data row1 col16\" >0.32</td>\n",
       "                        <td id=\"T_dd6a93ee_e868_11ea_99c9_bd1473c30158row1_col17\" class=\"data row1 col17\" >0.41</td>\n",
       "            </tr>\n",
       "            <tr>\n",
       "                        <th id=\"T_dd6a93ee_e868_11ea_99c9_bd1473c30158level0_row2\" class=\"row_heading level0 row2\" >PI3</th>\n",
       "                        <td id=\"T_dd6a93ee_e868_11ea_99c9_bd1473c30158row2_col0\" class=\"data row2 col0\" >0.27</td>\n",
       "                        <td id=\"T_dd6a93ee_e868_11ea_99c9_bd1473c30158row2_col1\" class=\"data row2 col1\" >0.36</td>\n",
       "                        <td id=\"T_dd6a93ee_e868_11ea_99c9_bd1473c30158row2_col2\" class=\"data row2 col2\" >1</td>\n",
       "                        <td id=\"T_dd6a93ee_e868_11ea_99c9_bd1473c30158row2_col3\" class=\"data row2 col3\" >0.34</td>\n",
       "                        <td id=\"T_dd6a93ee_e868_11ea_99c9_bd1473c30158row2_col4\" class=\"data row2 col4\" >0.083</td>\n",
       "                        <td id=\"T_dd6a93ee_e868_11ea_99c9_bd1473c30158row2_col5\" class=\"data row2 col5\" >0.39</td>\n",
       "                        <td id=\"T_dd6a93ee_e868_11ea_99c9_bd1473c30158row2_col6\" class=\"data row2 col6\" >0.16</td>\n",
       "                        <td id=\"T_dd6a93ee_e868_11ea_99c9_bd1473c30158row2_col7\" class=\"data row2 col7\" >0.28</td>\n",
       "                        <td id=\"T_dd6a93ee_e868_11ea_99c9_bd1473c30158row2_col8\" class=\"data row2 col8\" >0.06</td>\n",
       "                        <td id=\"T_dd6a93ee_e868_11ea_99c9_bd1473c30158row2_col9\" class=\"data row2 col9\" >0.25</td>\n",
       "                        <td id=\"T_dd6a93ee_e868_11ea_99c9_bd1473c30158row2_col10\" class=\"data row2 col10\" >0.41</td>\n",
       "                        <td id=\"T_dd6a93ee_e868_11ea_99c9_bd1473c30158row2_col11\" class=\"data row2 col11\" >0.79</td>\n",
       "                        <td id=\"T_dd6a93ee_e868_11ea_99c9_bd1473c30158row2_col12\" class=\"data row2 col12\" >0.34</td>\n",
       "                        <td id=\"T_dd6a93ee_e868_11ea_99c9_bd1473c30158row2_col13\" class=\"data row2 col13\" >0.31</td>\n",
       "                        <td id=\"T_dd6a93ee_e868_11ea_99c9_bd1473c30158row2_col14\" class=\"data row2 col14\" >0.37</td>\n",
       "                        <td id=\"T_dd6a93ee_e868_11ea_99c9_bd1473c30158row2_col15\" class=\"data row2 col15\" >0.18</td>\n",
       "                        <td id=\"T_dd6a93ee_e868_11ea_99c9_bd1473c30158row2_col16\" class=\"data row2 col16\" >0.15</td>\n",
       "                        <td id=\"T_dd6a93ee_e868_11ea_99c9_bd1473c30158row2_col17\" class=\"data row2 col17\" >0.17</td>\n",
       "            </tr>\n",
       "            <tr>\n",
       "                        <th id=\"T_dd6a93ee_e868_11ea_99c9_bd1473c30158level0_row3\" class=\"row_heading level0 row3\" >PI4</th>\n",
       "                        <td id=\"T_dd6a93ee_e868_11ea_99c9_bd1473c30158row3_col0\" class=\"data row3 col0\" >0.48</td>\n",
       "                        <td id=\"T_dd6a93ee_e868_11ea_99c9_bd1473c30158row3_col1\" class=\"data row3 col1\" >0.41</td>\n",
       "                        <td id=\"T_dd6a93ee_e868_11ea_99c9_bd1473c30158row3_col2\" class=\"data row3 col2\" >0.34</td>\n",
       "                        <td id=\"T_dd6a93ee_e868_11ea_99c9_bd1473c30158row3_col3\" class=\"data row3 col3\" >1</td>\n",
       "                        <td id=\"T_dd6a93ee_e868_11ea_99c9_bd1473c30158row3_col4\" class=\"data row3 col4\" >0.37</td>\n",
       "                        <td id=\"T_dd6a93ee_e868_11ea_99c9_bd1473c30158row3_col5\" class=\"data row3 col5\" >0.55</td>\n",
       "                        <td id=\"T_dd6a93ee_e868_11ea_99c9_bd1473c30158row3_col6\" class=\"data row3 col6\" >0.23</td>\n",
       "                        <td id=\"T_dd6a93ee_e868_11ea_99c9_bd1473c30158row3_col7\" class=\"data row3 col7\" >0.27</td>\n",
       "                        <td id=\"T_dd6a93ee_e868_11ea_99c9_bd1473c30158row3_col8\" class=\"data row3 col8\" >0.18</td>\n",
       "                        <td id=\"T_dd6a93ee_e868_11ea_99c9_bd1473c30158row3_col9\" class=\"data row3 col9\" >0.45</td>\n",
       "                        <td id=\"T_dd6a93ee_e868_11ea_99c9_bd1473c30158row3_col10\" class=\"data row3 col10\" >0.49</td>\n",
       "                        <td id=\"T_dd6a93ee_e868_11ea_99c9_bd1473c30158row3_col11\" class=\"data row3 col11\" >0.34</td>\n",
       "                        <td id=\"T_dd6a93ee_e868_11ea_99c9_bd1473c30158row3_col12\" class=\"data row3 col12\" >0.67</td>\n",
       "                        <td id=\"T_dd6a93ee_e868_11ea_99c9_bd1473c30158row3_col13\" class=\"data row3 col13\" >0.37</td>\n",
       "                        <td id=\"T_dd6a93ee_e868_11ea_99c9_bd1473c30158row3_col14\" class=\"data row3 col14\" >0.55</td>\n",
       "                        <td id=\"T_dd6a93ee_e868_11ea_99c9_bd1473c30158row3_col15\" class=\"data row3 col15\" >0.31</td>\n",
       "                        <td id=\"T_dd6a93ee_e868_11ea_99c9_bd1473c30158row3_col16\" class=\"data row3 col16\" >0.24</td>\n",
       "                        <td id=\"T_dd6a93ee_e868_11ea_99c9_bd1473c30158row3_col17\" class=\"data row3 col17\" >0.15</td>\n",
       "            </tr>\n",
       "            <tr>\n",
       "                        <th id=\"T_dd6a93ee_e868_11ea_99c9_bd1473c30158level0_row4\" class=\"row_heading level0 row4\" >PI5</th>\n",
       "                        <td id=\"T_dd6a93ee_e868_11ea_99c9_bd1473c30158row4_col0\" class=\"data row4 col0\" >0.32</td>\n",
       "                        <td id=\"T_dd6a93ee_e868_11ea_99c9_bd1473c30158row4_col1\" class=\"data row4 col1\" >0.3</td>\n",
       "                        <td id=\"T_dd6a93ee_e868_11ea_99c9_bd1473c30158row4_col2\" class=\"data row4 col2\" >0.083</td>\n",
       "                        <td id=\"T_dd6a93ee_e868_11ea_99c9_bd1473c30158row4_col3\" class=\"data row4 col3\" >0.37</td>\n",
       "                        <td id=\"T_dd6a93ee_e868_11ea_99c9_bd1473c30158row4_col4\" class=\"data row4 col4\" >1</td>\n",
       "                        <td id=\"T_dd6a93ee_e868_11ea_99c9_bd1473c30158row4_col5\" class=\"data row4 col5\" >0.31</td>\n",
       "                        <td id=\"T_dd6a93ee_e868_11ea_99c9_bd1473c30158row4_col6\" class=\"data row4 col6\" >0.23</td>\n",
       "                        <td id=\"T_dd6a93ee_e868_11ea_99c9_bd1473c30158row4_col7\" class=\"data row4 col7\" >0.32</td>\n",
       "                        <td id=\"T_dd6a93ee_e868_11ea_99c9_bd1473c30158row4_col8\" class=\"data row4 col8\" >0.25</td>\n",
       "                        <td id=\"T_dd6a93ee_e868_11ea_99c9_bd1473c30158row4_col9\" class=\"data row4 col9\" >0.22</td>\n",
       "                        <td id=\"T_dd6a93ee_e868_11ea_99c9_bd1473c30158row4_col10\" class=\"data row4 col10\" >0.37</td>\n",
       "                        <td id=\"T_dd6a93ee_e868_11ea_99c9_bd1473c30158row4_col11\" class=\"data row4 col11\" >0.25</td>\n",
       "                        <td id=\"T_dd6a93ee_e868_11ea_99c9_bd1473c30158row4_col12\" class=\"data row4 col12\" >0.41</td>\n",
       "                        <td id=\"T_dd6a93ee_e868_11ea_99c9_bd1473c30158row4_col13\" class=\"data row4 col13\" >0.63</td>\n",
       "                        <td id=\"T_dd6a93ee_e868_11ea_99c9_bd1473c30158row4_col14\" class=\"data row4 col14\" >0.36</td>\n",
       "                        <td id=\"T_dd6a93ee_e868_11ea_99c9_bd1473c30158row4_col15\" class=\"data row4 col15\" >0.37</td>\n",
       "                        <td id=\"T_dd6a93ee_e868_11ea_99c9_bd1473c30158row4_col16\" class=\"data row4 col16\" >0.49</td>\n",
       "                        <td id=\"T_dd6a93ee_e868_11ea_99c9_bd1473c30158row4_col17\" class=\"data row4 col17\" >0.19</td>\n",
       "            </tr>\n",
       "            <tr>\n",
       "                        <th id=\"T_dd6a93ee_e868_11ea_99c9_bd1473c30158level0_row5\" class=\"row_heading level0 row5\" >PI6</th>\n",
       "                        <td id=\"T_dd6a93ee_e868_11ea_99c9_bd1473c30158row5_col0\" class=\"data row5 col0\" >0.46</td>\n",
       "                        <td id=\"T_dd6a93ee_e868_11ea_99c9_bd1473c30158row5_col1\" class=\"data row5 col1\" >0.62</td>\n",
       "                        <td id=\"T_dd6a93ee_e868_11ea_99c9_bd1473c30158row5_col2\" class=\"data row5 col2\" >0.39</td>\n",
       "                        <td id=\"T_dd6a93ee_e868_11ea_99c9_bd1473c30158row5_col3\" class=\"data row5 col3\" >0.55</td>\n",
       "                        <td id=\"T_dd6a93ee_e868_11ea_99c9_bd1473c30158row5_col4\" class=\"data row5 col4\" >0.31</td>\n",
       "                        <td id=\"T_dd6a93ee_e868_11ea_99c9_bd1473c30158row5_col5\" class=\"data row5 col5\" >1</td>\n",
       "                        <td id=\"T_dd6a93ee_e868_11ea_99c9_bd1473c30158row5_col6\" class=\"data row5 col6\" >0.29</td>\n",
       "                        <td id=\"T_dd6a93ee_e868_11ea_99c9_bd1473c30158row5_col7\" class=\"data row5 col7\" >0.41</td>\n",
       "                        <td id=\"T_dd6a93ee_e868_11ea_99c9_bd1473c30158row5_col8\" class=\"data row5 col8\" >0.39</td>\n",
       "                        <td id=\"T_dd6a93ee_e868_11ea_99c9_bd1473c30158row5_col9\" class=\"data row5 col9\" >0.44</td>\n",
       "                        <td id=\"T_dd6a93ee_e868_11ea_99c9_bd1473c30158row5_col10\" class=\"data row5 col10\" >0.6</td>\n",
       "                        <td id=\"T_dd6a93ee_e868_11ea_99c9_bd1473c30158row5_col11\" class=\"data row5 col11\" >0.49</td>\n",
       "                        <td id=\"T_dd6a93ee_e868_11ea_99c9_bd1473c30158row5_col12\" class=\"data row5 col12\" >0.49</td>\n",
       "                        <td id=\"T_dd6a93ee_e868_11ea_99c9_bd1473c30158row5_col13\" class=\"data row5 col13\" >0.51</td>\n",
       "                        <td id=\"T_dd6a93ee_e868_11ea_99c9_bd1473c30158row5_col14\" class=\"data row5 col14\" >0.76</td>\n",
       "                        <td id=\"T_dd6a93ee_e868_11ea_99c9_bd1473c30158row5_col15\" class=\"data row5 col15\" >0.45</td>\n",
       "                        <td id=\"T_dd6a93ee_e868_11ea_99c9_bd1473c30158row5_col16\" class=\"data row5 col16\" >0.32</td>\n",
       "                        <td id=\"T_dd6a93ee_e868_11ea_99c9_bd1473c30158row5_col17\" class=\"data row5 col17\" >0.4</td>\n",
       "            </tr>\n",
       "            <tr>\n",
       "                        <th id=\"T_dd6a93ee_e868_11ea_99c9_bd1473c30158level0_row6\" class=\"row_heading level0 row6\" >PI7</th>\n",
       "                        <td id=\"T_dd6a93ee_e868_11ea_99c9_bd1473c30158row6_col0\" class=\"data row6 col0\" >0.35</td>\n",
       "                        <td id=\"T_dd6a93ee_e868_11ea_99c9_bd1473c30158row6_col1\" class=\"data row6 col1\" >0.14</td>\n",
       "                        <td id=\"T_dd6a93ee_e868_11ea_99c9_bd1473c30158row6_col2\" class=\"data row6 col2\" >0.16</td>\n",
       "                        <td id=\"T_dd6a93ee_e868_11ea_99c9_bd1473c30158row6_col3\" class=\"data row6 col3\" >0.23</td>\n",
       "                        <td id=\"T_dd6a93ee_e868_11ea_99c9_bd1473c30158row6_col4\" class=\"data row6 col4\" >0.23</td>\n",
       "                        <td id=\"T_dd6a93ee_e868_11ea_99c9_bd1473c30158row6_col5\" class=\"data row6 col5\" >0.29</td>\n",
       "                        <td id=\"T_dd6a93ee_e868_11ea_99c9_bd1473c30158row6_col6\" class=\"data row6 col6\" >1</td>\n",
       "                        <td id=\"T_dd6a93ee_e868_11ea_99c9_bd1473c30158row6_col7\" class=\"data row6 col7\" >0.16</td>\n",
       "                        <td id=\"T_dd6a93ee_e868_11ea_99c9_bd1473c30158row6_col8\" class=\"data row6 col8\" >0.28</td>\n",
       "                        <td id=\"T_dd6a93ee_e868_11ea_99c9_bd1473c30158row6_col9\" class=\"data row6 col9\" >0.38</td>\n",
       "                        <td id=\"T_dd6a93ee_e868_11ea_99c9_bd1473c30158row6_col10\" class=\"data row6 col10\" >0.35</td>\n",
       "                        <td id=\"T_dd6a93ee_e868_11ea_99c9_bd1473c30158row6_col11\" class=\"data row6 col11\" >0.11</td>\n",
       "                        <td id=\"T_dd6a93ee_e868_11ea_99c9_bd1473c30158row6_col12\" class=\"data row6 col12\" >0.29</td>\n",
       "                        <td id=\"T_dd6a93ee_e868_11ea_99c9_bd1473c30158row6_col13\" class=\"data row6 col13\" >0.35</td>\n",
       "                        <td id=\"T_dd6a93ee_e868_11ea_99c9_bd1473c30158row6_col14\" class=\"data row6 col14\" >0.37</td>\n",
       "                        <td id=\"T_dd6a93ee_e868_11ea_99c9_bd1473c30158row6_col15\" class=\"data row6 col15\" >0.62</td>\n",
       "                        <td id=\"T_dd6a93ee_e868_11ea_99c9_bd1473c30158row6_col16\" class=\"data row6 col16\" >0.26</td>\n",
       "                        <td id=\"T_dd6a93ee_e868_11ea_99c9_bd1473c30158row6_col17\" class=\"data row6 col17\" >0.34</td>\n",
       "            </tr>\n",
       "            <tr>\n",
       "                        <th id=\"T_dd6a93ee_e868_11ea_99c9_bd1473c30158level0_row7\" class=\"row_heading level0 row7\" >PI8</th>\n",
       "                        <td id=\"T_dd6a93ee_e868_11ea_99c9_bd1473c30158row7_col0\" class=\"data row7 col0\" >0.35</td>\n",
       "                        <td id=\"T_dd6a93ee_e868_11ea_99c9_bd1473c30158row7_col1\" class=\"data row7 col1\" >0.41</td>\n",
       "                        <td id=\"T_dd6a93ee_e868_11ea_99c9_bd1473c30158row7_col2\" class=\"data row7 col2\" >0.28</td>\n",
       "                        <td id=\"T_dd6a93ee_e868_11ea_99c9_bd1473c30158row7_col3\" class=\"data row7 col3\" >0.27</td>\n",
       "                        <td id=\"T_dd6a93ee_e868_11ea_99c9_bd1473c30158row7_col4\" class=\"data row7 col4\" >0.32</td>\n",
       "                        <td id=\"T_dd6a93ee_e868_11ea_99c9_bd1473c30158row7_col5\" class=\"data row7 col5\" >0.41</td>\n",
       "                        <td id=\"T_dd6a93ee_e868_11ea_99c9_bd1473c30158row7_col6\" class=\"data row7 col6\" >0.16</td>\n",
       "                        <td id=\"T_dd6a93ee_e868_11ea_99c9_bd1473c30158row7_col7\" class=\"data row7 col7\" >1</td>\n",
       "                        <td id=\"T_dd6a93ee_e868_11ea_99c9_bd1473c30158row7_col8\" class=\"data row7 col8\" >0.3</td>\n",
       "                        <td id=\"T_dd6a93ee_e868_11ea_99c9_bd1473c30158row7_col9\" class=\"data row7 col9\" >0.27</td>\n",
       "                        <td id=\"T_dd6a93ee_e868_11ea_99c9_bd1473c30158row7_col10\" class=\"data row7 col10\" >0.35</td>\n",
       "                        <td id=\"T_dd6a93ee_e868_11ea_99c9_bd1473c30158row7_col11\" class=\"data row7 col11\" >0.35</td>\n",
       "                        <td id=\"T_dd6a93ee_e868_11ea_99c9_bd1473c30158row7_col12\" class=\"data row7 col12\" >0.37</td>\n",
       "                        <td id=\"T_dd6a93ee_e868_11ea_99c9_bd1473c30158row7_col13\" class=\"data row7 col13\" >0.46</td>\n",
       "                        <td id=\"T_dd6a93ee_e868_11ea_99c9_bd1473c30158row7_col14\" class=\"data row7 col14\" >0.38</td>\n",
       "                        <td id=\"T_dd6a93ee_e868_11ea_99c9_bd1473c30158row7_col15\" class=\"data row7 col15\" >0.3</td>\n",
       "                        <td id=\"T_dd6a93ee_e868_11ea_99c9_bd1473c30158row7_col16\" class=\"data row7 col16\" >0.47</td>\n",
       "                        <td id=\"T_dd6a93ee_e868_11ea_99c9_bd1473c30158row7_col17\" class=\"data row7 col17\" >0.31</td>\n",
       "            </tr>\n",
       "            <tr>\n",
       "                        <th id=\"T_dd6a93ee_e868_11ea_99c9_bd1473c30158level0_row8\" class=\"row_heading level0 row8\" >PI9</th>\n",
       "                        <td id=\"T_dd6a93ee_e868_11ea_99c9_bd1473c30158row8_col0\" class=\"data row8 col0\" >0.37</td>\n",
       "                        <td id=\"T_dd6a93ee_e868_11ea_99c9_bd1473c30158row8_col1\" class=\"data row8 col1\" >0.36</td>\n",
       "                        <td id=\"T_dd6a93ee_e868_11ea_99c9_bd1473c30158row8_col2\" class=\"data row8 col2\" >0.06</td>\n",
       "                        <td id=\"T_dd6a93ee_e868_11ea_99c9_bd1473c30158row8_col3\" class=\"data row8 col3\" >0.18</td>\n",
       "                        <td id=\"T_dd6a93ee_e868_11ea_99c9_bd1473c30158row8_col4\" class=\"data row8 col4\" >0.25</td>\n",
       "                        <td id=\"T_dd6a93ee_e868_11ea_99c9_bd1473c30158row8_col5\" class=\"data row8 col5\" >0.39</td>\n",
       "                        <td id=\"T_dd6a93ee_e868_11ea_99c9_bd1473c30158row8_col6\" class=\"data row8 col6\" >0.28</td>\n",
       "                        <td id=\"T_dd6a93ee_e868_11ea_99c9_bd1473c30158row8_col7\" class=\"data row8 col7\" >0.3</td>\n",
       "                        <td id=\"T_dd6a93ee_e868_11ea_99c9_bd1473c30158row8_col8\" class=\"data row8 col8\" >1</td>\n",
       "                        <td id=\"T_dd6a93ee_e868_11ea_99c9_bd1473c30158row8_col9\" class=\"data row8 col9\" >0.26</td>\n",
       "                        <td id=\"T_dd6a93ee_e868_11ea_99c9_bd1473c30158row8_col10\" class=\"data row8 col10\" >0.54</td>\n",
       "                        <td id=\"T_dd6a93ee_e868_11ea_99c9_bd1473c30158row8_col11\" class=\"data row8 col11\" >0.13</td>\n",
       "                        <td id=\"T_dd6a93ee_e868_11ea_99c9_bd1473c30158row8_col12\" class=\"data row8 col12\" >0.27</td>\n",
       "                        <td id=\"T_dd6a93ee_e868_11ea_99c9_bd1473c30158row8_col13\" class=\"data row8 col13\" >0.3</td>\n",
       "                        <td id=\"T_dd6a93ee_e868_11ea_99c9_bd1473c30158row8_col14\" class=\"data row8 col14\" >0.49</td>\n",
       "                        <td id=\"T_dd6a93ee_e868_11ea_99c9_bd1473c30158row8_col15\" class=\"data row8 col15\" >0.46</td>\n",
       "                        <td id=\"T_dd6a93ee_e868_11ea_99c9_bd1473c30158row8_col16\" class=\"data row8 col16\" >0.45</td>\n",
       "                        <td id=\"T_dd6a93ee_e868_11ea_99c9_bd1473c30158row8_col17\" class=\"data row8 col17\" >0.86</td>\n",
       "            </tr>\n",
       "            <tr>\n",
       "                        <th id=\"T_dd6a93ee_e868_11ea_99c9_bd1473c30158level0_row9\" class=\"row_heading level0 row9\" >I1</th>\n",
       "                        <td id=\"T_dd6a93ee_e868_11ea_99c9_bd1473c30158row9_col0\" class=\"data row9 col0\" >0.65</td>\n",
       "                        <td id=\"T_dd6a93ee_e868_11ea_99c9_bd1473c30158row9_col1\" class=\"data row9 col1\" >0.46</td>\n",
       "                        <td id=\"T_dd6a93ee_e868_11ea_99c9_bd1473c30158row9_col2\" class=\"data row9 col2\" >0.25</td>\n",
       "                        <td id=\"T_dd6a93ee_e868_11ea_99c9_bd1473c30158row9_col3\" class=\"data row9 col3\" >0.45</td>\n",
       "                        <td id=\"T_dd6a93ee_e868_11ea_99c9_bd1473c30158row9_col4\" class=\"data row9 col4\" >0.22</td>\n",
       "                        <td id=\"T_dd6a93ee_e868_11ea_99c9_bd1473c30158row9_col5\" class=\"data row9 col5\" >0.44</td>\n",
       "                        <td id=\"T_dd6a93ee_e868_11ea_99c9_bd1473c30158row9_col6\" class=\"data row9 col6\" >0.38</td>\n",
       "                        <td id=\"T_dd6a93ee_e868_11ea_99c9_bd1473c30158row9_col7\" class=\"data row9 col7\" >0.27</td>\n",
       "                        <td id=\"T_dd6a93ee_e868_11ea_99c9_bd1473c30158row9_col8\" class=\"data row9 col8\" >0.26</td>\n",
       "                        <td id=\"T_dd6a93ee_e868_11ea_99c9_bd1473c30158row9_col9\" class=\"data row9 col9\" >1</td>\n",
       "                        <td id=\"T_dd6a93ee_e868_11ea_99c9_bd1473c30158row9_col10\" class=\"data row9 col10\" >0.63</td>\n",
       "                        <td id=\"T_dd6a93ee_e868_11ea_99c9_bd1473c30158row9_col11\" class=\"data row9 col11\" >0.28</td>\n",
       "                        <td id=\"T_dd6a93ee_e868_11ea_99c9_bd1473c30158row9_col12\" class=\"data row9 col12\" >0.45</td>\n",
       "                        <td id=\"T_dd6a93ee_e868_11ea_99c9_bd1473c30158row9_col13\" class=\"data row9 col13\" >0.27</td>\n",
       "                        <td id=\"T_dd6a93ee_e868_11ea_99c9_bd1473c30158row9_col14\" class=\"data row9 col14\" >0.49</td>\n",
       "                        <td id=\"T_dd6a93ee_e868_11ea_99c9_bd1473c30158row9_col15\" class=\"data row9 col15\" >0.42</td>\n",
       "                        <td id=\"T_dd6a93ee_e868_11ea_99c9_bd1473c30158row9_col16\" class=\"data row9 col16\" >0.28</td>\n",
       "                        <td id=\"T_dd6a93ee_e868_11ea_99c9_bd1473c30158row9_col17\" class=\"data row9 col17\" >0.32</td>\n",
       "            </tr>\n",
       "            <tr>\n",
       "                        <th id=\"T_dd6a93ee_e868_11ea_99c9_bd1473c30158level0_row10\" class=\"row_heading level0 row10\" >I2</th>\n",
       "                        <td id=\"T_dd6a93ee_e868_11ea_99c9_bd1473c30158row10_col0\" class=\"data row10 col0\" >0.68</td>\n",
       "                        <td id=\"T_dd6a93ee_e868_11ea_99c9_bd1473c30158row10_col1\" class=\"data row10 col1\" >0.68</td>\n",
       "                        <td id=\"T_dd6a93ee_e868_11ea_99c9_bd1473c30158row10_col2\" class=\"data row10 col2\" >0.41</td>\n",
       "                        <td id=\"T_dd6a93ee_e868_11ea_99c9_bd1473c30158row10_col3\" class=\"data row10 col3\" >0.49</td>\n",
       "                        <td id=\"T_dd6a93ee_e868_11ea_99c9_bd1473c30158row10_col4\" class=\"data row10 col4\" >0.37</td>\n",
       "                        <td id=\"T_dd6a93ee_e868_11ea_99c9_bd1473c30158row10_col5\" class=\"data row10 col5\" >0.6</td>\n",
       "                        <td id=\"T_dd6a93ee_e868_11ea_99c9_bd1473c30158row10_col6\" class=\"data row10 col6\" >0.35</td>\n",
       "                        <td id=\"T_dd6a93ee_e868_11ea_99c9_bd1473c30158row10_col7\" class=\"data row10 col7\" >0.35</td>\n",
       "                        <td id=\"T_dd6a93ee_e868_11ea_99c9_bd1473c30158row10_col8\" class=\"data row10 col8\" >0.54</td>\n",
       "                        <td id=\"T_dd6a93ee_e868_11ea_99c9_bd1473c30158row10_col9\" class=\"data row10 col9\" >0.63</td>\n",
       "                        <td id=\"T_dd6a93ee_e868_11ea_99c9_bd1473c30158row10_col10\" class=\"data row10 col10\" >1</td>\n",
       "                        <td id=\"T_dd6a93ee_e868_11ea_99c9_bd1473c30158row10_col11\" class=\"data row10 col11\" >0.46</td>\n",
       "                        <td id=\"T_dd6a93ee_e868_11ea_99c9_bd1473c30158row10_col12\" class=\"data row10 col12\" >0.57</td>\n",
       "                        <td id=\"T_dd6a93ee_e868_11ea_99c9_bd1473c30158row10_col13\" class=\"data row10 col13\" >0.51</td>\n",
       "                        <td id=\"T_dd6a93ee_e868_11ea_99c9_bd1473c30158row10_col14\" class=\"data row10 col14\" >0.7</td>\n",
       "                        <td id=\"T_dd6a93ee_e868_11ea_99c9_bd1473c30158row10_col15\" class=\"data row10 col15\" >0.52</td>\n",
       "                        <td id=\"T_dd6a93ee_e868_11ea_99c9_bd1473c30158row10_col16\" class=\"data row10 col16\" >0.42</td>\n",
       "                        <td id=\"T_dd6a93ee_e868_11ea_99c9_bd1473c30158row10_col17\" class=\"data row10 col17\" >0.59</td>\n",
       "            </tr>\n",
       "            <tr>\n",
       "                        <th id=\"T_dd6a93ee_e868_11ea_99c9_bd1473c30158level0_row11\" class=\"row_heading level0 row11\" >I3</th>\n",
       "                        <td id=\"T_dd6a93ee_e868_11ea_99c9_bd1473c30158row11_col0\" class=\"data row11 col0\" >0.34</td>\n",
       "                        <td id=\"T_dd6a93ee_e868_11ea_99c9_bd1473c30158row11_col1\" class=\"data row11 col1\" >0.46</td>\n",
       "                        <td id=\"T_dd6a93ee_e868_11ea_99c9_bd1473c30158row11_col2\" class=\"data row11 col2\" >0.79</td>\n",
       "                        <td id=\"T_dd6a93ee_e868_11ea_99c9_bd1473c30158row11_col3\" class=\"data row11 col3\" >0.34</td>\n",
       "                        <td id=\"T_dd6a93ee_e868_11ea_99c9_bd1473c30158row11_col4\" class=\"data row11 col4\" >0.25</td>\n",
       "                        <td id=\"T_dd6a93ee_e868_11ea_99c9_bd1473c30158row11_col5\" class=\"data row11 col5\" >0.49</td>\n",
       "                        <td id=\"T_dd6a93ee_e868_11ea_99c9_bd1473c30158row11_col6\" class=\"data row11 col6\" >0.11</td>\n",
       "                        <td id=\"T_dd6a93ee_e868_11ea_99c9_bd1473c30158row11_col7\" class=\"data row11 col7\" >0.35</td>\n",
       "                        <td id=\"T_dd6a93ee_e868_11ea_99c9_bd1473c30158row11_col8\" class=\"data row11 col8\" >0.13</td>\n",
       "                        <td id=\"T_dd6a93ee_e868_11ea_99c9_bd1473c30158row11_col9\" class=\"data row11 col9\" >0.28</td>\n",
       "                        <td id=\"T_dd6a93ee_e868_11ea_99c9_bd1473c30158row11_col10\" class=\"data row11 col10\" >0.46</td>\n",
       "                        <td id=\"T_dd6a93ee_e868_11ea_99c9_bd1473c30158row11_col11\" class=\"data row11 col11\" >1</td>\n",
       "                        <td id=\"T_dd6a93ee_e868_11ea_99c9_bd1473c30158row11_col12\" class=\"data row11 col12\" >0.39</td>\n",
       "                        <td id=\"T_dd6a93ee_e868_11ea_99c9_bd1473c30158row11_col13\" class=\"data row11 col13\" >0.48</td>\n",
       "                        <td id=\"T_dd6a93ee_e868_11ea_99c9_bd1473c30158row11_col14\" class=\"data row11 col14\" >0.44</td>\n",
       "                        <td id=\"T_dd6a93ee_e868_11ea_99c9_bd1473c30158row11_col15\" class=\"data row11 col15\" >0.26</td>\n",
       "                        <td id=\"T_dd6a93ee_e868_11ea_99c9_bd1473c30158row11_col16\" class=\"data row11 col16\" >0.24</td>\n",
       "                        <td id=\"T_dd6a93ee_e868_11ea_99c9_bd1473c30158row11_col17\" class=\"data row11 col17\" >0.21</td>\n",
       "            </tr>\n",
       "            <tr>\n",
       "                        <th id=\"T_dd6a93ee_e868_11ea_99c9_bd1473c30158level0_row12\" class=\"row_heading level0 row12\" >I4</th>\n",
       "                        <td id=\"T_dd6a93ee_e868_11ea_99c9_bd1473c30158row12_col0\" class=\"data row12 col0\" >0.51</td>\n",
       "                        <td id=\"T_dd6a93ee_e868_11ea_99c9_bd1473c30158row12_col1\" class=\"data row12 col1\" >0.55</td>\n",
       "                        <td id=\"T_dd6a93ee_e868_11ea_99c9_bd1473c30158row12_col2\" class=\"data row12 col2\" >0.34</td>\n",
       "                        <td id=\"T_dd6a93ee_e868_11ea_99c9_bd1473c30158row12_col3\" class=\"data row12 col3\" >0.67</td>\n",
       "                        <td id=\"T_dd6a93ee_e868_11ea_99c9_bd1473c30158row12_col4\" class=\"data row12 col4\" >0.41</td>\n",
       "                        <td id=\"T_dd6a93ee_e868_11ea_99c9_bd1473c30158row12_col5\" class=\"data row12 col5\" >0.49</td>\n",
       "                        <td id=\"T_dd6a93ee_e868_11ea_99c9_bd1473c30158row12_col6\" class=\"data row12 col6\" >0.29</td>\n",
       "                        <td id=\"T_dd6a93ee_e868_11ea_99c9_bd1473c30158row12_col7\" class=\"data row12 col7\" >0.37</td>\n",
       "                        <td id=\"T_dd6a93ee_e868_11ea_99c9_bd1473c30158row12_col8\" class=\"data row12 col8\" >0.27</td>\n",
       "                        <td id=\"T_dd6a93ee_e868_11ea_99c9_bd1473c30158row12_col9\" class=\"data row12 col9\" >0.45</td>\n",
       "                        <td id=\"T_dd6a93ee_e868_11ea_99c9_bd1473c30158row12_col10\" class=\"data row12 col10\" >0.57</td>\n",
       "                        <td id=\"T_dd6a93ee_e868_11ea_99c9_bd1473c30158row12_col11\" class=\"data row12 col11\" >0.39</td>\n",
       "                        <td id=\"T_dd6a93ee_e868_11ea_99c9_bd1473c30158row12_col12\" class=\"data row12 col12\" >1</td>\n",
       "                        <td id=\"T_dd6a93ee_e868_11ea_99c9_bd1473c30158row12_col13\" class=\"data row12 col13\" >0.48</td>\n",
       "                        <td id=\"T_dd6a93ee_e868_11ea_99c9_bd1473c30158row12_col14\" class=\"data row12 col14\" >0.64</td>\n",
       "                        <td id=\"T_dd6a93ee_e868_11ea_99c9_bd1473c30158row12_col15\" class=\"data row12 col15\" >0.4</td>\n",
       "                        <td id=\"T_dd6a93ee_e868_11ea_99c9_bd1473c30158row12_col16\" class=\"data row12 col16\" >0.42</td>\n",
       "                        <td id=\"T_dd6a93ee_e868_11ea_99c9_bd1473c30158row12_col17\" class=\"data row12 col17\" >0.3</td>\n",
       "            </tr>\n",
       "            <tr>\n",
       "                        <th id=\"T_dd6a93ee_e868_11ea_99c9_bd1473c30158level0_row13\" class=\"row_heading level0 row13\" >I5</th>\n",
       "                        <td id=\"T_dd6a93ee_e868_11ea_99c9_bd1473c30158row13_col0\" class=\"data row13 col0\" >0.44</td>\n",
       "                        <td id=\"T_dd6a93ee_e868_11ea_99c9_bd1473c30158row13_col1\" class=\"data row13 col1\" >0.41</td>\n",
       "                        <td id=\"T_dd6a93ee_e868_11ea_99c9_bd1473c30158row13_col2\" class=\"data row13 col2\" >0.31</td>\n",
       "                        <td id=\"T_dd6a93ee_e868_11ea_99c9_bd1473c30158row13_col3\" class=\"data row13 col3\" >0.37</td>\n",
       "                        <td id=\"T_dd6a93ee_e868_11ea_99c9_bd1473c30158row13_col4\" class=\"data row13 col4\" >0.63</td>\n",
       "                        <td id=\"T_dd6a93ee_e868_11ea_99c9_bd1473c30158row13_col5\" class=\"data row13 col5\" >0.51</td>\n",
       "                        <td id=\"T_dd6a93ee_e868_11ea_99c9_bd1473c30158row13_col6\" class=\"data row13 col6\" >0.35</td>\n",
       "                        <td id=\"T_dd6a93ee_e868_11ea_99c9_bd1473c30158row13_col7\" class=\"data row13 col7\" >0.46</td>\n",
       "                        <td id=\"T_dd6a93ee_e868_11ea_99c9_bd1473c30158row13_col8\" class=\"data row13 col8\" >0.3</td>\n",
       "                        <td id=\"T_dd6a93ee_e868_11ea_99c9_bd1473c30158row13_col9\" class=\"data row13 col9\" >0.27</td>\n",
       "                        <td id=\"T_dd6a93ee_e868_11ea_99c9_bd1473c30158row13_col10\" class=\"data row13 col10\" >0.51</td>\n",
       "                        <td id=\"T_dd6a93ee_e868_11ea_99c9_bd1473c30158row13_col11\" class=\"data row13 col11\" >0.48</td>\n",
       "                        <td id=\"T_dd6a93ee_e868_11ea_99c9_bd1473c30158row13_col12\" class=\"data row13 col12\" >0.48</td>\n",
       "                        <td id=\"T_dd6a93ee_e868_11ea_99c9_bd1473c30158row13_col13\" class=\"data row13 col13\" >1</td>\n",
       "                        <td id=\"T_dd6a93ee_e868_11ea_99c9_bd1473c30158row13_col14\" class=\"data row13 col14\" >0.5</td>\n",
       "                        <td id=\"T_dd6a93ee_e868_11ea_99c9_bd1473c30158row13_col15\" class=\"data row13 col15\" >0.5</td>\n",
       "                        <td id=\"T_dd6a93ee_e868_11ea_99c9_bd1473c30158row13_col16\" class=\"data row13 col16\" >0.52</td>\n",
       "                        <td id=\"T_dd6a93ee_e868_11ea_99c9_bd1473c30158row13_col17\" class=\"data row13 col17\" >0.35</td>\n",
       "            </tr>\n",
       "            <tr>\n",
       "                        <th id=\"T_dd6a93ee_e868_11ea_99c9_bd1473c30158level0_row14\" class=\"row_heading level0 row14\" >I6</th>\n",
       "                        <td id=\"T_dd6a93ee_e868_11ea_99c9_bd1473c30158row14_col0\" class=\"data row14 col0\" >0.58</td>\n",
       "                        <td id=\"T_dd6a93ee_e868_11ea_99c9_bd1473c30158row14_col1\" class=\"data row14 col1\" >0.67</td>\n",
       "                        <td id=\"T_dd6a93ee_e868_11ea_99c9_bd1473c30158row14_col2\" class=\"data row14 col2\" >0.37</td>\n",
       "                        <td id=\"T_dd6a93ee_e868_11ea_99c9_bd1473c30158row14_col3\" class=\"data row14 col3\" >0.55</td>\n",
       "                        <td id=\"T_dd6a93ee_e868_11ea_99c9_bd1473c30158row14_col4\" class=\"data row14 col4\" >0.36</td>\n",
       "                        <td id=\"T_dd6a93ee_e868_11ea_99c9_bd1473c30158row14_col5\" class=\"data row14 col5\" >0.76</td>\n",
       "                        <td id=\"T_dd6a93ee_e868_11ea_99c9_bd1473c30158row14_col6\" class=\"data row14 col6\" >0.37</td>\n",
       "                        <td id=\"T_dd6a93ee_e868_11ea_99c9_bd1473c30158row14_col7\" class=\"data row14 col7\" >0.38</td>\n",
       "                        <td id=\"T_dd6a93ee_e868_11ea_99c9_bd1473c30158row14_col8\" class=\"data row14 col8\" >0.49</td>\n",
       "                        <td id=\"T_dd6a93ee_e868_11ea_99c9_bd1473c30158row14_col9\" class=\"data row14 col9\" >0.49</td>\n",
       "                        <td id=\"T_dd6a93ee_e868_11ea_99c9_bd1473c30158row14_col10\" class=\"data row14 col10\" >0.7</td>\n",
       "                        <td id=\"T_dd6a93ee_e868_11ea_99c9_bd1473c30158row14_col11\" class=\"data row14 col11\" >0.44</td>\n",
       "                        <td id=\"T_dd6a93ee_e868_11ea_99c9_bd1473c30158row14_col12\" class=\"data row14 col12\" >0.64</td>\n",
       "                        <td id=\"T_dd6a93ee_e868_11ea_99c9_bd1473c30158row14_col13\" class=\"data row14 col13\" >0.5</td>\n",
       "                        <td id=\"T_dd6a93ee_e868_11ea_99c9_bd1473c30158row14_col14\" class=\"data row14 col14\" >1</td>\n",
       "                        <td id=\"T_dd6a93ee_e868_11ea_99c9_bd1473c30158row14_col15\" class=\"data row14 col15\" >0.55</td>\n",
       "                        <td id=\"T_dd6a93ee_e868_11ea_99c9_bd1473c30158row14_col16\" class=\"data row14 col16\" >0.41</td>\n",
       "                        <td id=\"T_dd6a93ee_e868_11ea_99c9_bd1473c30158row14_col17\" class=\"data row14 col17\" >0.54</td>\n",
       "            </tr>\n",
       "            <tr>\n",
       "                        <th id=\"T_dd6a93ee_e868_11ea_99c9_bd1473c30158level0_row15\" class=\"row_heading level0 row15\" >I7</th>\n",
       "                        <td id=\"T_dd6a93ee_e868_11ea_99c9_bd1473c30158row15_col0\" class=\"data row15 col0\" >0.44</td>\n",
       "                        <td id=\"T_dd6a93ee_e868_11ea_99c9_bd1473c30158row15_col1\" class=\"data row15 col1\" >0.35</td>\n",
       "                        <td id=\"T_dd6a93ee_e868_11ea_99c9_bd1473c30158row15_col2\" class=\"data row15 col2\" >0.18</td>\n",
       "                        <td id=\"T_dd6a93ee_e868_11ea_99c9_bd1473c30158row15_col3\" class=\"data row15 col3\" >0.31</td>\n",
       "                        <td id=\"T_dd6a93ee_e868_11ea_99c9_bd1473c30158row15_col4\" class=\"data row15 col4\" >0.37</td>\n",
       "                        <td id=\"T_dd6a93ee_e868_11ea_99c9_bd1473c30158row15_col5\" class=\"data row15 col5\" >0.45</td>\n",
       "                        <td id=\"T_dd6a93ee_e868_11ea_99c9_bd1473c30158row15_col6\" class=\"data row15 col6\" >0.62</td>\n",
       "                        <td id=\"T_dd6a93ee_e868_11ea_99c9_bd1473c30158row15_col7\" class=\"data row15 col7\" >0.3</td>\n",
       "                        <td id=\"T_dd6a93ee_e868_11ea_99c9_bd1473c30158row15_col8\" class=\"data row15 col8\" >0.46</td>\n",
       "                        <td id=\"T_dd6a93ee_e868_11ea_99c9_bd1473c30158row15_col9\" class=\"data row15 col9\" >0.42</td>\n",
       "                        <td id=\"T_dd6a93ee_e868_11ea_99c9_bd1473c30158row15_col10\" class=\"data row15 col10\" >0.52</td>\n",
       "                        <td id=\"T_dd6a93ee_e868_11ea_99c9_bd1473c30158row15_col11\" class=\"data row15 col11\" >0.26</td>\n",
       "                        <td id=\"T_dd6a93ee_e868_11ea_99c9_bd1473c30158row15_col12\" class=\"data row15 col12\" >0.4</td>\n",
       "                        <td id=\"T_dd6a93ee_e868_11ea_99c9_bd1473c30158row15_col13\" class=\"data row15 col13\" >0.5</td>\n",
       "                        <td id=\"T_dd6a93ee_e868_11ea_99c9_bd1473c30158row15_col14\" class=\"data row15 col14\" >0.55</td>\n",
       "                        <td id=\"T_dd6a93ee_e868_11ea_99c9_bd1473c30158row15_col15\" class=\"data row15 col15\" >1</td>\n",
       "                        <td id=\"T_dd6a93ee_e868_11ea_99c9_bd1473c30158row15_col16\" class=\"data row15 col16\" >0.54</td>\n",
       "                        <td id=\"T_dd6a93ee_e868_11ea_99c9_bd1473c30158row15_col17\" class=\"data row15 col17\" >0.48</td>\n",
       "            </tr>\n",
       "            <tr>\n",
       "                        <th id=\"T_dd6a93ee_e868_11ea_99c9_bd1473c30158level0_row16\" class=\"row_heading level0 row16\" >I8</th>\n",
       "                        <td id=\"T_dd6a93ee_e868_11ea_99c9_bd1473c30158row16_col0\" class=\"data row16 col0\" >0.32</td>\n",
       "                        <td id=\"T_dd6a93ee_e868_11ea_99c9_bd1473c30158row16_col1\" class=\"data row16 col1\" >0.32</td>\n",
       "                        <td id=\"T_dd6a93ee_e868_11ea_99c9_bd1473c30158row16_col2\" class=\"data row16 col2\" >0.15</td>\n",
       "                        <td id=\"T_dd6a93ee_e868_11ea_99c9_bd1473c30158row16_col3\" class=\"data row16 col3\" >0.24</td>\n",
       "                        <td id=\"T_dd6a93ee_e868_11ea_99c9_bd1473c30158row16_col4\" class=\"data row16 col4\" >0.49</td>\n",
       "                        <td id=\"T_dd6a93ee_e868_11ea_99c9_bd1473c30158row16_col5\" class=\"data row16 col5\" >0.32</td>\n",
       "                        <td id=\"T_dd6a93ee_e868_11ea_99c9_bd1473c30158row16_col6\" class=\"data row16 col6\" >0.26</td>\n",
       "                        <td id=\"T_dd6a93ee_e868_11ea_99c9_bd1473c30158row16_col7\" class=\"data row16 col7\" >0.47</td>\n",
       "                        <td id=\"T_dd6a93ee_e868_11ea_99c9_bd1473c30158row16_col8\" class=\"data row16 col8\" >0.45</td>\n",
       "                        <td id=\"T_dd6a93ee_e868_11ea_99c9_bd1473c30158row16_col9\" class=\"data row16 col9\" >0.28</td>\n",
       "                        <td id=\"T_dd6a93ee_e868_11ea_99c9_bd1473c30158row16_col10\" class=\"data row16 col10\" >0.42</td>\n",
       "                        <td id=\"T_dd6a93ee_e868_11ea_99c9_bd1473c30158row16_col11\" class=\"data row16 col11\" >0.24</td>\n",
       "                        <td id=\"T_dd6a93ee_e868_11ea_99c9_bd1473c30158row16_col12\" class=\"data row16 col12\" >0.42</td>\n",
       "                        <td id=\"T_dd6a93ee_e868_11ea_99c9_bd1473c30158row16_col13\" class=\"data row16 col13\" >0.52</td>\n",
       "                        <td id=\"T_dd6a93ee_e868_11ea_99c9_bd1473c30158row16_col14\" class=\"data row16 col14\" >0.41</td>\n",
       "                        <td id=\"T_dd6a93ee_e868_11ea_99c9_bd1473c30158row16_col15\" class=\"data row16 col15\" >0.54</td>\n",
       "                        <td id=\"T_dd6a93ee_e868_11ea_99c9_bd1473c30158row16_col16\" class=\"data row16 col16\" >1</td>\n",
       "                        <td id=\"T_dd6a93ee_e868_11ea_99c9_bd1473c30158row16_col17\" class=\"data row16 col17\" >0.47</td>\n",
       "            </tr>\n",
       "            <tr>\n",
       "                        <th id=\"T_dd6a93ee_e868_11ea_99c9_bd1473c30158level0_row17\" class=\"row_heading level0 row17\" >I9</th>\n",
       "                        <td id=\"T_dd6a93ee_e868_11ea_99c9_bd1473c30158row17_col0\" class=\"data row17 col0\" >0.37</td>\n",
       "                        <td id=\"T_dd6a93ee_e868_11ea_99c9_bd1473c30158row17_col1\" class=\"data row17 col1\" >0.41</td>\n",
       "                        <td id=\"T_dd6a93ee_e868_11ea_99c9_bd1473c30158row17_col2\" class=\"data row17 col2\" >0.17</td>\n",
       "                        <td id=\"T_dd6a93ee_e868_11ea_99c9_bd1473c30158row17_col3\" class=\"data row17 col3\" >0.15</td>\n",
       "                        <td id=\"T_dd6a93ee_e868_11ea_99c9_bd1473c30158row17_col4\" class=\"data row17 col4\" >0.19</td>\n",
       "                        <td id=\"T_dd6a93ee_e868_11ea_99c9_bd1473c30158row17_col5\" class=\"data row17 col5\" >0.4</td>\n",
       "                        <td id=\"T_dd6a93ee_e868_11ea_99c9_bd1473c30158row17_col6\" class=\"data row17 col6\" >0.34</td>\n",
       "                        <td id=\"T_dd6a93ee_e868_11ea_99c9_bd1473c30158row17_col7\" class=\"data row17 col7\" >0.31</td>\n",
       "                        <td id=\"T_dd6a93ee_e868_11ea_99c9_bd1473c30158row17_col8\" class=\"data row17 col8\" >0.86</td>\n",
       "                        <td id=\"T_dd6a93ee_e868_11ea_99c9_bd1473c30158row17_col9\" class=\"data row17 col9\" >0.32</td>\n",
       "                        <td id=\"T_dd6a93ee_e868_11ea_99c9_bd1473c30158row17_col10\" class=\"data row17 col10\" >0.59</td>\n",
       "                        <td id=\"T_dd6a93ee_e868_11ea_99c9_bd1473c30158row17_col11\" class=\"data row17 col11\" >0.21</td>\n",
       "                        <td id=\"T_dd6a93ee_e868_11ea_99c9_bd1473c30158row17_col12\" class=\"data row17 col12\" >0.3</td>\n",
       "                        <td id=\"T_dd6a93ee_e868_11ea_99c9_bd1473c30158row17_col13\" class=\"data row17 col13\" >0.35</td>\n",
       "                        <td id=\"T_dd6a93ee_e868_11ea_99c9_bd1473c30158row17_col14\" class=\"data row17 col14\" >0.54</td>\n",
       "                        <td id=\"T_dd6a93ee_e868_11ea_99c9_bd1473c30158row17_col15\" class=\"data row17 col15\" >0.48</td>\n",
       "                        <td id=\"T_dd6a93ee_e868_11ea_99c9_bd1473c30158row17_col16\" class=\"data row17 col16\" >0.47</td>\n",
       "                        <td id=\"T_dd6a93ee_e868_11ea_99c9_bd1473c30158row17_col17\" class=\"data row17 col17\" >1</td>\n",
       "            </tr>\n",
       "    </tbody></table>"
      ],
      "text/plain": [
       "<pandas.io.formats.style.Styler at 0x162d0ea02b0>"
      ]
     },
     "execution_count": 9,
     "metadata": {},
     "output_type": "execute_result"
    }
   ],
   "source": [
    "cm = sns.light_palette(\"blue\", as_cmap=True)\n",
    "items_corr.style.background_gradient(cmap=cm).set_precision(2)"
   ]
  },
  {
   "cell_type": "code",
   "execution_count": 31,
   "metadata": {},
   "outputs": [
    {
     "data": {
      "text/plain": [
       "<matplotlib.axes._subplots.AxesSubplot at 0x162d48302e8>"
      ]
     },
     "execution_count": 31,
     "metadata": {},
     "output_type": "execute_result"
    },
    {
     "data": {
      "image/png": "[encoded data removed]",
      "text/plain": [
       "<Figure size 792x648 with 2 Axes>"
      ]
     },
     "metadata": {
      "needs_background": "light"
     },
     "output_type": "display_data"
    }
   ],
   "source": [
    "# Generate a mask for the upper triangle\n",
    "mask = np.triu(np.ones_like(items_corr, dtype=np.bool))\n",
    "\n",
    "# Set up the matplotlib figure\n",
    "fig1, ax1 = plt.subplots(figsize=(11, 9))\n",
    "\n",
    "# cm2 = sns.diverging_palette(380, 1, as_cmap=True)\n",
    "\n",
    "# Draw the heatmap with the mask and correct aspect ratio\n",
    "sns.heatmap(items_corr, mask=mask, cmap='coolwarm', vmax=1, center=0,\n",
    "            square=True, linewidths=.01, cbar_kws={\"shrink\": .8})"
   ]
  },
  {
   "cell_type": "markdown",
   "metadata": {},
   "source": [
    "### Classification Correlation\n",
    "Considering the dichotimical variable Positive/Negative depression detection"
   ]
  },
  {
   "cell_type": "code",
   "execution_count": 11,
   "metadata": {},
   "outputs": [
    {
     "data": {
      "text/html": [
       "<div>\n",
       "<style scoped>\n",
       "    .dataframe tbody tr th:only-of-type {\n",
       "        vertical-align: middle;\n",
       "    }\n",
       "\n",
       "    .dataframe tbody tr th {\n",
       "        vertical-align: top;\n",
       "    }\n",
       "\n",
       "    .dataframe thead th {\n",
       "        text-align: right;\n",
       "    }\n",
       "</style>\n",
       "<table border=\"1\" class=\"dataframe\">\n",
       "  <thead>\n",
       "    <tr style=\"text-align: right;\">\n",
       "      <th></th>\n",
       "      <th>PHQ9</th>\n",
       "      <th>PPHQ9</th>\n",
       "    </tr>\n",
       "  </thead>\n",
       "  <tbody>\n",
       "    <tr>\n",
       "      <th>PHQ9</th>\n",
       "      <td>1.00000</td>\n",
       "      <td>0.91089</td>\n",
       "    </tr>\n",
       "    <tr>\n",
       "      <th>PPHQ9</th>\n",
       "      <td>0.91089</td>\n",
       "      <td>1.00000</td>\n",
       "    </tr>\n",
       "  </tbody>\n",
       "</table>\n",
       "</div>"
      ],
      "text/plain": [
       "          PHQ9    PPHQ9\n",
       "PHQ9   1.00000  0.91089\n",
       "PPHQ9  0.91089  1.00000"
      ]
     },
     "execution_count": 11,
     "metadata": {},
     "output_type": "execute_result"
    }
   ],
   "source": [
    "score_corr = perla_df[[\"PHQ9\", \"PPHQ9\"]].corr()\n",
    "score_corr"
   ]
  },
  {
   "cell_type": "code",
   "execution_count": 12,
   "metadata": {},
   "outputs": [
    {
     "data": {
      "text/html": [
       "<style  type=\"text/css\" >\n",
       "    #T_de5c8f88_e868_11ea_b42e_bd1473c30158row0_col0 {\n",
       "            background-color:  #0000ff;\n",
       "            color:  #f1f1f1;\n",
       "        }    #T_de5c8f88_e868_11ea_b42e_bd1473c30158row0_col1 {\n",
       "            background-color:  #e5e5ff;\n",
       "            color:  #000000;\n",
       "        }    #T_de5c8f88_e868_11ea_b42e_bd1473c30158row1_col0 {\n",
       "            background-color:  #e5e5ff;\n",
       "            color:  #000000;\n",
       "        }    #T_de5c8f88_e868_11ea_b42e_bd1473c30158row1_col1 {\n",
       "            background-color:  #0000ff;\n",
       "            color:  #f1f1f1;\n",
       "        }</style><table id=\"T_de5c8f88_e868_11ea_b42e_bd1473c30158\" ><thead>    <tr>        <th class=\"blank level0\" ></th>        <th class=\"col_heading level0 col0\" >PHQ9</th>        <th class=\"col_heading level0 col1\" >PPHQ9</th>    </tr></thead><tbody>\n",
       "                <tr>\n",
       "                        <th id=\"T_de5c8f88_e868_11ea_b42e_bd1473c30158level0_row0\" class=\"row_heading level0 row0\" >PHQ9</th>\n",
       "                        <td id=\"T_de5c8f88_e868_11ea_b42e_bd1473c30158row0_col0\" class=\"data row0 col0\" >1</td>\n",
       "                        <td id=\"T_de5c8f88_e868_11ea_b42e_bd1473c30158row0_col1\" class=\"data row0 col1\" >0.91</td>\n",
       "            </tr>\n",
       "            <tr>\n",
       "                        <th id=\"T_de5c8f88_e868_11ea_b42e_bd1473c30158level0_row1\" class=\"row_heading level0 row1\" >PPHQ9</th>\n",
       "                        <td id=\"T_de5c8f88_e868_11ea_b42e_bd1473c30158row1_col0\" class=\"data row1 col0\" >0.91</td>\n",
       "                        <td id=\"T_de5c8f88_e868_11ea_b42e_bd1473c30158row1_col1\" class=\"data row1 col1\" >1</td>\n",
       "            </tr>\n",
       "    </tbody></table>"
      ],
      "text/plain": [
       "<pandas.io.formats.style.Styler at 0x162d22eb470>"
      ]
     },
     "execution_count": 12,
     "metadata": {},
     "output_type": "execute_result"
    }
   ],
   "source": [
    "score_corr.style.background_gradient(cmap=cm).set_precision(2)"
   ]
  },
  {
   "cell_type": "code",
   "execution_count": 29,
   "metadata": {},
   "outputs": [
    {
     "data": {
      "text/plain": [
       "Text(0.5, 1.08, 'PHQ-9 Score correlation (Perla vs. Self-Report)')"
      ]
     },
     "execution_count": 29,
     "metadata": {},
     "output_type": "execute_result"
    },
    {
     "data": {
      "image/png": "[encoded data removed]",
      "text/plain": [
       "<Figure size 576x576 with 6 Axes>"
      ]
     },
     "metadata": {
      "needs_background": "light"
     },
     "output_type": "display_data"
    }
   ],
   "source": [
    "g = sns.pairplot(perla_df[[\"PHQ9\", \"PPHQ9\"]], height=4)\n",
    "g.fig.suptitle(\"PHQ-9 Score correlation (Perla vs. Self-Report)\", y=1.08) "
   ]
  },
  {
   "cell_type": "code",
   "execution_count": 14,
   "metadata": {},
   "outputs": [
    {
     "data": {
      "text/plain": [
       "PointbiserialrResult(correlation=0.7931909946770364, pvalue=1.4253889385852636e-24)"
      ]
     },
     "execution_count": 14,
     "metadata": {},
     "output_type": "execute_result"
    }
   ],
   "source": [
    "# Point-biserial correlation \n",
    "# https://en.wikipedia.org/wiki/Point-biserial_correlation_coefficient \n",
    "from scipy import stats\n",
    "\n",
    "stats.pointbiserialr( perla_df[\"PDepressed\"], perla_df[\"Depressed\"] )"
   ]
  },
  {
   "cell_type": "code",
   "execution_count": 36,
   "metadata": {},
   "outputs": [
    {
     "name": "stdout",
     "output_type": "stream",
     "text": [
      "Point-biserial correlation for item 1 is: 0.65.\n",
      "Point-biserial correlation for item 2 is: 0.68.\n",
      "Point-biserial correlation for item 3 is: 0.79.\n",
      "Point-biserial correlation for item 4 is: 0.67.\n",
      "Point-biserial correlation for item 5 is: 0.63.\n",
      "Point-biserial correlation for item 6 is: 0.76.\n",
      "Point-biserial correlation for item 7 is: 0.62.\n",
      "Point-biserial correlation for item 8 is: 0.47.\n",
      "Point-biserial correlation for item 9 is: 0.86.\n"
     ]
    }
   ],
   "source": [
    "for i in range(1, 10):\n",
    "    print(\"Point-biserial correlation for item %.1d is: %.2f.\" % (i, stats.pointbiserialr( perla_df['PI'+str(i)], perla_df['I'+str(i)] )[0]))"
   ]
  },
  {
   "cell_type": "code",
   "execution_count": 15,
   "metadata": {},
   "outputs": [
    {
     "name": "stdout",
     "output_type": "stream",
     "text": [
      "Depression Screening: Statistics=1.191, p=0.276399554493\n",
      "Same distributions (fail to reject H0)\n"
     ]
    }
   ],
   "source": [
    "# One way ANOVA \n",
    "stat, p = f_oneway(perla_df[\"PDepressed\"], perla_df[\"Depressed\"])\n",
    "print('Depression Screening: Statistics=%.3f, p=%.12f' % (stat, p))\n",
    "# interpret\n",
    "alpha = 0.001\n",
    "if p > alpha:\n",
    "    print('Same distributions (fail to reject H0)')\n",
    "else:\n",
    "    print('Different distributions (reject H0)')"
   ]
  },
  {
   "cell_type": "code",
   "execution_count": 16,
   "metadata": {},
   "outputs": [
    {
     "name": "stdout",
     "output_type": "stream",
     "text": [
      "Item 1: Statistics=0.039, p=0.843066406426\n",
      "Item 2: Statistics=0.399, p=0.528101864141\n",
      "Item 3: Statistics=0.099, p=0.753721874125\n",
      "Item 4: Statistics=0.809, p=0.369284978494\n",
      "Item 5: Statistics=0.214, p=0.644059336540\n",
      "Item 6: Statistics=0.122, p=0.727127849406\n",
      "Item 7: Statistics=1.707, p=0.192801077870\n",
      "Item 8: Statistics=6.368, p=0.012344833818\n",
      "Item 9: Statistics=0.444, p=0.505923754651\n"
     ]
    }
   ],
   "source": [
    "alpha = 0.001\n",
    "stat, p = f_oneway(perla_df[\"PI1\"], perla_df[\"I1\"])\n",
    "print('Item 1: Statistics=%.3f, p=%.12f' % (stat, p))\n",
    "stat, p = f_oneway(perla_df[\"PI2\"], perla_df[\"I2\"])\n",
    "print('Item 2: Statistics=%.3f, p=%.12f' % (stat, p))\n",
    "stat, p = f_oneway(perla_df[\"PI3\"], perla_df[\"I3\"])\n",
    "print('Item 3: Statistics=%.3f, p=%.12f' % (stat, p))\n",
    "stat, p = f_oneway(perla_df[\"PI4\"], perla_df[\"I4\"])\n",
    "print('Item 4: Statistics=%.3f, p=%.12f' % (stat, p))\n",
    "stat, p = f_oneway(perla_df[\"PI5\"], perla_df[\"I5\"])\n",
    "print('Item 5: Statistics=%.3f, p=%.12f' % (stat, p))\n",
    "stat, p = f_oneway(perla_df[\"PI6\"], perla_df[\"I6\"])\n",
    "print('Item 6: Statistics=%.3f, p=%.12f' % (stat, p))\n",
    "stat, p = f_oneway(perla_df[\"PI7\"], perla_df[\"I7\"])\n",
    "print('Item 7: Statistics=%.3f, p=%.12f' % (stat, p))\n",
    "stat, p = f_oneway(perla_df[\"PI8\"], perla_df[\"I8\"])\n",
    "print('Item 8: Statistics=%.3f, p=%.12f' % (stat, p))\n",
    "stat, p = f_oneway(perla_df[\"PI9\"], perla_df[\"I9\"])\n",
    "print('Item 9: Statistics=%.3f, p=%.12f' % (stat, p))\n"
   ]
  },
  {
   "cell_type": "markdown",
   "metadata": {},
   "source": [
    "## Score comparison and score error\n",
    "### Mean Absolute Error (MAE) and Error distribution"
   ]
  },
  {
   "cell_type": "code",
   "execution_count": 17,
   "metadata": {},
   "outputs": [],
   "source": [
    "# Adding the absolute score error as a new column\n",
    "perla_df['Error'] = perla_df.apply(lambda row: abs(row.PPHQ9 - row.PHQ9), axis=1)"
   ]
  },
  {
   "cell_type": "code",
   "execution_count": 18,
   "metadata": {},
   "outputs": [
    {
     "data": {
      "text/plain": [
       "count    108.000000\n",
       "mean       1.879630\n",
       "std        1.616027\n",
       "min        0.000000\n",
       "25%        1.000000\n",
       "50%        2.000000\n",
       "75%        3.000000\n",
       "max        8.000000\n",
       "Name: Error, dtype: float64"
      ]
     },
     "execution_count": 18,
     "metadata": {},
     "output_type": "execute_result"
    }
   ],
   "source": [
    "# Absolute error statistics\n",
    "perla_df['Error'].describe()"
   ]
  },
  {
   "cell_type": "code",
   "execution_count": 110,
   "metadata": {},
   "outputs": [
    {
     "name": "stdout",
     "output_type": "stream",
     "text": [
      "MAE for item 1 is: 0.49.\n",
      "MAE for item 2 is: 0.45.\n",
      "MAE for item 3 is: 0.42.\n",
      "MAE for item 4 is: 0.47.\n",
      "MAE for item 5 is: 0.47.\n",
      "MAE for item 6 is: 0.32.\n",
      "MAE for item 7 is: 0.53.\n",
      "MAE for item 8 is: 0.49.\n",
      "MAE for item 9 is: 0.09.\n"
     ]
    }
   ],
   "source": [
    "perla_df['Error1'] = perla_df.apply(lambda row: abs(row.PI1 - row.I1), axis=1)\n",
    "perla_df['Error2'] = perla_df.apply(lambda row: abs(row.PI2 - row.I2), axis=1)\n",
    "perla_df['Error3'] = perla_df.apply(lambda row: abs(row.PI3 - row.I3), axis=1)\n",
    "perla_df['Error4'] = perla_df.apply(lambda row: abs(row.PI4 - row.I4), axis=1)\n",
    "perla_df['Error5'] = perla_df.apply(lambda row: abs(row.PI5 - row.I5), axis=1)\n",
    "perla_df['Error6'] = perla_df.apply(lambda row: abs(row.PI6 - row.I6), axis=1)\n",
    "perla_df['Error7'] = perla_df.apply(lambda row: abs(row.PI7 - row.I7), axis=1)\n",
    "perla_df['Error8'] = perla_df.apply(lambda row: abs(row.PI8 - row.I8), axis=1)\n",
    "perla_df['Error9'] = perla_df.apply(lambda row: abs(row.PI9 - row.I9), axis=1)\n",
    "\n",
    "for i in range(1, 10):\n",
    "    print(\"MAE for item %.1d is: %.2f.\" % (i, perla_df['Error'+str(i)].mean() ))"
   ]
  },
  {
   "cell_type": "code",
   "execution_count": 19,
   "metadata": {},
   "outputs": [
    {
     "data": {
      "text/plain": [
       "Text(0.5, 1.0, 'Absolute error distribution')"
      ]
     },
     "execution_count": 19,
     "metadata": {},
     "output_type": "execute_result"
    },
    {
     "data": {
      "image/png": "[encoded data removed]",
      "text/plain": [
       "<Figure size 432x288 with 1 Axes>"
      ]
     },
     "metadata": {
      "needs_background": "light"
     },
     "output_type": "display_data"
    }
   ],
   "source": [
    "sns.distplot(perla_df[[\"Error\"]], bins=15, kde=True).set_title('Absolute error distribution')"
   ]
  },
  {
   "cell_type": "code",
   "execution_count": 20,
   "metadata": {},
   "outputs": [
    {
     "data": {
      "text/plain": [
       "<matplotlib.legend.Legend at 0x162d2d99160>"
      ]
     },
     "execution_count": 20,
     "metadata": {},
     "output_type": "execute_result"
    },
    {
     "data": {
      "image/png": "[encoded data removed]",
      "text/plain": [
       "<Figure size 864x432 with 1 Axes>"
      ]
     },
     "metadata": {
      "needs_background": "light"
     },
     "output_type": "display_data"
    }
   ],
   "source": [
    "# Visualize as if they were temporal series\n",
    "\n",
    "fig10, ax10 = plt.subplots(figsize=(12,6))\n",
    "fig10.suptitle('PHQ-9 Scores obtained by Self-Report and Perla')\n",
    "\n",
    "ax10.set_ylabel('PHQ9 Score')\n",
    "ax10.set_xlabel('Participants')\n",
    "\n",
    "ax10.plot(perla_df['PHQ9'], label='Self-Report')\n",
    "ax10.plot(perla_df['PPHQ9'], label='Perla')\n",
    "\n",
    "ax10.legend(loc='upper left', frameon=True)"
   ]
  },
  {
   "cell_type": "code",
   "execution_count": 27,
   "metadata": {},
   "outputs": [],
   "source": [
    "plt.rcParams.update({'font.size': 16})"
   ]
  },
  {
   "cell_type": "code",
   "execution_count": 30,
   "metadata": {},
   "outputs": [
    {
     "data": {
      "text/plain": [
       "<matplotlib.legend.Legend at 0x162d35c4c50>"
      ]
     },
     "execution_count": 30,
     "metadata": {},
     "output_type": "execute_result"
    },
    {
     "data": {
      "image/png": "[encoded data removed]",
      "text/plain": [
       "<Figure size 576x432 with 1 Axes>"
      ]
     },
     "metadata": {
      "needs_background": "light"
     },
     "output_type": "display_data"
    }
   ],
   "source": [
    "fig11 = plt.subplots(figsize=(8,6))\n",
    "\n",
    "sns.distplot(perla_df[[\"PHQ9\"]], label='Self-Report', bins=15, kde=True)\n",
    "sns.distplot(perla_df[[\"PPHQ9\"]], label='Perla', bins=15, kde=True).\\\n",
    "    set_title('PHQ-9 Score Distribution\\nobtained by Self-Report and Perla')\n",
    "\n",
    "plt.legend()"
   ]
  },
  {
   "cell_type": "code",
   "execution_count": 22,
   "metadata": {},
   "outputs": [
    {
     "name": "stdout",
     "output_type": "stream",
     "text": [
      "Perla mean error is: 1.88 points in relation with standard PHQ9 questionnaire.\n"
     ]
    }
   ],
   "source": [
    "# Mean error calculation\n",
    "\n",
    "print(\"Perla mean error is: %.2f points in relation with standard PHQ9 questionnaire.\" % perla_df['Error'].mean())"
   ]
  },
  {
   "cell_type": "code",
   "execution_count": 32,
   "metadata": {},
   "outputs": [
    {
     "data": {
      "text/plain": [
       "<seaborn.axisgrid.PairGrid at 0x162d48d4fd0>"
      ]
     },
     "execution_count": 32,
     "metadata": {},
     "output_type": "execute_result"
    },
    {
     "data": {
      "image/png": "[encoded data removed]",
      "text/plain": [
       "<Figure size 360x360 with 6 Axes>"
      ]
     },
     "metadata": {
      "needs_background": "light"
     },
     "output_type": "display_data"
    }
   ],
   "source": [
    "# Does error increase with delay? \n",
    "sns.pairplot(perla_df[[\"Error\", \"Delay\"]])"
   ]
  },
  {
   "cell_type": "code",
   "execution_count": 33,
   "metadata": {},
   "outputs": [
    {
     "data": {
      "text/html": [
       "<div>\n",
       "<style scoped>\n",
       "    .dataframe tbody tr th:only-of-type {\n",
       "        vertical-align: middle;\n",
       "    }\n",
       "\n",
       "    .dataframe tbody tr th {\n",
       "        vertical-align: top;\n",
       "    }\n",
       "\n",
       "    .dataframe thead th {\n",
       "        text-align: right;\n",
       "    }\n",
       "</style>\n",
       "<table border=\"1\" class=\"dataframe\">\n",
       "  <thead>\n",
       "    <tr style=\"text-align: right;\">\n",
       "      <th></th>\n",
       "      <th>Error</th>\n",
       "      <th>Delay</th>\n",
       "    </tr>\n",
       "  </thead>\n",
       "  <tbody>\n",
       "    <tr>\n",
       "      <th>Error</th>\n",
       "      <td>1.000000</td>\n",
       "      <td>0.100203</td>\n",
       "    </tr>\n",
       "    <tr>\n",
       "      <th>Delay</th>\n",
       "      <td>0.100203</td>\n",
       "      <td>1.000000</td>\n",
       "    </tr>\n",
       "  </tbody>\n",
       "</table>\n",
       "</div>"
      ],
      "text/plain": [
       "          Error     Delay\n",
       "Error  1.000000  0.100203\n",
       "Delay  0.100203  1.000000"
      ]
     },
     "execution_count": 33,
     "metadata": {},
     "output_type": "execute_result"
    }
   ],
   "source": [
    "corr_errdelay = perla_df[[\"Error\", \"Delay\"]].corr()\n",
    "corr_errdelay"
   ]
  },
  {
   "cell_type": "code",
   "execution_count": 34,
   "metadata": {},
   "outputs": [
    {
     "data": {
      "text/plain": [
       "count    108.000000\n",
       "mean       3.712963\n",
       "std        3.362940\n",
       "min        0.000000\n",
       "25%        1.000000\n",
       "50%        3.000000\n",
       "75%        6.000000\n",
       "max       14.000000\n",
       "Name: Delay, dtype: float64"
      ]
     },
     "execution_count": 34,
     "metadata": {},
     "output_type": "execute_result"
    }
   ],
   "source": [
    "perla_df[\"Delay\"].describe()"
   ]
  },
  {
   "cell_type": "markdown",
   "metadata": {},
   "source": [
    "## Evaluation of Perla as Rater \n",
    "### Using inter-rater reliability evaluation\n",
    "\n",
    "Interpretation according to Landis and Koch:<br>\n",
    "- Values < 0 as indicating no agreement \n",
    "- 0–0.20 as slight\n",
    "- 0.21–0.40 as fair\n",
    "- 0.41–0.60 as moderate\n",
    "- 0.61–0.80 as substantial\n",
    "- 0.81–1 as almost perfect agreement"
   ]
  },
  {
   "cell_type": "code",
   "execution_count": 101,
   "metadata": {},
   "outputs": [
    {
     "data": {
      "text/plain": [
       "0.18640330730362886"
      ]
     },
     "execution_count": 101,
     "metadata": {},
     "output_type": "execute_result"
    }
   ],
   "source": [
    "# Using Cohen Kappa as we only have two raters\n",
    "from sklearn.metrics import cohen_kappa_score \n",
    "\n",
    "cohen_kappa_score( perla_df['PHQ9'], perla_df['PPHQ9'] )\n"
   ]
  },
  {
   "cell_type": "code",
   "execution_count": 102,
   "metadata": {},
   "outputs": [],
   "source": [
    "# Kappa Aprox. 0.20 indicated a slight to fair agreement. "
   ]
  },
  {
   "cell_type": "code",
   "execution_count": 103,
   "metadata": {},
   "outputs": [
    {
     "data": {
      "text/plain": [
       "0.7816711590296496"
      ]
     },
     "execution_count": 103,
     "metadata": {},
     "output_type": "execute_result"
    }
   ],
   "source": [
    "cohen_kappa_score( perla_df['Depressed'], perla_df['PDepressed'] )"
   ]
  },
  {
   "cell_type": "code",
   "execution_count": 104,
   "metadata": {},
   "outputs": [],
   "source": [
    "# Kappa Aprox. 0.77 indicates substantial agreement. "
   ]
  },
  {
   "cell_type": "code",
   "execution_count": 105,
   "metadata": {},
   "outputs": [
    {
     "name": "stdout",
     "output_type": "stream",
     "text": [
      "Kappa for item 1 is: 0.44.\n",
      "Kappa for item 2 is: 0.40.\n",
      "Kappa for item 3 is: 0.48.\n",
      "Kappa for item 4 is: 0.44.\n",
      "Kappa for item 5 is: 0.43.\n",
      "Kappa for item 6 is: 0.57.\n",
      "Kappa for item 7 is: 0.34.\n",
      "Kappa for item 8 is: 0.33.\n",
      "Kappa for item 9 is: 0.73.\n"
     ]
    }
   ],
   "source": [
    "for i in range(1, 10):\n",
    "    print(\"Kappa for item %.1d is: %.2f.\" % (i, cohen_kappa_score( perla_df['PI'+str(i)], perla_df['I'+str(i)] )))"
   ]
  },
  {
   "cell_type": "markdown",
   "metadata": {},
   "source": [
    "## Calculate the reliability of Perla\n",
    "### Using Cronbach's Alpha\n"
   ]
  },
  {
   "cell_type": "code",
   "execution_count": 64,
   "metadata": {},
   "outputs": [],
   "source": [
    "# from https://towardsdatascience.com/cronbachs-alpha-theory-and-application-in-python-d2915dd63586 \n",
    "\n",
    "def cronbach_alpha(df):\n",
    "    # 1. Transform the df into a correlation matrix\n",
    "    df_corr = df.corr()\n",
    "    \n",
    "    # 2.1 Calculate N\n",
    "    # The number of variables equals the number of columns in the df\n",
    "    N = df.shape[1]\n",
    "    \n",
    "    # 2.2 Calculate R\n",
    "    # For this, we'll loop through the columns and append every\n",
    "    # relevant correlation to an array calles \"r_s\". Then, we'll\n",
    "    # calculate the mean of \"r_s\"\n",
    "    rs = np.array([])\n",
    "    for i, col in enumerate(df_corr.columns):\n",
    "        sum_ = df_corr[col][i+1:].values\n",
    "        rs = np.append(sum_, rs)\n",
    "    mean_r = np.mean(rs)\n",
    "    \n",
    "   # 3. Use the formula to calculate Cronbach's Alpha \n",
    "    cronbach_alpha = (N * mean_r) / (1 + (N - 1) * mean_r)\n",
    "    return cronbach_alpha"
   ]
  },
  {
   "cell_type": "code",
   "execution_count": 65,
   "metadata": {},
   "outputs": [],
   "source": [
    "# Get a df with Perla item scores\n",
    "perla_items_df = perla_df[['PI1', 'PI2', 'PI3', 'PI4', 'PI5', 'PI6', 'PI7', 'PI8', 'PI9']]"
   ]
  },
  {
   "cell_type": "code",
   "execution_count": 66,
   "metadata": {},
   "outputs": [
    {
     "data": {
      "text/plain": [
       "0.8101198486795258"
      ]
     },
     "execution_count": 66,
     "metadata": {},
     "output_type": "execute_result"
    }
   ],
   "source": [
    "cronbach_alpha(perla_items_df)"
   ]
  },
  {
   "cell_type": "code",
   "execution_count": 67,
   "metadata": {},
   "outputs": [
    {
     "data": {
      "text/plain": [
       "0.8783321860779236"
      ]
     },
     "execution_count": 67,
     "metadata": {},
     "output_type": "execute_result"
    }
   ],
   "source": [
    "# Get a df with self-report PHQ9 item scores\n",
    "form_items_df = perla_df[['I1', 'I2', 'I3', 'I4', 'I5', 'I6', 'I7', 'I8', 'I9']]\n",
    "cronbach_alpha(form_items_df)"
   ]
  },
  {
   "cell_type": "markdown",
   "metadata": {},
   "source": [
    "## Evaluation of Perla as classifier\n",
    "Using signal detection theory"
   ]
  },
  {
   "cell_type": "code",
   "execution_count": 68,
   "metadata": {},
   "outputs": [],
   "source": [
    "# Confusion matrix for depression screening\n",
    "\n",
    "confusion_matrix_perla = pd.crosstab(perla_df['Depressed'], \n",
    "                               perla_df['PDepressed'], \n",
    "                               rownames=['Actual (PHQ9)'], \n",
    "                               colnames=['Predicted (Perla)'])"
   ]
  },
  {
   "cell_type": "code",
   "execution_count": 115,
   "metadata": {},
   "outputs": [
    {
     "data": {
      "image/png": "[encoded data removed]",
      "text/plain": [
       "<Figure size 432x288 with 2 Axes>"
      ]
     },
     "metadata": {
      "needs_background": "light"
     },
     "output_type": "display_data"
    }
   ],
   "source": [
    "plt.rcParams.update({'font.size': 16})\n",
    "ax = plt.subplot()\n",
    "sns.heatmap(confusion_matrix_perla, annot=True, ax = ax)\n",
    "ax.set_title('Confusion Matrix - Depression Detection'); "
   ]
  },
  {
   "cell_type": "code",
   "execution_count": 70,
   "metadata": {},
   "outputs": [
    {
     "data": {
      "text/plain": [
       "(76, 8, 1, 23)"
      ]
     },
     "execution_count": 70,
     "metadata": {},
     "output_type": "execute_result"
    }
   ],
   "source": [
    "# Confusion matrix statistics: \n",
    "\n",
    "from sklearn.metrics import confusion_matrix\n",
    "\n",
    "tn, fp, fn, tp = confusion_matrix(perla_df['Depressed'], perla_df['PDepressed']).ravel()\n",
    "(tn, fp, fn, tp)"
   ]
  },
  {
   "cell_type": "code",
   "execution_count": 114,
   "metadata": {},
   "outputs": [
    {
     "data": {
      "text/plain": [
       "0.9047619047619048"
      ]
     },
     "execution_count": 114,
     "metadata": {},
     "output_type": "execute_result"
    }
   ],
   "source": [
    "# Specificity (TNR true negative rate)\n",
    "tnr = tn / (tn + fp)\n",
    "tnr"
   ]
  },
  {
   "cell_type": "code",
   "execution_count": 71,
   "metadata": {},
   "outputs": [
    {
     "name": "stdout",
     "output_type": "stream",
     "text": [
      "The accuracy of Perla is: 0.9166666666666666\n"
     ]
    }
   ],
   "source": [
    "# Accuracy of Perla as classifier\n",
    "\n",
    "from sklearn.metrics import accuracy_score \n",
    "\n",
    "# accuracy_score(y_true, y_pred)\n",
    "acc = accuracy_score(perla_df['Depressed'], perla_df['PDepressed'])\n",
    "print(\"The accuracy of Perla is: \" + str(acc))"
   ]
  },
  {
   "cell_type": "code",
   "execution_count": 72,
   "metadata": {},
   "outputs": [
    {
     "data": {
      "text/plain": [
       "0.8363636363636364"
      ]
     },
     "execution_count": 72,
     "metadata": {},
     "output_type": "execute_result"
    }
   ],
   "source": [
    "# F1 Score\n",
    "\n",
    "from sklearn.metrics import f1_score\n",
    "\n",
    "# f1_score(y_true, y_pred, average='binary')\n",
    "f1_score(perla_df['Depressed'], perla_df['PDepressed'], average='binary')"
   ]
  },
  {
   "cell_type": "code",
   "execution_count": 73,
   "metadata": {},
   "outputs": [
    {
     "name": "stdout",
     "output_type": "stream",
     "text": [
      "               precision    recall  f1-score   support\n",
      "\n",
      "No Depression       0.99      0.90      0.94        84\n",
      "   Depression       0.74      0.96      0.84        24\n",
      "\n",
      "    micro avg       0.92      0.92      0.92       108\n",
      "    macro avg       0.86      0.93      0.89       108\n",
      " weighted avg       0.93      0.92      0.92       108\n",
      "\n"
     ]
    }
   ],
   "source": [
    "# Classification report\n",
    "\n",
    "from sklearn.metrics import classification_report\n",
    "target_names = ['No Depression', 'Depression']\n",
    "print(classification_report(perla_df['Depressed'], perla_df['PDepressed'], target_names=target_names))"
   ]
  },
  {
   "cell_type": "code",
   "execution_count": 74,
   "metadata": {},
   "outputs": [
    {
     "name": "stdout",
     "output_type": "stream",
     "text": [
      "0.9315476190476191\n"
     ]
    }
   ],
   "source": [
    "# AUC - Area under the ROC curve\n",
    "\n",
    "from sklearn.metrics import roc_auc_score\n",
    "\n",
    "roc_auc = roc_auc_score(perla_df['Depressed'], perla_df['PDepressed'])\n",
    "print(roc_auc)"
   ]
  },
  {
   "cell_type": "code",
   "execution_count": 75,
   "metadata": {},
   "outputs": [],
   "source": [
    "# Perla probability of depression\n",
    "# y = 1.017767 + (0.007838154 - 1.017767)/(1 + (x/8.114874)^3.96744)\n",
    "# 4PL symmetrical sigmoidal\n",
    "\n",
    "def proba(x):\n",
    "    return  1.017767 + (0.007838154 - 1.017767)/(1 + (x/8.114874) ** 3.96744)"
   ]
  },
  {
   "cell_type": "code",
   "execution_count": 76,
   "metadata": {},
   "outputs": [],
   "source": [
    "# Plot ROC curve\n",
    "\n",
    "from sklearn.metrics import roc_curve\n",
    "\n",
    "perla_df['probas'] = perla_df.apply(lambda row: proba(row.PPHQ9), axis=1)\n",
    "\n",
    "fpr, tpr, thresholds = roc_curve(perla_df['Depressed'], perla_df['probas'], pos_label=0)\n"
   ]
  },
  {
   "cell_type": "code",
   "execution_count": 77,
   "metadata": {},
   "outputs": [
    {
     "data": {
      "image/png": "[encoded data removed]",
      "text/plain": [
       "<Figure size 576x468 with 1 Axes>"
      ]
     },
     "metadata": {
      "needs_background": "light"
     },
     "output_type": "display_data"
    }
   ],
   "source": [
    "plt.figure(figsize=(8,6.5))\n",
    "lw = 3\n",
    "\n",
    "plt.plot(tpr, fpr, color='darkorange',\n",
    "         lw=lw, label='ROC curve (area = %0.2f)' % roc_auc)\n",
    "plt.plot([0, 1], [0, 1], color='navy', lw=lw, linestyle='--')\n",
    "plt.xlim([-0.005, 1.005])\n",
    "plt.ylim([0.0, 1.005])\n",
    "plt.xlabel('False Positive Rate')\n",
    "plt.ylabel('True Positive Rate')\n",
    "plt.title('Receiver operating characteristic - Perla bot')\n",
    "plt.legend(loc=\"lower right\")\n",
    "plt.show()"
   ]
  },
  {
   "cell_type": "markdown",
   "metadata": {},
   "source": [
    "### Classifier evaluation for each item"
   ]
  },
  {
   "cell_type": "code",
   "execution_count": 78,
   "metadata": {},
   "outputs": [],
   "source": [
    "confusion_matrix_item1 = pd.crosstab(perla_df['I1'], \n",
    "                               perla_df['PI1'], \n",
    "                               rownames=['Item 1'], \n",
    "                               colnames=['Predicted I1'])"
   ]
  },
  {
   "cell_type": "code",
   "execution_count": 79,
   "metadata": {},
   "outputs": [
    {
     "data": {
      "image/png": "[encoded data removed]",
      "text/plain": [
       "<Figure size 432x288 with 2 Axes>"
      ]
     },
     "metadata": {
      "needs_background": "light"
     },
     "output_type": "display_data"
    }
   ],
   "source": [
    "ax1 = plt.subplot()\n",
    "sns.heatmap(confusion_matrix_item1, annot=True, ax = ax1)\n",
    "ax1.set_title('Confusion Matrix Item 1');"
   ]
  },
  {
   "cell_type": "code",
   "execution_count": 80,
   "metadata": {},
   "outputs": [
    {
     "name": "stdout",
     "output_type": "stream",
     "text": [
      "The accuracy for item 1 is: 0.6203703703703703\n"
     ]
    }
   ],
   "source": [
    "acc1 = accuracy_score(perla_df['I1'], perla_df['PI1'])\n",
    "print(\"The accuracy for item 1 is: \" + str(acc1))"
   ]
  },
  {
   "cell_type": "code",
   "execution_count": 81,
   "metadata": {},
   "outputs": [
    {
     "data": {
      "image/png": "[encoded data removed]",
      "text/plain": [
       "<Figure size 432x288 with 2 Axes>"
      ]
     },
     "metadata": {
      "needs_background": "light"
     },
     "output_type": "display_data"
    }
   ],
   "source": [
    "confusion_matrix_item2 = pd.crosstab(perla_df['I2'], \n",
    "                               perla_df['PI2'], \n",
    "                               rownames=['Item 2'], \n",
    "                               colnames=['Predicted I2'])\n",
    "ax2 = plt.subplot()\n",
    "sns.heatmap(confusion_matrix_item2, annot=True, ax = ax2)\n",
    "ax2.set_title('Confusion Matrix Item 2');"
   ]
  },
  {
   "cell_type": "code",
   "execution_count": 82,
   "metadata": {},
   "outputs": [
    {
     "name": "stdout",
     "output_type": "stream",
     "text": [
      "The accuracy for item 2 is: 0.6111111111111112\n"
     ]
    }
   ],
   "source": [
    "acc2 = accuracy_score(perla_df['I2'], perla_df['PI2'])\n",
    "print(\"The accuracy for item 2 is: \" + str(acc2))"
   ]
  },
  {
   "cell_type": "code",
   "execution_count": 83,
   "metadata": {},
   "outputs": [
    {
     "data": {
      "image/png": "[encoded data removed]",
      "text/plain": [
       "<Figure size 432x288 with 2 Axes>"
      ]
     },
     "metadata": {
      "needs_background": "light"
     },
     "output_type": "display_data"
    }
   ],
   "source": [
    "confusion_matrix_item3 = pd.crosstab(perla_df['I3'], \n",
    "                               perla_df['PI3'], \n",
    "                               rownames=['Item 3'], \n",
    "                               colnames=['Predicted I3'])\n",
    "ax3 = plt.subplot()\n",
    "sns.heatmap(confusion_matrix_item3, annot=True, ax = ax3)\n",
    "ax3.set_title('Confusion Matrix Item 3');"
   ]
  },
  {
   "cell_type": "code",
   "execution_count": 84,
   "metadata": {},
   "outputs": [
    {
     "name": "stdout",
     "output_type": "stream",
     "text": [
      "The accuracy for item 3 is: 0.6203703703703703\n"
     ]
    }
   ],
   "source": [
    "acc3 = accuracy_score(perla_df['I3'], perla_df['PI3'])\n",
    "print(\"The accuracy for item 3 is: \" + str(acc3))"
   ]
  },
  {
   "cell_type": "code",
   "execution_count": 85,
   "metadata": {},
   "outputs": [
    {
     "data": {
      "image/png": "[encoded data removed]",
      "text/plain": [
       "<Figure size 432x288 with 2 Axes>"
      ]
     },
     "metadata": {
      "needs_background": "light"
     },
     "output_type": "display_data"
    }
   ],
   "source": [
    "confusion_matrix_item4 = pd.crosstab(perla_df['I4'], \n",
    "                               perla_df['PI4'], \n",
    "                               rownames=['Item 4'], \n",
    "                               colnames=['Predicted I4'])\n",
    "ax4 = plt.subplot()\n",
    "sns.heatmap(confusion_matrix_item4, annot=True, ax = ax4)\n",
    "ax4.set_title('Confusion Matrix Item 4');"
   ]
  },
  {
   "cell_type": "code",
   "execution_count": 86,
   "metadata": {},
   "outputs": [
    {
     "name": "stdout",
     "output_type": "stream",
     "text": [
      "The accuracy for item 4 is: 0.6111111111111112\n"
     ]
    }
   ],
   "source": [
    "acc4 = accuracy_score(perla_df['I4'], perla_df['PI4'])\n",
    "print(\"The accuracy for item 4 is: \" + str(acc4))"
   ]
  },
  {
   "cell_type": "code",
   "execution_count": 87,
   "metadata": {},
   "outputs": [
    {
     "data": {
      "image/png": "[encoded data removed]",
      "text/plain": [
       "<Figure size 432x288 with 2 Axes>"
      ]
     },
     "metadata": {
      "needs_background": "light"
     },
     "output_type": "display_data"
    }
   ],
   "source": [
    "confusion_matrix_item5 = pd.crosstab(perla_df['I5'], \n",
    "                               perla_df['PI5'], \n",
    "                               rownames=['Item 5'], \n",
    "                               colnames=['Predicted I5'])\n",
    "ax5 = plt.subplot()\n",
    "sns.heatmap(confusion_matrix_item5, annot=True, ax = ax5)\n",
    "ax5.set_title('Confusion Matrix Item 5');"
   ]
  },
  {
   "cell_type": "code",
   "execution_count": 88,
   "metadata": {},
   "outputs": [
    {
     "name": "stdout",
     "output_type": "stream",
     "text": [
      "The accuracy for item 5 is: 0.6574074074074074\n"
     ]
    }
   ],
   "source": [
    "acc5 = accuracy_score(perla_df['I5'], perla_df['PI5'])\n",
    "print(\"The accuracy for item 5 is: \" + str(acc5))"
   ]
  },
  {
   "cell_type": "code",
   "execution_count": 89,
   "metadata": {},
   "outputs": [
    {
     "data": {
      "image/png": "[encoded data removed]",
      "text/plain": [
       "<Figure size 432x288 with 2 Axes>"
      ]
     },
     "metadata": {
      "needs_background": "light"
     },
     "output_type": "display_data"
    }
   ],
   "source": [
    "confusion_matrix_item6 = pd.crosstab(perla_df['I6'], \n",
    "                               perla_df['PI6'], \n",
    "                               rownames=['Item 6'], \n",
    "                               colnames=['Predicted I6'])\n",
    "ax6 = plt.subplot()\n",
    "sns.heatmap(confusion_matrix_item6, annot=True, ax = ax6)\n",
    "ax6.set_title('Confusion Matrix Item 6');"
   ]
  },
  {
   "cell_type": "code",
   "execution_count": 90,
   "metadata": {},
   "outputs": [
    {
     "name": "stdout",
     "output_type": "stream",
     "text": [
      "The accuracy for item 6 is: 0.7314814814814815\n"
     ]
    }
   ],
   "source": [
    "acc6 = accuracy_score(perla_df['I6'], perla_df['PI6'])\n",
    "print(\"The accuracy for item 6 is: \" + str(acc6))"
   ]
  },
  {
   "cell_type": "code",
   "execution_count": 91,
   "metadata": {},
   "outputs": [
    {
     "data": {
      "image/png": "[encoded data removed]",
      "text/plain": [
       "<Figure size 432x288 with 2 Axes>"
      ]
     },
     "metadata": {
      "needs_background": "light"
     },
     "output_type": "display_data"
    }
   ],
   "source": [
    "confusion_matrix_item7 = pd.crosstab(perla_df['I7'], \n",
    "                               perla_df['PI7'], \n",
    "                               rownames=['Item 7'], \n",
    "                               colnames=['Predicted I7'])\n",
    "ax7 = plt.subplot()\n",
    "sns.heatmap(confusion_matrix_item7, annot=True, ax = ax7)\n",
    "ax7.set_title('Confusion Matrix Item 7');"
   ]
  },
  {
   "cell_type": "code",
   "execution_count": 92,
   "metadata": {},
   "outputs": [
    {
     "name": "stdout",
     "output_type": "stream",
     "text": [
      "The accuracy for item 7 is: 0.5740740740740741\n"
     ]
    }
   ],
   "source": [
    "acc7 = accuracy_score(perla_df['I7'], perla_df['PI7'])\n",
    "print(\"The accuracy for item 7 is: \" + str(acc7))"
   ]
  },
  {
   "cell_type": "code",
   "execution_count": 93,
   "metadata": {},
   "outputs": [
    {
     "data": {
      "image/png": "[encoded data removed]",
      "text/plain": [
       "<Figure size 432x288 with 2 Axes>"
      ]
     },
     "metadata": {
      "needs_background": "light"
     },
     "output_type": "display_data"
    }
   ],
   "source": [
    "confusion_matrix_item8 = pd.crosstab(perla_df['I8'], \n",
    "                               perla_df['PI8'], \n",
    "                               rownames=['Item 8'], \n",
    "                               colnames=['Predicted I8'])\n",
    "ax8 = plt.subplot()\n",
    "sns.heatmap(confusion_matrix_item8, annot=True, ax = ax8)\n",
    "ax8.set_title('Confusion Matrix Item 8');"
   ]
  },
  {
   "cell_type": "code",
   "execution_count": 94,
   "metadata": {},
   "outputs": [
    {
     "name": "stdout",
     "output_type": "stream",
     "text": [
      "The accuracy for item 8 is: 0.6574074074074074\n"
     ]
    }
   ],
   "source": [
    "acc8 = accuracy_score(perla_df['I8'], perla_df['PI8'])\n",
    "print(\"The accuracy for item 8 is: \" + str(acc8))"
   ]
  },
  {
   "cell_type": "code",
   "execution_count": 95,
   "metadata": {},
   "outputs": [
    {
     "data": {
      "image/png": "[encoded data removed]",
      "text/plain": [
       "<Figure size 432x288 with 2 Axes>"
      ]
     },
     "metadata": {
      "needs_background": "light"
     },
     "output_type": "display_data"
    }
   ],
   "source": [
    "confusion_matrix_item9 = pd.crosstab(perla_df['I9'], \n",
    "                               perla_df['PI9'], \n",
    "                               rownames=['Item 9'], \n",
    "                               colnames=['Predicted I9'])\n",
    "ax9 = plt.subplot()\n",
    "sns.heatmap(confusion_matrix_item9, annot=True, ax = ax9)\n",
    "ax9.set_title('Confusion Matrix Item 9');"
   ]
  },
  {
   "cell_type": "code",
   "execution_count": 96,
   "metadata": {},
   "outputs": [
    {
     "name": "stdout",
     "output_type": "stream",
     "text": [
      "The accuracy for item 9 is: 0.9166666666666666\n"
     ]
    }
   ],
   "source": [
    "acc9 = accuracy_score(perla_df['I9'], perla_df['PI9'])\n",
    "print(\"The accuracy for item 9 is: \" + str(acc9))"
   ]
  },
  {
   "cell_type": "code",
   "execution_count": 99,
   "metadata": {},
   "outputs": [],
   "source": [
    "plt.rcParams.update({'font.size': 12})"
   ]
  },
  {
   "cell_type": "code",
   "execution_count": 100,
   "metadata": {},
   "outputs": [
    {
     "data": {
      "image/png": "[encoded data removed]",
      "text/plain": [
       "<Figure size 432x288 with 2 Axes>"
      ]
     },
     "metadata": {
      "needs_background": "light"
     },
     "output_type": "display_data"
    }
   ],
   "source": [
    "confusion_matrix_PHQ9 = pd.crosstab(perla_df['PHQ9'], \n",
    "                               perla_df['PPHQ9'], \n",
    "                               rownames=['PHQ9'], \n",
    "                               colnames=['Predicted PHQ9'])\n",
    "ax10 = plt.subplot()\n",
    "sns.heatmap(confusion_matrix_PHQ9, annot=True, ax = ax10)\n",
    "ax10.set_title('Confusion Matrix PHQ9');"
   ]
  },
  {
   "cell_type": "code",
   "execution_count": 98,
   "metadata": {},
   "outputs": [
    {
     "name": "stdout",
     "output_type": "stream",
     "text": [
      "The accuracy for PHQ9 is: 0.9166666666666666\n"
     ]
    }
   ],
   "source": [
    "acc10 = accuracy_score(perla_df['PHQ9'], perla_df['PPHQ9'])\n",
    "print(\"The accuracy for PHQ9 is: \" + str(acc9))"
   ]
  },
  {
   "cell_type": "code",
   "execution_count": null,
   "metadata": {},
   "outputs": [],
   "source": []
  }
 ],
 "metadata": {
  "kernelspec": {
   "display_name": "Python 3",
   "language": "python",
   "name": "python3"
  },
  "language_info": {
   "codemirror_mode": {
    "name": "ipython",
    "version": 3
   },
   "file_extension": ".py",
   "mimetype": "text/x-python",
   "name": "python",
   "nbconvert_exporter": "python",
   "pygments_lexer": "ipython3",
   "version": "3.7.3"
  }
 },
 "nbformat": 4,
 "nbformat_minor": 2
}
