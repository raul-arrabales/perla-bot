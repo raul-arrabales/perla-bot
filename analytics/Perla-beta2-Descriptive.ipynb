{
 "cells": [
  {
   "cell_type": "markdown",
   "metadata": {},
   "source": [
    "# Perla Bot | Analytics\n",
    "## Dataset exploration and descriptive analysis\n",
    "### Perla beta 2, Aug 2020, raul@psicobotica.com \n",
    "\n",
    "<hr>\n",
    "About Perla: <a herf=\"https://www.psicobotica.com/productos/psicologia-clinica/psicobotica-perla/\">Perla Homepage at Psicobōtica</a>\n",
    "<hr> \n"
   ]
  },
  {
   "cell_type": "markdown",
   "metadata": {},
   "source": [
    "## Anonymized dataset load from file\n",
    "(direct load from github)\n",
    "\n"
   ]
  },
  {
   "cell_type": "code",
   "execution_count": 81,
   "metadata": {},
   "outputs": [],
   "source": [
    "# Loading the table (CSV)\n",
    "\n",
    "import pandas as pd \n",
    "\n",
    "# Using beta 2 dataset 3 version: \n",
    "perla_dataset_path = \"https://raw.githubusercontent.com/raul-arrabales/perla-bot/master/data/Perla-beta2-ds3-anon.csv\"\n",
    "\n",
    "perla_df = pd.read_csv(perla_dataset_path, header=0, delimiter=\";\") "
   ]
  },
  {
   "cell_type": "code",
   "execution_count": 82,
   "metadata": {},
   "outputs": [
    {
     "data": {
      "text/html": [
       "<div>\n",
       "<style scoped>\n",
       "    .dataframe tbody tr th:only-of-type {\n",
       "        vertical-align: middle;\n",
       "    }\n",
       "\n",
       "    .dataframe tbody tr th {\n",
       "        vertical-align: top;\n",
       "    }\n",
       "\n",
       "    .dataframe thead th {\n",
       "        text-align: right;\n",
       "    }\n",
       "</style>\n",
       "<table border=\"1\" class=\"dataframe\">\n",
       "  <thead>\n",
       "    <tr style=\"text-align: right;\">\n",
       "      <th></th>\n",
       "      <th>PI1</th>\n",
       "      <th>PI2</th>\n",
       "      <th>PI3</th>\n",
       "      <th>PI4</th>\n",
       "      <th>PI5</th>\n",
       "      <th>PI6</th>\n",
       "      <th>PI7</th>\n",
       "      <th>PI8</th>\n",
       "      <th>PI9</th>\n",
       "      <th>PPHQ9</th>\n",
       "      <th>...</th>\n",
       "      <th>I4</th>\n",
       "      <th>I5</th>\n",
       "      <th>I6</th>\n",
       "      <th>I7</th>\n",
       "      <th>I8</th>\n",
       "      <th>I9</th>\n",
       "      <th>Gender</th>\n",
       "      <th>Age</th>\n",
       "      <th>Code</th>\n",
       "      <th>Delay</th>\n",
       "    </tr>\n",
       "  </thead>\n",
       "  <tbody>\n",
       "    <tr>\n",
       "      <th>0</th>\n",
       "      <td>0</td>\n",
       "      <td>1</td>\n",
       "      <td>0</td>\n",
       "      <td>2</td>\n",
       "      <td>0</td>\n",
       "      <td>0</td>\n",
       "      <td>0</td>\n",
       "      <td>0</td>\n",
       "      <td>0</td>\n",
       "      <td>3</td>\n",
       "      <td>...</td>\n",
       "      <td>2</td>\n",
       "      <td>0</td>\n",
       "      <td>0</td>\n",
       "      <td>0</td>\n",
       "      <td>0</td>\n",
       "      <td>0</td>\n",
       "      <td>2</td>\n",
       "      <td>44</td>\n",
       "      <td>4ba596c4aefd8188d00162bfef57967c</td>\n",
       "      <td>0</td>\n",
       "    </tr>\n",
       "    <tr>\n",
       "      <th>1</th>\n",
       "      <td>0</td>\n",
       "      <td>3</td>\n",
       "      <td>3</td>\n",
       "      <td>3</td>\n",
       "      <td>0</td>\n",
       "      <td>3</td>\n",
       "      <td>0</td>\n",
       "      <td>0</td>\n",
       "      <td>0</td>\n",
       "      <td>12</td>\n",
       "      <td>...</td>\n",
       "      <td>3</td>\n",
       "      <td>0</td>\n",
       "      <td>3</td>\n",
       "      <td>0</td>\n",
       "      <td>0</td>\n",
       "      <td>0</td>\n",
       "      <td>1</td>\n",
       "      <td>43</td>\n",
       "      <td>fef2bf388aa21eace80757369757689c</td>\n",
       "      <td>1</td>\n",
       "    </tr>\n",
       "    <tr>\n",
       "      <th>2</th>\n",
       "      <td>1</td>\n",
       "      <td>1</td>\n",
       "      <td>1</td>\n",
       "      <td>1</td>\n",
       "      <td>1</td>\n",
       "      <td>0</td>\n",
       "      <td>0</td>\n",
       "      <td>0</td>\n",
       "      <td>0</td>\n",
       "      <td>5</td>\n",
       "      <td>...</td>\n",
       "      <td>1</td>\n",
       "      <td>0</td>\n",
       "      <td>0</td>\n",
       "      <td>0</td>\n",
       "      <td>0</td>\n",
       "      <td>0</td>\n",
       "      <td>2</td>\n",
       "      <td>39</td>\n",
       "      <td>00feb0b1986f985dab9ba216069c7bfe</td>\n",
       "      <td>2</td>\n",
       "    </tr>\n",
       "    <tr>\n",
       "      <th>3</th>\n",
       "      <td>0</td>\n",
       "      <td>0</td>\n",
       "      <td>1</td>\n",
       "      <td>0</td>\n",
       "      <td>0</td>\n",
       "      <td>0</td>\n",
       "      <td>1</td>\n",
       "      <td>0</td>\n",
       "      <td>0</td>\n",
       "      <td>2</td>\n",
       "      <td>...</td>\n",
       "      <td>1</td>\n",
       "      <td>0</td>\n",
       "      <td>0</td>\n",
       "      <td>0</td>\n",
       "      <td>0</td>\n",
       "      <td>0</td>\n",
       "      <td>2</td>\n",
       "      <td>37</td>\n",
       "      <td>b712daeaf10b3aac08eb2a88bae125eb</td>\n",
       "      <td>1</td>\n",
       "    </tr>\n",
       "    <tr>\n",
       "      <th>4</th>\n",
       "      <td>0</td>\n",
       "      <td>0</td>\n",
       "      <td>0</td>\n",
       "      <td>1</td>\n",
       "      <td>0</td>\n",
       "      <td>1</td>\n",
       "      <td>0</td>\n",
       "      <td>0</td>\n",
       "      <td>0</td>\n",
       "      <td>2</td>\n",
       "      <td>...</td>\n",
       "      <td>1</td>\n",
       "      <td>0</td>\n",
       "      <td>1</td>\n",
       "      <td>0</td>\n",
       "      <td>0</td>\n",
       "      <td>0</td>\n",
       "      <td>1</td>\n",
       "      <td>43</td>\n",
       "      <td>608af5455da8c250a87f81a5ed5c1942</td>\n",
       "      <td>1</td>\n",
       "    </tr>\n",
       "  </tbody>\n",
       "</table>\n",
       "<p>5 rows × 24 columns</p>\n",
       "</div>"
      ],
      "text/plain": [
       "   PI1  PI2  PI3  PI4  PI5  PI6  PI7  PI8  PI9  PPHQ9  ...  I4  I5  I6  I7  \\\n",
       "0    0    1    0    2    0    0    0    0    0      3  ...   2   0   0   0   \n",
       "1    0    3    3    3    0    3    0    0    0     12  ...   3   0   3   0   \n",
       "2    1    1    1    1    1    0    0    0    0      5  ...   1   0   0   0   \n",
       "3    0    0    1    0    0    0    1    0    0      2  ...   1   0   0   0   \n",
       "4    0    0    0    1    0    1    0    0    0      2  ...   1   0   1   0   \n",
       "\n",
       "   I8  I9  Gender  Age                              Code  Delay  \n",
       "0   0   0       2   44  4ba596c4aefd8188d00162bfef57967c      0  \n",
       "1   0   0       1   43  fef2bf388aa21eace80757369757689c      1  \n",
       "2   0   0       2   39  00feb0b1986f985dab9ba216069c7bfe      2  \n",
       "3   0   0       2   37  b712daeaf10b3aac08eb2a88bae125eb      1  \n",
       "4   0   0       1   43  608af5455da8c250a87f81a5ed5c1942      1  \n",
       "\n",
       "[5 rows x 24 columns]"
      ]
     },
     "execution_count": 82,
     "metadata": {},
     "output_type": "execute_result"
    }
   ],
   "source": [
    "# Checking data load\n",
    "perla_df.head()"
   ]
  },
  {
   "cell_type": "code",
   "execution_count": 83,
   "metadata": {},
   "outputs": [
    {
     "data": {
      "text/plain": [
       "PI1        int64\n",
       "PI2        int64\n",
       "PI3        int64\n",
       "PI4        int64\n",
       "PI5        int64\n",
       "PI6        int64\n",
       "PI7        int64\n",
       "PI8        int64\n",
       "PI9        int64\n",
       "PPHQ9      int64\n",
       "PHQ9       int64\n",
       "I1         int64\n",
       "I2         int64\n",
       "I3         int64\n",
       "I4         int64\n",
       "I5         int64\n",
       "I6         int64\n",
       "I7         int64\n",
       "I8         int64\n",
       "I9         int64\n",
       "Gender     int64\n",
       "Age        int64\n",
       "Code      object\n",
       "Delay      int64\n",
       "dtype: object"
      ]
     },
     "execution_count": 83,
     "metadata": {},
     "output_type": "execute_result"
    }
   ],
   "source": [
    "# Checking types\n",
    "perla_df.dtypes"
   ]
  },
  {
   "cell_type": "code",
   "execution_count": 84,
   "metadata": {},
   "outputs": [
    {
     "data": {
      "text/plain": [
       "105"
      ]
     },
     "execution_count": 84,
     "metadata": {},
     "output_type": "execute_result"
    }
   ],
   "source": [
    "# Check number of qualified successfully anonymized participants\n",
    "perla_df.Code.count()"
   ]
  },
  {
   "cell_type": "code",
   "execution_count": 85,
   "metadata": {},
   "outputs": [
    {
     "data": {
      "text/html": [
       "<div>\n",
       "<style scoped>\n",
       "    .dataframe tbody tr th:only-of-type {\n",
       "        vertical-align: middle;\n",
       "    }\n",
       "\n",
       "    .dataframe tbody tr th {\n",
       "        vertical-align: top;\n",
       "    }\n",
       "\n",
       "    .dataframe thead th {\n",
       "        text-align: right;\n",
       "    }\n",
       "</style>\n",
       "<table border=\"1\" class=\"dataframe\">\n",
       "  <thead>\n",
       "    <tr style=\"text-align: right;\">\n",
       "      <th></th>\n",
       "      <th>PI1</th>\n",
       "      <th>PI2</th>\n",
       "      <th>PI3</th>\n",
       "      <th>PI4</th>\n",
       "      <th>PI5</th>\n",
       "      <th>PI6</th>\n",
       "      <th>PI7</th>\n",
       "      <th>PI8</th>\n",
       "      <th>PI9</th>\n",
       "      <th>PPHQ9</th>\n",
       "      <th>...</th>\n",
       "      <th>I4</th>\n",
       "      <th>I5</th>\n",
       "      <th>I6</th>\n",
       "      <th>I7</th>\n",
       "      <th>I8</th>\n",
       "      <th>I9</th>\n",
       "      <th>Gender</th>\n",
       "      <th>Age</th>\n",
       "      <th>Code</th>\n",
       "      <th>Delay</th>\n",
       "    </tr>\n",
       "  </thead>\n",
       "  <tbody>\n",
       "  </tbody>\n",
       "</table>\n",
       "<p>0 rows × 24 columns</p>\n",
       "</div>"
      ],
      "text/plain": [
       "Empty DataFrame\n",
       "Columns: [PI1, PI2, PI3, PI4, PI5, PI6, PI7, PI8, PI9, PPHQ9, PHQ9, I1, I2, I3, I4, I5, I6, I7, I8, I9, Gender, Age, Code, Delay]\n",
       "Index: []\n",
       "\n",
       "[0 rows x 24 columns]"
      ]
     },
     "execution_count": 85,
     "metadata": {},
     "output_type": "execute_result"
    }
   ],
   "source": [
    "# Check Nulls and NaNs\n",
    "perla_df[perla_df.isnull().any(axis=1)]"
   ]
  },
  {
   "cell_type": "markdown",
   "metadata": {},
   "source": [
    "## Adding PHQ-9 Cut-Off based depression labels"
   ]
  },
  {
   "cell_type": "code",
   "execution_count": 86,
   "metadata": {},
   "outputs": [],
   "source": [
    "import numpy as np"
   ]
  },
  {
   "cell_type": "code",
   "execution_count": 87,
   "metadata": {},
   "outputs": [],
   "source": [
    "# If PHQ-9 reported by Perla is equal or higher than 10, we say the participant is depressed according to Perla\n",
    "perla_df['PDepressed'] = np.where(perla_df['PPHQ9']>=10, 1, 0)"
   ]
  },
  {
   "cell_type": "code",
   "execution_count": 88,
   "metadata": {},
   "outputs": [],
   "source": [
    "# If PHQ-9 reported by PHQ-9 form is equal or higher than 10, we say the participant is depressed according to PHQ-9 form.\n",
    "perla_df['Depressed'] = np.where(perla_df['PHQ9']>=10, 1, 0)"
   ]
  },
  {
   "cell_type": "code",
   "execution_count": 89,
   "metadata": {},
   "outputs": [
    {
     "data": {
      "text/html": [
       "<div>\n",
       "<style scoped>\n",
       "    .dataframe tbody tr th:only-of-type {\n",
       "        vertical-align: middle;\n",
       "    }\n",
       "\n",
       "    .dataframe tbody tr th {\n",
       "        vertical-align: top;\n",
       "    }\n",
       "\n",
       "    .dataframe thead th {\n",
       "        text-align: right;\n",
       "    }\n",
       "</style>\n",
       "<table border=\"1\" class=\"dataframe\">\n",
       "  <thead>\n",
       "    <tr style=\"text-align: right;\">\n",
       "      <th></th>\n",
       "      <th>PI1</th>\n",
       "      <th>PI2</th>\n",
       "      <th>PI3</th>\n",
       "      <th>PI4</th>\n",
       "      <th>PI5</th>\n",
       "      <th>PI6</th>\n",
       "      <th>PI7</th>\n",
       "      <th>PI8</th>\n",
       "      <th>PI9</th>\n",
       "      <th>PPHQ9</th>\n",
       "      <th>...</th>\n",
       "      <th>I6</th>\n",
       "      <th>I7</th>\n",
       "      <th>I8</th>\n",
       "      <th>I9</th>\n",
       "      <th>Gender</th>\n",
       "      <th>Age</th>\n",
       "      <th>Code</th>\n",
       "      <th>Delay</th>\n",
       "      <th>PDepressed</th>\n",
       "      <th>Depressed</th>\n",
       "    </tr>\n",
       "  </thead>\n",
       "  <tbody>\n",
       "    <tr>\n",
       "      <th>0</th>\n",
       "      <td>0</td>\n",
       "      <td>1</td>\n",
       "      <td>0</td>\n",
       "      <td>2</td>\n",
       "      <td>0</td>\n",
       "      <td>0</td>\n",
       "      <td>0</td>\n",
       "      <td>0</td>\n",
       "      <td>0</td>\n",
       "      <td>3</td>\n",
       "      <td>...</td>\n",
       "      <td>0</td>\n",
       "      <td>0</td>\n",
       "      <td>0</td>\n",
       "      <td>0</td>\n",
       "      <td>2</td>\n",
       "      <td>44</td>\n",
       "      <td>4ba596c4aefd8188d00162bfef57967c</td>\n",
       "      <td>0</td>\n",
       "      <td>0</td>\n",
       "      <td>0</td>\n",
       "    </tr>\n",
       "    <tr>\n",
       "      <th>1</th>\n",
       "      <td>0</td>\n",
       "      <td>3</td>\n",
       "      <td>3</td>\n",
       "      <td>3</td>\n",
       "      <td>0</td>\n",
       "      <td>3</td>\n",
       "      <td>0</td>\n",
       "      <td>0</td>\n",
       "      <td>0</td>\n",
       "      <td>12</td>\n",
       "      <td>...</td>\n",
       "      <td>3</td>\n",
       "      <td>0</td>\n",
       "      <td>0</td>\n",
       "      <td>0</td>\n",
       "      <td>1</td>\n",
       "      <td>43</td>\n",
       "      <td>fef2bf388aa21eace80757369757689c</td>\n",
       "      <td>1</td>\n",
       "      <td>1</td>\n",
       "      <td>1</td>\n",
       "    </tr>\n",
       "    <tr>\n",
       "      <th>2</th>\n",
       "      <td>1</td>\n",
       "      <td>1</td>\n",
       "      <td>1</td>\n",
       "      <td>1</td>\n",
       "      <td>1</td>\n",
       "      <td>0</td>\n",
       "      <td>0</td>\n",
       "      <td>0</td>\n",
       "      <td>0</td>\n",
       "      <td>5</td>\n",
       "      <td>...</td>\n",
       "      <td>0</td>\n",
       "      <td>0</td>\n",
       "      <td>0</td>\n",
       "      <td>0</td>\n",
       "      <td>2</td>\n",
       "      <td>39</td>\n",
       "      <td>00feb0b1986f985dab9ba216069c7bfe</td>\n",
       "      <td>2</td>\n",
       "      <td>0</td>\n",
       "      <td>0</td>\n",
       "    </tr>\n",
       "    <tr>\n",
       "      <th>3</th>\n",
       "      <td>0</td>\n",
       "      <td>0</td>\n",
       "      <td>1</td>\n",
       "      <td>0</td>\n",
       "      <td>0</td>\n",
       "      <td>0</td>\n",
       "      <td>1</td>\n",
       "      <td>0</td>\n",
       "      <td>0</td>\n",
       "      <td>2</td>\n",
       "      <td>...</td>\n",
       "      <td>0</td>\n",
       "      <td>0</td>\n",
       "      <td>0</td>\n",
       "      <td>0</td>\n",
       "      <td>2</td>\n",
       "      <td>37</td>\n",
       "      <td>b712daeaf10b3aac08eb2a88bae125eb</td>\n",
       "      <td>1</td>\n",
       "      <td>0</td>\n",
       "      <td>0</td>\n",
       "    </tr>\n",
       "    <tr>\n",
       "      <th>4</th>\n",
       "      <td>0</td>\n",
       "      <td>0</td>\n",
       "      <td>0</td>\n",
       "      <td>1</td>\n",
       "      <td>0</td>\n",
       "      <td>1</td>\n",
       "      <td>0</td>\n",
       "      <td>0</td>\n",
       "      <td>0</td>\n",
       "      <td>2</td>\n",
       "      <td>...</td>\n",
       "      <td>1</td>\n",
       "      <td>0</td>\n",
       "      <td>0</td>\n",
       "      <td>0</td>\n",
       "      <td>1</td>\n",
       "      <td>43</td>\n",
       "      <td>608af5455da8c250a87f81a5ed5c1942</td>\n",
       "      <td>1</td>\n",
       "      <td>0</td>\n",
       "      <td>0</td>\n",
       "    </tr>\n",
       "  </tbody>\n",
       "</table>\n",
       "<p>5 rows × 26 columns</p>\n",
       "</div>"
      ],
      "text/plain": [
       "   PI1  PI2  PI3  PI4  PI5  PI6  PI7  PI8  PI9  PPHQ9  ...  I6  I7  I8  I9  \\\n",
       "0    0    1    0    2    0    0    0    0    0      3  ...   0   0   0   0   \n",
       "1    0    3    3    3    0    3    0    0    0     12  ...   3   0   0   0   \n",
       "2    1    1    1    1    1    0    0    0    0      5  ...   0   0   0   0   \n",
       "3    0    0    1    0    0    0    1    0    0      2  ...   0   0   0   0   \n",
       "4    0    0    0    1    0    1    0    0    0      2  ...   1   0   0   0   \n",
       "\n",
       "   Gender  Age                              Code  Delay  PDepressed  Depressed  \n",
       "0       2   44  4ba596c4aefd8188d00162bfef57967c      0           0          0  \n",
       "1       1   43  fef2bf388aa21eace80757369757689c      1           1          1  \n",
       "2       2   39  00feb0b1986f985dab9ba216069c7bfe      2           0          0  \n",
       "3       2   37  b712daeaf10b3aac08eb2a88bae125eb      1           0          0  \n",
       "4       1   43  608af5455da8c250a87f81a5ed5c1942      1           0          0  \n",
       "\n",
       "[5 rows x 26 columns]"
      ]
     },
     "execution_count": 89,
     "metadata": {},
     "output_type": "execute_result"
    }
   ],
   "source": [
    "perla_df.head()"
   ]
  },
  {
   "cell_type": "markdown",
   "metadata": {},
   "source": [
    "## Dataset stats"
   ]
  },
  {
   "cell_type": "code",
   "execution_count": 90,
   "metadata": {},
   "outputs": [],
   "source": [
    "import matplotlib.pyplot as plt\n",
    "%matplotlib inline\n",
    "\n",
    "plt.rcParams.update({'font.size': 14})"
   ]
  },
  {
   "cell_type": "code",
   "execution_count": 91,
   "metadata": {},
   "outputs": [
    {
     "name": "stdout",
     "output_type": "stream",
     "text": [
      "Positive cases (Perla): 30 (28.57%)\n",
      "Positive cases (Form): 23 (21.90%)\n",
      "Negative cases (Perla): 75 (71.42%)\n",
      "Negative cases (Form): 82 (78.09%)\n"
     ]
    }
   ],
   "source": [
    "# Depression detection statistics \n",
    "\n",
    "numPosPerla = perla_df['PDepressed'].value_counts()[1]\n",
    "numPosForm = perla_df['Depressed'].value_counts()[1]\n",
    "numNegPerla = perla_df['PDepressed'].value_counts()[0]\n",
    "numNegForm = perla_df['Depressed'].value_counts()[0]\n",
    "\n",
    "ratioPosPerla = numPosPerla / perla_df['PDepressed'].count()\n",
    "ratioPosForm = numPosForm / perla_df['Depressed'].count()\n",
    "\n",
    "print(\"Positive cases (Perla): \" + str(numPosPerla) + \" (\" + str(ratioPosPerla*100)[0:5] + \"%)\")\n",
    "print(\"Positive cases (Form): \" + str(numPosForm) + \" (\" + str(ratioPosForm*100)[0:5] + \"%)\")\n",
    "print(\"Negative cases (Perla): \" + str(numNegPerla) + \" (\" + str((1-ratioPosPerla)*100)[0:5] + \"%)\" )\n",
    "print(\"Negative cases (Form): \" + str(numNegForm) + \" (\" + str((1-ratioPosForm)*100)[0:5] + \"%)\" )"
   ]
  },
  {
   "cell_type": "code",
   "execution_count": 92,
   "metadata": {},
   "outputs": [
    {
     "data": {
      "image/png": "[encoded data removed]",
      "text/plain": [
       "<Figure size 432x432 with 1 Axes>"
      ]
     },
     "metadata": {},
     "output_type": "display_data"
    }
   ],
   "source": [
    "# Class counts (Perla)\n",
    "labels = 'Negative (PHQ9 < 10)', 'Positive (PHQ9 >=10)'\n",
    "sizes = [numNegPerla, numPosPerla]\n",
    "explode = (0.05, 0.05)\n",
    "fig1, ax1 = plt.subplots(figsize=(6,6))\n",
    "ax1.pie(sizes, explode=explode, labels=labels, autopct='%1.1f%%',\n",
    "        shadow=True, startangle=90)\n",
    "ax1.axis('equal')\n",
    "fig1.suptitle('Depression cases according to Perla')\n",
    "plt.show()"
   ]
  },
  {
   "cell_type": "code",
   "execution_count": 93,
   "metadata": {},
   "outputs": [
    {
     "data": {
      "image/png": "[encoded data removed]",
      "text/plain": [
       "<Figure size 432x432 with 1 Axes>"
      ]
     },
     "metadata": {},
     "output_type": "display_data"
    }
   ],
   "source": [
    "# Class counts (Self-Report)\n",
    "labels = 'Negative (PHQ9 < 10)', 'Positive (PHQ9 >=10)'\n",
    "sizes = [numNegForm, numPosForm]\n",
    "explode = (0.05, 0.05)\n",
    "fig2, ax2 = plt.subplots(figsize=(6,6))\n",
    "ax2.pie(sizes, explode=explode, labels=labels, autopct='%1.1f%%',\n",
    "        shadow=True, startangle=90)\n",
    "ax2.axis('equal')\n",
    "fig2.suptitle('Depression cases according to Self-Report')\n",
    "plt.show()"
   ]
  },
  {
   "cell_type": "code",
   "execution_count": 94,
   "metadata": {},
   "outputs": [
    {
     "data": {
      "image/png": "[encoded data removed]",
      "text/plain": [
       "<Figure size 648x468 with 1 Axes>"
      ]
     },
     "metadata": {
      "needs_background": "light"
     },
     "output_type": "display_data"
    }
   ],
   "source": [
    "# Compare the two methods in the same bar chart\n",
    "\n",
    "labels = ['Positive (PHQ9 >=10)', 'Negative (PHQ9 < 10)']\n",
    "selfreport_values = [numPosForm, numNegForm]\n",
    "perla_values = [numPosPerla, numNegPerla]\n",
    "\n",
    "x = np.arange(len(labels))  # the label locations\n",
    "width = 0.35  # the width of the bars\n",
    "\n",
    "fig4, ax4 = plt.subplots(figsize=(9,6.5))\n",
    "rects1 = ax4.bar(x - width/2, selfreport_values, width, label='Self-Report')\n",
    "rects2 = ax4.bar(x + width/2, perla_values, width, label='Perla')\n",
    "\n",
    "ax4.set_ylabel('Number of Participants')\n",
    "ax4.set_title('Depression Cases by Method of Detection')\n",
    "ax4.set_xticks(x)\n",
    "ax4.set_xticklabels(labels)\n",
    "ax4.legend()\n",
    "\n",
    "def autolabel(rects):\n",
    "    \"\"\"Attach a text label above each bar in *rects*, displaying its height.\"\"\"\n",
    "    for rect in rects:\n",
    "        height = rect.get_height()\n",
    "        ax4.annotate('{}'.format(height),\n",
    "                    xy=(rect.get_x() + rect.get_width() / 2, height),\n",
    "                    xytext=(0, 3),  # 3 points vertical offset\n",
    "                    textcoords=\"offset points\",\n",
    "                    ha='center', va='bottom')\n",
    "                \n",
    "autolabel(rects1)\n",
    "autolabel(rects2)\n",
    "\n",
    "fig4.tight_layout()\n",
    "\n",
    "plt.show()"
   ]
  },
  {
   "cell_type": "markdown",
   "metadata": {},
   "source": [
    "## Distribution analysis"
   ]
  },
  {
   "cell_type": "code",
   "execution_count": 95,
   "metadata": {},
   "outputs": [],
   "source": [
    "from scipy import stats\n",
    "import seaborn as sns"
   ]
  },
  {
   "cell_type": "code",
   "execution_count": 96,
   "metadata": {},
   "outputs": [
    {
     "data": {
      "text/plain": [
       "Text(0.5, 1.0, 'Delay (days) between tests')"
      ]
     },
     "execution_count": 96,
     "metadata": {},
     "output_type": "execute_result"
    },
    {
     "data": {
      "image/png": "[encoded data removed]",
      "text/plain": [
       "<Figure size 432x288 with 1 Axes>"
      ]
     },
     "metadata": {
      "needs_background": "light"
     },
     "output_type": "display_data"
    }
   ],
   "source": [
    "# Delay distribution\n",
    "sns.distplot(perla_df[[\"Delay\"]], bins=15, kde=True).set_title('Delay (days) between tests')"
   ]
  },
  {
   "cell_type": "code",
   "execution_count": 97,
   "metadata": {},
   "outputs": [
    {
     "data": {
      "text/plain": [
       "Text(0.5, 1.0, 'Age Distribution')"
      ]
     },
     "execution_count": 97,
     "metadata": {},
     "output_type": "execute_result"
    },
    {
     "data": {
      "image/png": "[encoded data removed]",
      "text/plain": [
       "<Figure size 432x288 with 1 Axes>"
      ]
     },
     "metadata": {
      "needs_background": "light"
     },
     "output_type": "display_data"
    }
   ],
   "source": [
    "# Age distribution\n",
    "sns.distplot(perla_df[[\"Age\"]], bins=15, kde=True).set_title('Age Distribution')"
   ]
  },
  {
   "cell_type": "code",
   "execution_count": 98,
   "metadata": {},
   "outputs": [
    {
     "name": "stdout",
     "output_type": "stream",
     "text": [
      "Age mean is: 37.56190476190476\n",
      "Age std dev is: 9.862442170566348\n"
     ]
    }
   ],
   "source": [
    "# Age stats\n",
    "\n",
    "print(\"Age mean is: \" + str(perla_df[\"Age\"].mean()))\n",
    "print(\"Age std dev is: \" + str(perla_df[\"Age\"].std()))"
   ]
  },
  {
   "cell_type": "code",
   "execution_count": 99,
   "metadata": {},
   "outputs": [
    {
     "name": "stdout",
     "output_type": "stream",
     "text": [
      "Statistics=0.974, p=0.039\n",
      "Age distribution sample does not look Gaussian (reject H0)\n"
     ]
    }
   ],
   "source": [
    "# Normality test usign Shapiro-Wilk Test\n",
    "from scipy.stats import shapiro\n",
    "\n",
    "stat, p = shapiro(perla_df[\"Age\"])\n",
    "\n",
    "print('Statistics=%.3f, p=%.3f' % (stat, p))\n",
    "\n",
    "# interpret\n",
    "alpha = 0.05\n",
    "if p > alpha:\n",
    "    print('Age distribution looks Gaussian (fail to reject H0)')\n",
    "else:\n",
    "    print('Age distribution sample does not look Gaussian (reject H0)')\n"
   ]
  },
  {
   "cell_type": "code",
   "execution_count": 100,
   "metadata": {},
   "outputs": [
    {
     "name": "stdout",
     "output_type": "stream",
     "text": [
      "Statistics=3.386, p=0.184\n",
      "Age distribution sample looks Gaussian (fail to reject H0)\n"
     ]
    }
   ],
   "source": [
    "# Normality test usign D’Agostino’s K^2 Test\n",
    "from scipy.stats import normaltest \n",
    "\n",
    "stat, p = normaltest(perla_df[\"Age\"])\n",
    "print('Statistics=%.3f, p=%.3f' % (stat, p))\n",
    "\n",
    "# interpret\n",
    "alpha = 0.05\n",
    "if p > alpha:\n",
    "    print('Age distribution sample looks Gaussian (fail to reject H0)')\n",
    "else:\n",
    "    print('Sample does not look Gaussian (reject H0)')"
   ]
  },
  {
   "cell_type": "code",
   "execution_count": 101,
   "metadata": {},
   "outputs": [
    {
     "data": {
      "image/png": "[encoded data removed]",
      "text/plain": [
       "<Figure size 432x432 with 1 Axes>"
      ]
     },
     "metadata": {},
     "output_type": "display_data"
    }
   ],
   "source": [
    "# Gender distribution\n",
    "labels = 'Female', 'Male'\n",
    "sizes = [perla_df['Gender'].value_counts()[2], perla_df['Gender'].value_counts()[1]]\n",
    "explode = (0.05, 0.05)\n",
    "fig3, ax3 = plt.subplots(figsize=(6,6))\n",
    "ax3.pie(sizes, explode=explode, labels=labels, autopct='%1.1f%%',\n",
    "        shadow=True, startangle=90)\n",
    "ax3.axis('equal')\n",
    "fig3.suptitle('Gender Distribution')\n",
    "plt.show()"
   ]
  },
  {
   "cell_type": "markdown",
   "metadata": {},
   "source": [
    "## Experiment stats"
   ]
  },
  {
   "cell_type": "code",
   "execution_count": 104,
   "metadata": {},
   "outputs": [
    {
     "data": {
      "image/png": "[encoded data removed]",
      "text/plain": [
       "<Figure size 432x432 with 1 Axes>"
      ]
     },
     "metadata": {},
     "output_type": "display_data"
    }
   ],
   "source": [
    "numParticipants = 278 # Total number of participants in Aug2020 experiment\n",
    "numPartPerla = 278 # Number of participants who performed the Perla test\n",
    "numPartForm = 105 # Number of participants who additionally performed the PHQ-9 self-report\n",
    "\n",
    "fig5, ax5 = plt.subplots(figsize=(6,6))\n",
    "ax5.axis('equal')\n",
    "width = 0.3\n",
    "\n",
    "cm = plt.get_cmap(\"tab20c\")\n",
    "cout = cm(np.arange(3)*4)\n",
    "pie, _ = ax5.pie([numParticipants], radius=1, labels=list(['Participants']), colors=cout)\n",
    "plt.setp( pie, width=width, edgecolor='white')\n",
    "\n",
    "cin = cm(np.array([6,9,8]))\n",
    "labels = list(map(\"\".join, zip(list(['Only\\nPerla','PHQ-9']))))\n",
    "pie2, _ = ax5.pie([numParticipants-numPartForm,numPartForm], radius=1-width, labels=labels,\n",
    "                                      labeldistance=0.7, colors=cin)\n",
    "plt.setp( pie2, width=width, edgecolor='white')\n",
    "plt.show()\n"
   ]
  },
  {
   "cell_type": "code",
   "execution_count": 105,
   "metadata": {},
   "outputs": [
    {
     "name": "stdout",
     "output_type": "stream",
     "text": [
      "2.65 times more participants preferred Perla to traditional self-report.\n"
     ]
    }
   ],
   "source": [
    "print(\"{:.2f}\".format(numPartPerla/numPartForm) + \" times more participants preferred Perla to traditional self-report.\")"
   ]
  },
  {
   "cell_type": "markdown",
   "metadata": {},
   "source": [
    "## Save dataset with classes"
   ]
  },
  {
   "cell_type": "code",
   "execution_count": 106,
   "metadata": {},
   "outputs": [],
   "source": [
    "# Dataset with classification (both Perla and Form)\n",
    "perla_class_dataset_path = \"D:\\\\Dropbox-Array2001\\\\Dropbox\\\\DataSets\\\\Perla-Dataset\\\\Perla-beta2-ds3-classes.csv\"\n",
    "perla_df.to_csv(perla_class_dataset_path, sep=';', encoding='utf-8', index=False)"
   ]
  },
  {
   "cell_type": "code",
   "execution_count": null,
   "metadata": {},
   "outputs": [],
   "source": []
  }
 ],
 "metadata": {
  "kernelspec": {
   "display_name": "Python 3",
   "language": "python",
   "name": "python3"
  },
  "language_info": {
   "codemirror_mode": {
    "name": "ipython",
    "version": 3
   },
   "file_extension": ".py",
   "mimetype": "text/x-python",
   "name": "python",
   "nbconvert_exporter": "python",
   "pygments_lexer": "ipython3",
   "version": "3.7.3"
  }
 },
 "nbformat": 4,
 "nbformat_minor": 2
}
